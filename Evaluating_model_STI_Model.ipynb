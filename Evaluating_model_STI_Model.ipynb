{
  "nbformat": 4,
  "nbformat_minor": 0,
  "metadata": {
    "colab": {
      "provenance": [],
      "gpuType": "T4",
      "authorship_tag": "ABX9TyMHk65iDKNtsmQphKUrL5uK",
      "include_colab_link": true
    },
    "kernelspec": {
      "name": "python3",
      "display_name": "Python 3"
    },
    "language_info": {
      "name": "python"
    },
    "widgets": {
      "application/vnd.jupyter.widget-state+json": {
        "c3d2e9d46f9d4064b30a44649d7c212d": {
          "model_module": "@jupyter-widgets/controls",
          "model_name": "VBoxModel",
          "model_module_version": "1.5.0",
          "state": {
            "_dom_classes": [],
            "_model_module": "@jupyter-widgets/controls",
            "_model_module_version": "1.5.0",
            "_model_name": "VBoxModel",
            "_view_count": null,
            "_view_module": "@jupyter-widgets/controls",
            "_view_module_version": "1.5.0",
            "_view_name": "VBoxView",
            "box_style": "",
            "children": [
              "IPY_MODEL_030c1ee0b8364e3d9f952e23a140dc84"
            ],
            "layout": "IPY_MODEL_2fe7ac3cc1cb42fa8f0071f21005e475"
          }
        },
        "88dd4026aa0249f8b5daab037a5cdaa0": {
          "model_module": "@jupyter-widgets/controls",
          "model_name": "HTMLModel",
          "model_module_version": "1.5.0",
          "state": {
            "_dom_classes": [],
            "_model_module": "@jupyter-widgets/controls",
            "_model_module_version": "1.5.0",
            "_model_name": "HTMLModel",
            "_view_count": null,
            "_view_module": "@jupyter-widgets/controls",
            "_view_module_version": "1.5.0",
            "_view_name": "HTMLView",
            "description": "",
            "description_tooltip": null,
            "layout": "IPY_MODEL_9fbd602f3b8242b29fb2f3c4cef84232",
            "placeholder": "​",
            "style": "IPY_MODEL_f667b649a33e49af867b054961796890",
            "value": "<center> <img\nsrc=https://www.kaggle.com/static/images/site-logo.png\nalt='Kaggle'> <br> Create an API token from <a\nhref=\"https://www.kaggle.com/settings/account\" target=\"_blank\">your Kaggle\nsettings page</a> and paste it below along with your Kaggle username. <br> </center>"
          }
        },
        "9b6fd530980a44e48ba4c450457f4734": {
          "model_module": "@jupyter-widgets/controls",
          "model_name": "TextModel",
          "model_module_version": "1.5.0",
          "state": {
            "_dom_classes": [],
            "_model_module": "@jupyter-widgets/controls",
            "_model_module_version": "1.5.0",
            "_model_name": "TextModel",
            "_view_count": null,
            "_view_module": "@jupyter-widgets/controls",
            "_view_module_version": "1.5.0",
            "_view_name": "TextView",
            "continuous_update": true,
            "description": "Username:",
            "description_tooltip": null,
            "disabled": false,
            "layout": "IPY_MODEL_a4f4ec6d7e0a48f09544843afc76a203",
            "placeholder": "​",
            "style": "IPY_MODEL_94ffe08c736649b6b30b1bc15c78bfe6",
            "value": "dedemartey"
          }
        },
        "3c1ab5103bb74edaad9fd5ae77b0c943": {
          "model_module": "@jupyter-widgets/controls",
          "model_name": "PasswordModel",
          "model_module_version": "1.5.0",
          "state": {
            "_dom_classes": [],
            "_model_module": "@jupyter-widgets/controls",
            "_model_module_version": "1.5.0",
            "_model_name": "PasswordModel",
            "_view_count": null,
            "_view_module": "@jupyter-widgets/controls",
            "_view_module_version": "1.5.0",
            "_view_name": "PasswordView",
            "continuous_update": true,
            "description": "Token:",
            "description_tooltip": null,
            "disabled": false,
            "layout": "IPY_MODEL_902e50ed846f46e08ce71a4b03f1c5c4",
            "placeholder": "​",
            "style": "IPY_MODEL_543690dabe3b4ff8881faba95bec0cfd",
            "value": ""
          }
        },
        "39e594b0378a42d585dd47eaa180f259": {
          "model_module": "@jupyter-widgets/controls",
          "model_name": "ButtonModel",
          "model_module_version": "1.5.0",
          "state": {
            "_dom_classes": [],
            "_model_module": "@jupyter-widgets/controls",
            "_model_module_version": "1.5.0",
            "_model_name": "ButtonModel",
            "_view_count": null,
            "_view_module": "@jupyter-widgets/controls",
            "_view_module_version": "1.5.0",
            "_view_name": "ButtonView",
            "button_style": "",
            "description": "Login",
            "disabled": false,
            "icon": "",
            "layout": "IPY_MODEL_476b5269e80a437fa71e603a3db245e2",
            "style": "IPY_MODEL_ebb02c69b42743d3944ce37bf63f0eeb",
            "tooltip": ""
          }
        },
        "f002f9555dee4125a79aff18a6799c70": {
          "model_module": "@jupyter-widgets/controls",
          "model_name": "HTMLModel",
          "model_module_version": "1.5.0",
          "state": {
            "_dom_classes": [],
            "_model_module": "@jupyter-widgets/controls",
            "_model_module_version": "1.5.0",
            "_model_name": "HTMLModel",
            "_view_count": null,
            "_view_module": "@jupyter-widgets/controls",
            "_view_module_version": "1.5.0",
            "_view_name": "HTMLView",
            "description": "",
            "description_tooltip": null,
            "layout": "IPY_MODEL_dd07da96d34d49c493740d39ccde3b7e",
            "placeholder": "​",
            "style": "IPY_MODEL_57a88a946a154103bb15d2a28ec02c83",
            "value": "\n<b>Thank You</b></center>"
          }
        },
        "2fe7ac3cc1cb42fa8f0071f21005e475": {
          "model_module": "@jupyter-widgets/base",
          "model_name": "LayoutModel",
          "model_module_version": "1.2.0",
          "state": {
            "_model_module": "@jupyter-widgets/base",
            "_model_module_version": "1.2.0",
            "_model_name": "LayoutModel",
            "_view_count": null,
            "_view_module": "@jupyter-widgets/base",
            "_view_module_version": "1.2.0",
            "_view_name": "LayoutView",
            "align_content": null,
            "align_items": "center",
            "align_self": null,
            "border": null,
            "bottom": null,
            "display": "flex",
            "flex": null,
            "flex_flow": "column",
            "grid_area": null,
            "grid_auto_columns": null,
            "grid_auto_flow": null,
            "grid_auto_rows": null,
            "grid_column": null,
            "grid_gap": null,
            "grid_row": null,
            "grid_template_areas": null,
            "grid_template_columns": null,
            "grid_template_rows": null,
            "height": null,
            "justify_content": null,
            "justify_items": null,
            "left": null,
            "margin": null,
            "max_height": null,
            "max_width": null,
            "min_height": null,
            "min_width": null,
            "object_fit": null,
            "object_position": null,
            "order": null,
            "overflow": null,
            "overflow_x": null,
            "overflow_y": null,
            "padding": null,
            "right": null,
            "top": null,
            "visibility": null,
            "width": "50%"
          }
        },
        "9fbd602f3b8242b29fb2f3c4cef84232": {
          "model_module": "@jupyter-widgets/base",
          "model_name": "LayoutModel",
          "model_module_version": "1.2.0",
          "state": {
            "_model_module": "@jupyter-widgets/base",
            "_model_module_version": "1.2.0",
            "_model_name": "LayoutModel",
            "_view_count": null,
            "_view_module": "@jupyter-widgets/base",
            "_view_module_version": "1.2.0",
            "_view_name": "LayoutView",
            "align_content": null,
            "align_items": null,
            "align_self": null,
            "border": null,
            "bottom": null,
            "display": null,
            "flex": null,
            "flex_flow": null,
            "grid_area": null,
            "grid_auto_columns": null,
            "grid_auto_flow": null,
            "grid_auto_rows": null,
            "grid_column": null,
            "grid_gap": null,
            "grid_row": null,
            "grid_template_areas": null,
            "grid_template_columns": null,
            "grid_template_rows": null,
            "height": null,
            "justify_content": null,
            "justify_items": null,
            "left": null,
            "margin": null,
            "max_height": null,
            "max_width": null,
            "min_height": null,
            "min_width": null,
            "object_fit": null,
            "object_position": null,
            "order": null,
            "overflow": null,
            "overflow_x": null,
            "overflow_y": null,
            "padding": null,
            "right": null,
            "top": null,
            "visibility": null,
            "width": null
          }
        },
        "f667b649a33e49af867b054961796890": {
          "model_module": "@jupyter-widgets/controls",
          "model_name": "DescriptionStyleModel",
          "model_module_version": "1.5.0",
          "state": {
            "_model_module": "@jupyter-widgets/controls",
            "_model_module_version": "1.5.0",
            "_model_name": "DescriptionStyleModel",
            "_view_count": null,
            "_view_module": "@jupyter-widgets/base",
            "_view_module_version": "1.2.0",
            "_view_name": "StyleView",
            "description_width": ""
          }
        },
        "a4f4ec6d7e0a48f09544843afc76a203": {
          "model_module": "@jupyter-widgets/base",
          "model_name": "LayoutModel",
          "model_module_version": "1.2.0",
          "state": {
            "_model_module": "@jupyter-widgets/base",
            "_model_module_version": "1.2.0",
            "_model_name": "LayoutModel",
            "_view_count": null,
            "_view_module": "@jupyter-widgets/base",
            "_view_module_version": "1.2.0",
            "_view_name": "LayoutView",
            "align_content": null,
            "align_items": null,
            "align_self": null,
            "border": null,
            "bottom": null,
            "display": null,
            "flex": null,
            "flex_flow": null,
            "grid_area": null,
            "grid_auto_columns": null,
            "grid_auto_flow": null,
            "grid_auto_rows": null,
            "grid_column": null,
            "grid_gap": null,
            "grid_row": null,
            "grid_template_areas": null,
            "grid_template_columns": null,
            "grid_template_rows": null,
            "height": null,
            "justify_content": null,
            "justify_items": null,
            "left": null,
            "margin": null,
            "max_height": null,
            "max_width": null,
            "min_height": null,
            "min_width": null,
            "object_fit": null,
            "object_position": null,
            "order": null,
            "overflow": null,
            "overflow_x": null,
            "overflow_y": null,
            "padding": null,
            "right": null,
            "top": null,
            "visibility": null,
            "width": null
          }
        },
        "94ffe08c736649b6b30b1bc15c78bfe6": {
          "model_module": "@jupyter-widgets/controls",
          "model_name": "DescriptionStyleModel",
          "model_module_version": "1.5.0",
          "state": {
            "_model_module": "@jupyter-widgets/controls",
            "_model_module_version": "1.5.0",
            "_model_name": "DescriptionStyleModel",
            "_view_count": null,
            "_view_module": "@jupyter-widgets/base",
            "_view_module_version": "1.2.0",
            "_view_name": "StyleView",
            "description_width": ""
          }
        },
        "902e50ed846f46e08ce71a4b03f1c5c4": {
          "model_module": "@jupyter-widgets/base",
          "model_name": "LayoutModel",
          "model_module_version": "1.2.0",
          "state": {
            "_model_module": "@jupyter-widgets/base",
            "_model_module_version": "1.2.0",
            "_model_name": "LayoutModel",
            "_view_count": null,
            "_view_module": "@jupyter-widgets/base",
            "_view_module_version": "1.2.0",
            "_view_name": "LayoutView",
            "align_content": null,
            "align_items": null,
            "align_self": null,
            "border": null,
            "bottom": null,
            "display": null,
            "flex": null,
            "flex_flow": null,
            "grid_area": null,
            "grid_auto_columns": null,
            "grid_auto_flow": null,
            "grid_auto_rows": null,
            "grid_column": null,
            "grid_gap": null,
            "grid_row": null,
            "grid_template_areas": null,
            "grid_template_columns": null,
            "grid_template_rows": null,
            "height": null,
            "justify_content": null,
            "justify_items": null,
            "left": null,
            "margin": null,
            "max_height": null,
            "max_width": null,
            "min_height": null,
            "min_width": null,
            "object_fit": null,
            "object_position": null,
            "order": null,
            "overflow": null,
            "overflow_x": null,
            "overflow_y": null,
            "padding": null,
            "right": null,
            "top": null,
            "visibility": null,
            "width": null
          }
        },
        "543690dabe3b4ff8881faba95bec0cfd": {
          "model_module": "@jupyter-widgets/controls",
          "model_name": "DescriptionStyleModel",
          "model_module_version": "1.5.0",
          "state": {
            "_model_module": "@jupyter-widgets/controls",
            "_model_module_version": "1.5.0",
            "_model_name": "DescriptionStyleModel",
            "_view_count": null,
            "_view_module": "@jupyter-widgets/base",
            "_view_module_version": "1.2.0",
            "_view_name": "StyleView",
            "description_width": ""
          }
        },
        "476b5269e80a437fa71e603a3db245e2": {
          "model_module": "@jupyter-widgets/base",
          "model_name": "LayoutModel",
          "model_module_version": "1.2.0",
          "state": {
            "_model_module": "@jupyter-widgets/base",
            "_model_module_version": "1.2.0",
            "_model_name": "LayoutModel",
            "_view_count": null,
            "_view_module": "@jupyter-widgets/base",
            "_view_module_version": "1.2.0",
            "_view_name": "LayoutView",
            "align_content": null,
            "align_items": null,
            "align_self": null,
            "border": null,
            "bottom": null,
            "display": null,
            "flex": null,
            "flex_flow": null,
            "grid_area": null,
            "grid_auto_columns": null,
            "grid_auto_flow": null,
            "grid_auto_rows": null,
            "grid_column": null,
            "grid_gap": null,
            "grid_row": null,
            "grid_template_areas": null,
            "grid_template_columns": null,
            "grid_template_rows": null,
            "height": null,
            "justify_content": null,
            "justify_items": null,
            "left": null,
            "margin": null,
            "max_height": null,
            "max_width": null,
            "min_height": null,
            "min_width": null,
            "object_fit": null,
            "object_position": null,
            "order": null,
            "overflow": null,
            "overflow_x": null,
            "overflow_y": null,
            "padding": null,
            "right": null,
            "top": null,
            "visibility": null,
            "width": null
          }
        },
        "ebb02c69b42743d3944ce37bf63f0eeb": {
          "model_module": "@jupyter-widgets/controls",
          "model_name": "ButtonStyleModel",
          "model_module_version": "1.5.0",
          "state": {
            "_model_module": "@jupyter-widgets/controls",
            "_model_module_version": "1.5.0",
            "_model_name": "ButtonStyleModel",
            "_view_count": null,
            "_view_module": "@jupyter-widgets/base",
            "_view_module_version": "1.2.0",
            "_view_name": "StyleView",
            "button_color": null,
            "font_weight": ""
          }
        },
        "dd07da96d34d49c493740d39ccde3b7e": {
          "model_module": "@jupyter-widgets/base",
          "model_name": "LayoutModel",
          "model_module_version": "1.2.0",
          "state": {
            "_model_module": "@jupyter-widgets/base",
            "_model_module_version": "1.2.0",
            "_model_name": "LayoutModel",
            "_view_count": null,
            "_view_module": "@jupyter-widgets/base",
            "_view_module_version": "1.2.0",
            "_view_name": "LayoutView",
            "align_content": null,
            "align_items": null,
            "align_self": null,
            "border": null,
            "bottom": null,
            "display": null,
            "flex": null,
            "flex_flow": null,
            "grid_area": null,
            "grid_auto_columns": null,
            "grid_auto_flow": null,
            "grid_auto_rows": null,
            "grid_column": null,
            "grid_gap": null,
            "grid_row": null,
            "grid_template_areas": null,
            "grid_template_columns": null,
            "grid_template_rows": null,
            "height": null,
            "justify_content": null,
            "justify_items": null,
            "left": null,
            "margin": null,
            "max_height": null,
            "max_width": null,
            "min_height": null,
            "min_width": null,
            "object_fit": null,
            "object_position": null,
            "order": null,
            "overflow": null,
            "overflow_x": null,
            "overflow_y": null,
            "padding": null,
            "right": null,
            "top": null,
            "visibility": null,
            "width": null
          }
        },
        "57a88a946a154103bb15d2a28ec02c83": {
          "model_module": "@jupyter-widgets/controls",
          "model_name": "DescriptionStyleModel",
          "model_module_version": "1.5.0",
          "state": {
            "_model_module": "@jupyter-widgets/controls",
            "_model_module_version": "1.5.0",
            "_model_name": "DescriptionStyleModel",
            "_view_count": null,
            "_view_module": "@jupyter-widgets/base",
            "_view_module_version": "1.2.0",
            "_view_name": "StyleView",
            "description_width": ""
          }
        },
        "bd2192f7024e412e8080d953b9167a62": {
          "model_module": "@jupyter-widgets/controls",
          "model_name": "LabelModel",
          "model_module_version": "1.5.0",
          "state": {
            "_dom_classes": [],
            "_model_module": "@jupyter-widgets/controls",
            "_model_module_version": "1.5.0",
            "_model_name": "LabelModel",
            "_view_count": null,
            "_view_module": "@jupyter-widgets/controls",
            "_view_module_version": "1.5.0",
            "_view_name": "LabelView",
            "description": "",
            "description_tooltip": null,
            "layout": "IPY_MODEL_a4c6a9856b734547918ef331e309b9c5",
            "placeholder": "​",
            "style": "IPY_MODEL_33b28baf0e2d410898911478fdac65cb",
            "value": "Connecting..."
          }
        },
        "a4c6a9856b734547918ef331e309b9c5": {
          "model_module": "@jupyter-widgets/base",
          "model_name": "LayoutModel",
          "model_module_version": "1.2.0",
          "state": {
            "_model_module": "@jupyter-widgets/base",
            "_model_module_version": "1.2.0",
            "_model_name": "LayoutModel",
            "_view_count": null,
            "_view_module": "@jupyter-widgets/base",
            "_view_module_version": "1.2.0",
            "_view_name": "LayoutView",
            "align_content": null,
            "align_items": null,
            "align_self": null,
            "border": null,
            "bottom": null,
            "display": null,
            "flex": null,
            "flex_flow": null,
            "grid_area": null,
            "grid_auto_columns": null,
            "grid_auto_flow": null,
            "grid_auto_rows": null,
            "grid_column": null,
            "grid_gap": null,
            "grid_row": null,
            "grid_template_areas": null,
            "grid_template_columns": null,
            "grid_template_rows": null,
            "height": null,
            "justify_content": null,
            "justify_items": null,
            "left": null,
            "margin": null,
            "max_height": null,
            "max_width": null,
            "min_height": null,
            "min_width": null,
            "object_fit": null,
            "object_position": null,
            "order": null,
            "overflow": null,
            "overflow_x": null,
            "overflow_y": null,
            "padding": null,
            "right": null,
            "top": null,
            "visibility": null,
            "width": null
          }
        },
        "33b28baf0e2d410898911478fdac65cb": {
          "model_module": "@jupyter-widgets/controls",
          "model_name": "DescriptionStyleModel",
          "model_module_version": "1.5.0",
          "state": {
            "_model_module": "@jupyter-widgets/controls",
            "_model_module_version": "1.5.0",
            "_model_name": "DescriptionStyleModel",
            "_view_count": null,
            "_view_module": "@jupyter-widgets/base",
            "_view_module_version": "1.2.0",
            "_view_name": "StyleView",
            "description_width": ""
          }
        },
        "030c1ee0b8364e3d9f952e23a140dc84": {
          "model_module": "@jupyter-widgets/controls",
          "model_name": "LabelModel",
          "model_module_version": "1.5.0",
          "state": {
            "_dom_classes": [],
            "_model_module": "@jupyter-widgets/controls",
            "_model_module_version": "1.5.0",
            "_model_name": "LabelModel",
            "_view_count": null,
            "_view_module": "@jupyter-widgets/controls",
            "_view_module_version": "1.5.0",
            "_view_name": "LabelView",
            "description": "",
            "description_tooltip": null,
            "layout": "IPY_MODEL_8810d7f6d83149bda83c0dc2edbecd13",
            "placeholder": "​",
            "style": "IPY_MODEL_5f22d61bb4e1497a948aed1b933402ca",
            "value": "Kaggle credentials successfully validated."
          }
        },
        "8810d7f6d83149bda83c0dc2edbecd13": {
          "model_module": "@jupyter-widgets/base",
          "model_name": "LayoutModel",
          "model_module_version": "1.2.0",
          "state": {
            "_model_module": "@jupyter-widgets/base",
            "_model_module_version": "1.2.0",
            "_model_name": "LayoutModel",
            "_view_count": null,
            "_view_module": "@jupyter-widgets/base",
            "_view_module_version": "1.2.0",
            "_view_name": "LayoutView",
            "align_content": null,
            "align_items": null,
            "align_self": null,
            "border": null,
            "bottom": null,
            "display": null,
            "flex": null,
            "flex_flow": null,
            "grid_area": null,
            "grid_auto_columns": null,
            "grid_auto_flow": null,
            "grid_auto_rows": null,
            "grid_column": null,
            "grid_gap": null,
            "grid_row": null,
            "grid_template_areas": null,
            "grid_template_columns": null,
            "grid_template_rows": null,
            "height": null,
            "justify_content": null,
            "justify_items": null,
            "left": null,
            "margin": null,
            "max_height": null,
            "max_width": null,
            "min_height": null,
            "min_width": null,
            "object_fit": null,
            "object_position": null,
            "order": null,
            "overflow": null,
            "overflow_x": null,
            "overflow_y": null,
            "padding": null,
            "right": null,
            "top": null,
            "visibility": null,
            "width": null
          }
        },
        "5f22d61bb4e1497a948aed1b933402ca": {
          "model_module": "@jupyter-widgets/controls",
          "model_name": "DescriptionStyleModel",
          "model_module_version": "1.5.0",
          "state": {
            "_model_module": "@jupyter-widgets/controls",
            "_model_module_version": "1.5.0",
            "_model_name": "DescriptionStyleModel",
            "_view_count": null,
            "_view_module": "@jupyter-widgets/base",
            "_view_module_version": "1.2.0",
            "_view_name": "StyleView",
            "description_width": ""
          }
        }
      }
    },
    "accelerator": "GPU"
  },
  "cells": [
    {
      "cell_type": "markdown",
      "metadata": {
        "id": "view-in-github",
        "colab_type": "text"
      },
      "source": [
        "<a href=\"https://colab.research.google.com/github/PMartey/KaggleX-Project/blob/main/Evaluating_model_STI_Model.ipynb\" target=\"_parent\"><img src=\"https://colab.research.google.com/assets/colab-badge.svg\" alt=\"Open In Colab\"/></a>"
      ]
    },
    {
      "cell_type": "code",
      "execution_count": null,
      "metadata": {
        "id": "_0xk2itF2owl",
        "colab": {
          "base_uri": "https://localhost:8080/",
          "height": 84,
          "referenced_widgets": [
            "c3d2e9d46f9d4064b30a44649d7c212d",
            "88dd4026aa0249f8b5daab037a5cdaa0",
            "9b6fd530980a44e48ba4c450457f4734",
            "3c1ab5103bb74edaad9fd5ae77b0c943",
            "39e594b0378a42d585dd47eaa180f259",
            "f002f9555dee4125a79aff18a6799c70",
            "2fe7ac3cc1cb42fa8f0071f21005e475",
            "9fbd602f3b8242b29fb2f3c4cef84232",
            "f667b649a33e49af867b054961796890",
            "a4f4ec6d7e0a48f09544843afc76a203",
            "94ffe08c736649b6b30b1bc15c78bfe6",
            "902e50ed846f46e08ce71a4b03f1c5c4",
            "543690dabe3b4ff8881faba95bec0cfd",
            "476b5269e80a437fa71e603a3db245e2",
            "ebb02c69b42743d3944ce37bf63f0eeb",
            "dd07da96d34d49c493740d39ccde3b7e",
            "57a88a946a154103bb15d2a28ec02c83",
            "bd2192f7024e412e8080d953b9167a62",
            "a4c6a9856b734547918ef331e309b9c5",
            "33b28baf0e2d410898911478fdac65cb",
            "030c1ee0b8364e3d9f952e23a140dc84",
            "8810d7f6d83149bda83c0dc2edbecd13",
            "5f22d61bb4e1497a948aed1b933402ca"
          ]
        },
        "outputId": "f18dbdb4-c864-419c-d7b1-6708c6271a7c"
      },
      "outputs": [
        {
          "output_type": "display_data",
          "data": {
            "text/plain": [
              "VBox(children=(HTML(value='<center> <img\\nsrc=https://www.kaggle.com/static/images/site-logo.png\\nalt=\\'Kaggle…"
            ],
            "application/vnd.jupyter.widget-view+json": {
              "version_major": 2,
              "version_minor": 0,
              "model_id": "c3d2e9d46f9d4064b30a44649d7c212d"
            }
          },
          "metadata": {}
        },
        {
          "output_type": "stream",
          "name": "stdout",
          "text": [
            "Kaggle credentials set.\n",
            "Kaggle credentials successfully validated.\n"
          ]
        }
      ],
      "source": [
        "# IMPORTANT: SOME KAGGLE DATA SOURCES ARE PRIVATE\n",
        "# RUN THIS CELL IN ORDER TO IMPORT YOUR KAGGLE DATA SOURCES.\n",
        "import kagglehub\n",
        "kagglehub.login()\n"
      ]
    },
    {
      "cell_type": "code",
      "source": [
        "# Install Keras 3 last. See https://keras.io/getting_started/ for more details.\n",
        "!pip install -q -U keras-nlp\n",
        "!pip install -q -U keras>=3"
      ],
      "metadata": {
        "colab": {
          "base_uri": "https://localhost:8080/"
        },
        "id": "681ZRKWpDNvA",
        "outputId": "484cd02c-49f5-4c2f-a900-5b3dfcf9870d"
      },
      "execution_count": null,
      "outputs": [
        {
          "output_type": "stream",
          "name": "stdout",
          "text": [
            "\u001b[?25l   \u001b[90m━━━━━━━━━━━━━━━━━━━━━━━━━━━━━━━━━━━━━━━━\u001b[0m \u001b[32m0.0/644.1 kB\u001b[0m \u001b[31m?\u001b[0m eta \u001b[36m-:--:--\u001b[0m\r\u001b[2K   \u001b[91m━━━━━━━━━━━━━━━━━━━━━━━━━━━━━━━━━━━━━━━\u001b[0m\u001b[90m╺\u001b[0m \u001b[32m634.9/644.1 kB\u001b[0m \u001b[31m29.9 MB/s\u001b[0m eta \u001b[36m0:00:01\u001b[0m\r\u001b[2K   \u001b[90m━━━━━━━━━━━━━━━━━━━━━━━━━━━━━━━━━━━━━━━━\u001b[0m \u001b[32m644.1/644.1 kB\u001b[0m \u001b[31m17.4 MB/s\u001b[0m eta \u001b[36m0:00:00\u001b[0m\n",
            "\u001b[2K   \u001b[90m━━━━━━━━━━━━━━━━━━━━━━━━━━━━━━━━━━━━━━━━\u001b[0m \u001b[32m5.2/5.2 MB\u001b[0m \u001b[31m80.7 MB/s\u001b[0m eta \u001b[36m0:00:00\u001b[0m\n",
            "\u001b[2K   \u001b[90m━━━━━━━━━━━━━━━━━━━━━━━━━━━━━━━━━━━━━━━━\u001b[0m \u001b[32m615.3/615.3 MB\u001b[0m \u001b[31m2.8 MB/s\u001b[0m eta \u001b[36m0:00:00\u001b[0m\n",
            "\u001b[2K   \u001b[90m━━━━━━━━━━━━━━━━━━━━━━━━━━━━━━━━━━━━━━━━\u001b[0m \u001b[32m1.2/1.2 MB\u001b[0m \u001b[31m59.7 MB/s\u001b[0m eta \u001b[36m0:00:00\u001b[0m\n",
            "\u001b[2K   \u001b[90m━━━━━━━━━━━━━━━━━━━━━━━━━━━━━━━━━━━━━━━━\u001b[0m \u001b[32m5.5/5.5 MB\u001b[0m \u001b[31m106.9 MB/s\u001b[0m eta \u001b[36m0:00:00\u001b[0m\n",
            "\u001b[?25h\u001b[31mERROR: pip's dependency resolver does not currently take into account all the packages that are installed. This behaviour is the source of the following dependency conflicts.\n",
            "tf-keras 2.17.0 requires tensorflow<2.18,>=2.17, but you have tensorflow 2.18.0 which is incompatible.\u001b[0m\u001b[31m\n",
            "\u001b[0m"
          ]
        }
      ]
    },
    {
      "cell_type": "code",
      "source": [
        "import os\n",
        "os.environ[\"KERAS_BACKEND\"] = \"jax\" # you can also use tensorflow or torch\n",
        "os.environ[\"XLA_PYTHON_CLIENT_MEM_FRACTION\"] = \"1.00\" # avoid memory fragmentation on JAX backend.\n",
        "\n",
        "import keras\n",
        "import keras_nlp\n",
        "\n",
        "import numpy as np\n",
        "import pandas as pd"
      ],
      "metadata": {
        "id": "XYGIwJUbDVJ7"
      },
      "execution_count": null,
      "outputs": []
    },
    {
      "cell_type": "code",
      "source": [
        "# Load the fine tuned model that was just uploaded to Kaggle\n",
        "\n",
        "kaggle_username = \"dedemartey\"\n",
        "finetuned_model = keras_nlp.models.CausalLM.from_preset(f\"kaggle://{kaggle_username}/gemma/keras/stibot_my_gemma2_pt\")\n",
        "\n"
      ],
      "metadata": {
        "colab": {
          "base_uri": "https://localhost:8080/"
        },
        "id": "guEaXT2A4Ly0",
        "outputId": "101eb06a-3abc-4805-9eb7-8aa2fe968145"
      },
      "execution_count": null,
      "outputs": [
        {
          "output_type": "stream",
          "name": "stdout",
          "text": [
            "Downloading from https://www.kaggle.com/api/v1/models/dedemartey/gemma/keras/stibot_my_gemma2_pt/1/download/config.json...\n"
          ]
        },
        {
          "output_type": "stream",
          "name": "stderr",
          "text": [
            "100%|██████████| 785/785 [00:00<00:00, 687kB/s]\n"
          ]
        },
        {
          "output_type": "stream",
          "name": "stdout",
          "text": [
            "Downloading from https://www.kaggle.com/api/v1/models/dedemartey/gemma/keras/stibot_my_gemma2_pt/1/download/task.json...\n"
          ]
        },
        {
          "output_type": "stream",
          "name": "stderr",
          "text": [
            "100%|██████████| 2.91k/2.91k [00:00<00:00, 3.37MB/s]\n"
          ]
        },
        {
          "output_type": "stream",
          "name": "stdout",
          "text": [
            "Downloading from https://www.kaggle.com/api/v1/models/dedemartey/gemma/keras/stibot_my_gemma2_pt/1/download/assets/tokenizer/vocabulary.spm...\n"
          ]
        },
        {
          "output_type": "stream",
          "name": "stderr",
          "text": [
            "100%|██████████| 4.04M/4.04M [00:00<00:00, 9.28MB/s]\n"
          ]
        },
        {
          "output_type": "stream",
          "name": "stdout",
          "text": [
            "Downloading from https://www.kaggle.com/api/v1/models/dedemartey/gemma/keras/stibot_my_gemma2_pt/1/download/model.weights.h5...\n"
          ]
        },
        {
          "output_type": "stream",
          "name": "stderr",
          "text": [
            "100%|██████████| 9.34G/9.34G [03:47<00:00, 44.1MB/s]\n"
          ]
        }
      ]
    },
    {
      "cell_type": "markdown",
      "source": [
        "#Inference after fine-tuning  \n",
        "After fine-tuning, responses follow the instruction provided in the prompt.\n",
        "\n",
        "\n",
        "#Loss Harvesting Prompt"
      ],
      "metadata": {
        "id": "d_p0zEy9Ewmn"
      }
    },
    {
      "cell_type": "code",
      "source": [
        "test_df= pd.read_csv('/content/test1_data.csv')\n",
        "test_df.info()"
      ],
      "metadata": {
        "colab": {
          "base_uri": "https://localhost:8080/"
        },
        "id": "sSQJSymtIOTo",
        "outputId": "37ca964e-d27d-4554-f1d3-cc7b056de9d7"
      },
      "execution_count": null,
      "outputs": [
        {
          "output_type": "stream",
          "name": "stdout",
          "text": [
            "<class 'pandas.core.frame.DataFrame'>\n",
            "RangeIndex: 43 entries, 0 to 42\n",
            "Data columns (total 2 columns):\n",
            " #   Column    Non-Null Count  Dtype \n",
            "---  ------    --------------  ----- \n",
            " 0   question  43 non-null     object\n",
            " 1   answer    43 non-null     object\n",
            "dtypes: object(2)\n",
            "memory usage: 816.0+ bytes\n"
          ]
        }
      ]
    },
    {
      "cell_type": "code",
      "source": [
        "test_samp =test_df.sample(10)"
      ],
      "metadata": {
        "id": "NYEJA0sAbZxR"
      },
      "execution_count": null,
      "outputs": []
    },
    {
      "cell_type": "markdown",
      "source": [
        "3. Evaluate using Quantitative Metrics  \n",
        "BLEU Score: Measures the similarity between generated answers and reference answers by comparing n-grams. BLEU is widely used for translation and question-answering tasks, but note that it’s biased toward exact matches.  \n",
        "ROUGE Score: Compares overlapping n-grams, especially for longer text. ROUGE is particularly useful for assessing responses with more paraphrasing.  \n",
        "Exact Match (EM): Measures the percentage of predictions that exactly match the ground truth.  \n",
        "F1 Score: Useful when exact wording isn’t required. It’s a harmonic mean of precision and recall, especially effective for partial matches.   \n"
      ],
      "metadata": {
        "id": "2XeKeVHvQyhg"
      }
    },
    {
      "cell_type": "code",
      "source": [
        "# Example: Generate predictions for each question in the test set\n",
        "predictions = []\n",
        "for question in test_samp['question']:\n",
        "    generated_answer = finetuned_model.generate(question)\n",
        "    predictions.append(generated_answer)\n"
      ],
      "metadata": {
        "id": "kYJktnEVP-DC"
      },
      "execution_count": null,
      "outputs": []
    },
    {
      "cell_type": "code",
      "source": [
        "!pip install nltk"
      ],
      "metadata": {
        "colab": {
          "base_uri": "https://localhost:8080/"
        },
        "id": "_bmZbobBrofN",
        "outputId": "ec3e745a-2472-4e78-810d-4744bd4ee2bc"
      },
      "execution_count": null,
      "outputs": [
        {
          "output_type": "stream",
          "name": "stdout",
          "text": [
            "Requirement already satisfied: nltk in /usr/local/lib/python3.10/dist-packages (3.8.1)\n",
            "Requirement already satisfied: click in /usr/local/lib/python3.10/dist-packages (from nltk) (8.1.7)\n",
            "Requirement already satisfied: joblib in /usr/local/lib/python3.10/dist-packages (from nltk) (1.4.2)\n",
            "Requirement already satisfied: regex>=2021.8.3 in /usr/local/lib/python3.10/dist-packages (from nltk) (2024.9.11)\n",
            "Requirement already satisfied: tqdm in /usr/local/lib/python3.10/dist-packages (from nltk) (4.66.6)\n"
          ]
        }
      ]
    },
    {
      "cell_type": "code",
      "source": [
        "!pip install rouge_score"
      ],
      "metadata": {
        "colab": {
          "base_uri": "https://localhost:8080/"
        },
        "id": "k31AOMLFzwaH",
        "outputId": "c94b6129-5fcb-4761-f2d9-6ced696c1ebc"
      },
      "execution_count": null,
      "outputs": [
        {
          "output_type": "stream",
          "name": "stdout",
          "text": [
            "Collecting rouge_score\n",
            "  Downloading rouge_score-0.1.2.tar.gz (17 kB)\n",
            "  Preparing metadata (setup.py) ... \u001b[?25l\u001b[?25hdone\n",
            "Requirement already satisfied: absl-py in /usr/local/lib/python3.10/dist-packages (from rouge_score) (1.4.0)\n",
            "Requirement already satisfied: nltk in /usr/local/lib/python3.10/dist-packages (from rouge_score) (3.8.1)\n",
            "Requirement already satisfied: numpy in /usr/local/lib/python3.10/dist-packages (from rouge_score) (1.26.4)\n",
            "Requirement already satisfied: six>=1.14.0 in /usr/local/lib/python3.10/dist-packages (from rouge_score) (1.16.0)\n",
            "Requirement already satisfied: click in /usr/local/lib/python3.10/dist-packages (from nltk->rouge_score) (8.1.7)\n",
            "Requirement already satisfied: joblib in /usr/local/lib/python3.10/dist-packages (from nltk->rouge_score) (1.4.2)\n",
            "Requirement already satisfied: regex>=2021.8.3 in /usr/local/lib/python3.10/dist-packages (from nltk->rouge_score) (2024.9.11)\n",
            "Requirement already satisfied: tqdm in /usr/local/lib/python3.10/dist-packages (from nltk->rouge_score) (4.66.6)\n",
            "Building wheels for collected packages: rouge_score\n",
            "  Building wheel for rouge_score (setup.py) ... \u001b[?25l\u001b[?25hdone\n",
            "  Created wheel for rouge_score: filename=rouge_score-0.1.2-py3-none-any.whl size=24935 sha256=ea4e10cb6c20e0f89b696ac62aae00a19f9d5414fe89fb1f08d00797ae2df13a\n",
            "  Stored in directory: /root/.cache/pip/wheels/5f/dd/89/461065a73be61a532ff8599a28e9beef17985c9e9c31e541b4\n",
            "Successfully built rouge_score\n",
            "Installing collected packages: rouge_score\n",
            "Successfully installed rouge_score-0.1.2\n"
          ]
        }
      ]
    },
    {
      "cell_type": "code",
      "source": [
        "from nltk.translate.bleu_score import sentence_bleu, SmoothingFunction\n",
        "from rouge_score import rouge_scorer\n",
        "\n",
        "# Calculate BLEU and ROUGE for each generated answer\n",
        "bleu_scores = []\n",
        "# Remove the smoothing_function argument from RougeScorer initialization\n",
        "rouge = rouge_scorer.RougeScorer(['rouge1', 'rougeL'], use_stemmer=True)\n",
        "rouge_scores = []\n",
        "\n",
        "for ref, pred in zip(test_samp['answer'], predictions):\n",
        "    # Use smoothing function for BLEU calculation\n",
        "    bleu_scores.append(sentence_bleu([ref.split()], pred.split(), smoothing_function=SmoothingFunction().method1))\n",
        "    rouge_scores.append(rouge.score(ref, pred))"
      ],
      "metadata": {
        "id": "h_dizMZoQWKw"
      },
      "execution_count": null,
      "outputs": []
    },
    {
      "cell_type": "markdown",
      "source": [
        "# Reason for using the smoothing function\n",
        "\n",
        "If your model produces outputs that differ significantly from the reference answers, even if they capture the general idea, the BLEU score might still be low due to this lack of n-gram overlap. Here’s how you can handle it:\n",
        "\n",
        "Lower the n-gram order: Reduce the BLEU score calculation to 1-gram or 2-gram BLEU, which focuses more on individual word overlaps rather than multi-word phrases.\n",
        "\n",
        "Use a smoothing function: Applying smoothing (e.g., SmoothingFunction().method1 in NLTK) can help avoid zero scores, especially for shorter sentences or those with uncommon n-grams."
      ],
      "metadata": {
        "id": "_Pj9eySp3dwj"
      }
    },
    {
      "cell_type": "code",
      "source": [
        "# Calculate average ROUGE scores\n",
        "rouge1_scores = [score['rouge1'].fmeasure for score in rouge_scores]\n",
        "rougeL_scores = [score['rougeL'].fmeasure for score in rouge_scores]\n",
        "\n",
        "avg_rouge1 = sum(rouge1_scores) / len(rouge1_scores)\n",
        "avg_rougeL = sum(rougeL_scores) / len(rougeL_scores)\n",
        "\n",
        "print(f\"Average ROUGE-1: {avg_rouge1}\")"
      ],
      "metadata": {
        "colab": {
          "base_uri": "https://localhost:8080/"
        },
        "id": "luYHV1Cg2I2k",
        "outputId": "bd2d6bf4-7b53-49b3-b85a-52e1fdb6800c"
      },
      "execution_count": null,
      "outputs": [
        {
          "output_type": "stream",
          "name": "stdout",
          "text": [
            "Average ROUGE-1: 0.14109204268148368\n"
          ]
        }
      ]
    },
    {
      "cell_type": "code",
      "source": [
        "# Calculate average BLEU Scores\n",
        "avg_bleu = sum(bleu_scores) / len(bleu_scores)\n",
        "print(f\"Average BLEU Score: {avg_bleu}\")"
      ],
      "metadata": {
        "colab": {
          "base_uri": "https://localhost:8080/"
        },
        "id": "H9jnK-Vw2V_G",
        "outputId": "031608d9-4430-43da-8266-5d8987c3a63d"
      },
      "execution_count": null,
      "outputs": [
        {
          "output_type": "stream",
          "name": "stdout",
          "text": [
            "Average BLEU Score: 0.014291633335491421\n"
          ]
        }
      ]
    },
    {
      "cell_type": "code",
      "source": [
        "rouge_scores"
      ],
      "metadata": {
        "colab": {
          "base_uri": "https://localhost:8080/"
        },
        "id": "2f89Nbz-RBcF",
        "outputId": "6bc79506-d556-4491-f708-c6d124b1f9ee"
      },
      "execution_count": null,
      "outputs": [
        {
          "output_type": "execute_result",
          "data": {
            "text/plain": [
              "[{'rouge1': Score(precision=0.07326007326007326, recall=0.7407407407407407, fmeasure=0.13333333333333336),\n",
              "  'rougeL': Score(precision=0.06227106227106227, recall=0.6296296296296297, fmeasure=0.11333333333333333)},\n",
              " {'rouge1': Score(precision=0.04600484261501211, recall=0.3584905660377358, fmeasure=0.0815450643776824),\n",
              "  'rougeL': Score(precision=0.0387409200968523, recall=0.3018867924528302, fmeasure=0.06866952789699571)},\n",
              " {'rouge1': Score(precision=0.03389830508474576, recall=0.7058823529411765, fmeasure=0.0646900269541779),\n",
              "  'rougeL': Score(precision=0.031073446327683617, recall=0.6470588235294118, fmeasure=0.05929919137466308)},\n",
              " {'rouge1': Score(precision=0.044270833333333336, recall=0.4857142857142857, fmeasure=0.081145584725537),\n",
              "  'rougeL': Score(precision=0.044270833333333336, recall=0.4857142857142857, fmeasure=0.081145584725537)},\n",
              " {'rouge1': Score(precision=0.03140096618357488, recall=0.26, fmeasure=0.05603448275862069),\n",
              "  'rougeL': Score(precision=0.028985507246376812, recall=0.24, fmeasure=0.05172413793103448)},\n",
              " {'rouge1': Score(precision=0.41423948220064727, recall=0.47058823529411764, fmeasure=0.44061962134251287),\n",
              "  'rougeL': Score(precision=0.1715210355987055, recall=0.1948529411764706, fmeasure=0.18244406196213425)},\n",
              " {'rouge1': Score(precision=0.16230366492146597, recall=0.23754789272030652, fmeasure=0.192846034214619),\n",
              "  'rougeL': Score(precision=0.12041884816753927, recall=0.17624521072796934, fmeasure=0.1430793157076205)},\n",
              " {'rouge1': Score(precision=0.08080808080808081, recall=0.7741935483870968, fmeasure=0.14634146341463417),\n",
              "  'rougeL': Score(precision=0.06060606060606061, recall=0.5806451612903226, fmeasure=0.10975609756097561)},\n",
              " {'rouge1': Score(precision=0.040293040293040296, recall=0.5238095238095238, fmeasure=0.07482993197278913),\n",
              "  'rougeL': Score(precision=0.03296703296703297, recall=0.42857142857142855, fmeasure=0.061224489795918366)},\n",
              " {'rouge1': Score(precision=0.15, recall=0.13043478260869565, fmeasure=0.13953488372093023),\n",
              "  'rougeL': Score(precision=0.11, recall=0.09565217391304348, fmeasure=0.10232558139534885)}]"
            ]
          },
          "metadata": {},
          "execution_count": 15
        }
      ]
    },
    {
      "cell_type": "markdown",
      "source": [
        " Let's break down each part of the rouge scores for my 1st question sample:\n",
        "\n",
        "#### ROUGE-1: Measures the overlap of unigrams\n",
        "\n",
        "\n",
        "(individual words) between the model-generated summary and the reference summary.\n",
        "\n",
        "Precision (0.0733): Around 7.3% of the words in the generated summary match words in the reference summary.  \n",
        "Recall (0.7407): Around 74.1% of the words in the reference summary are found in the generated summary, which is relatively high.  \n",
        "F-measure (0.1333): The harmonic mean of precision and recall for ROUGE-1.   \n",
        "The low value indicates a significant disparity between recall and precision, suggesting the generated summary includes a lot of additional content not in the reference.\n",
        "\n",
        "###ROUGE-L: Measures the longest matching sequence of words (or n-grams), which captures the fluency or structure similarity between the summaries.\n",
        "\n",
        "Precision (0.0623): About 6.2% of the sequences in the generated summary align with those in the reference.  \n",
        "Recall (0.6296): Around 63% of the sequences in the reference appear in the generated summary, again showing a high recall.   \n",
        "F-measure (0.1133): Like with ROUGE-1, the F-measure here is low, reflecting that although there are matching sequences, the generated summary includes non-matching phrases.  \n",
        "\n",
        "Interpretation: The high recall and low precision indicate that your generated summary is including most of the reference content but with additional words or phrases, potentially making it longer and less precise. Adjustments to the model to improve precision could help make the generated summary more concise and closely aligned with the reference."
      ],
      "metadata": {
        "id": "kU47kIWjSeq7"
      }
    },
    {
      "cell_type": "markdown",
      "source": [
        "To improve the finetuned GEMMA model's precision for text summarization, here are some strategies we will try in future:\n",
        "\n",
        "1. Adjust Training Data: If your dataset includes long summaries, consider creating shorter reference summaries with key points only. This adjustment encourages the model to generate more concise outputs, helping reduce irrelevant content.\n",
        "\n",
        "2. Fine-Tuning with Penalization for Redundancy: Modify the loss function to penalize redundant or non-matching n-grams. This technique helps the model learn to avoid unnecessary words that don’t align with the reference summary.\n",
        "\n",
        "3. Adjust Decoding Parameters: Experiment with decoding strategies like:\n",
        "\n",
        "- Beam Search with Length Penalty: Add a length penalty during beam search to discourage overly long summaries. This parameter helps to balance recall and precision by limiting the number of tokens generated.\n",
        "- Top-k Sampling and Top-p (Nucleus) Sampling: These sampling techniques can make the summary more targeted, helping reduce repetitive or filler content.\n",
        "4. Add Precision-Optimized Loss Terms: Introduce a precision-oriented loss term that rewards token matches while discouraging extra, non-matching tokens in generated summaries.\n",
        "\n",
        "5. Data Augmentation with Negative Samples: Train the model on \"negative samples\" or incorrect summaries that contain excessive or irrelevant content. This can help the model learn to distinguish between essential and non-essential phrases.\n",
        "\n",
        "6. ROUGE-Precision-Centered Post-processing: After generating a summary, apply a post-processing step to remove any non-essential tokens or phrases that do not contribute to higher ROUGE precision.\n",
        "\n",
        "Testing and comparing outputs after each adjustment will help pinpoint which techniques best align with your goal of increasing precision without compromising summary quality."
      ],
      "metadata": {
        "id": "7EgeUCY6UM1-"
      }
    }
  ]
}