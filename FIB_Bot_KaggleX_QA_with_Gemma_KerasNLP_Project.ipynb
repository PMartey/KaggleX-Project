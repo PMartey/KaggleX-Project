{
  "metadata": {
    "kernelspec": {
      "display_name": "Python 3",
      "name": "python3"
    },
    "language_info": {
      "name": "python",
      "version": "3.10.13",
      "mimetype": "text/x-python",
      "codemirror_mode": {
        "name": "ipython",
        "version": 3
      },
      "pygments_lexer": "ipython3",
      "nbconvert_exporter": "python",
      "file_extension": ".py"
    },
    "kaggle": {
      "accelerator": "gpu",
      "dataSources": [
        {
          "sourceType": "competition",
          "sourceId": 64148,
          "databundleVersionId": 7669720
        },
        {
          "sourceType": "datasetVersion",
          "sourceId": 9663520,
          "datasetId": 5904287,
          "databundleVersionId": 9891956
        },
        {
          "sourceType": "datasetVersion",
          "sourceId": 7711309,
          "datasetId": 4484051,
          "databundleVersionId": 7810193
        },
        {
          "sourceType": "modelInstanceVersion",
          "sourceId": 11373,
          "databundleVersionId": 7771679,
          "modelInstanceId": 5391
        },
        {
          "sourceType": "modelInstanceVersion",
          "sourceId": 11375,
          "databundleVersionId": 7771683,
          "modelInstanceId": 5172
        },
        {
          "sourceType": "modelInstanceVersion",
          "sourceId": 11371,
          "databundleVersionId": 7771674,
          "modelInstanceId": 5171
        }
      ],
      "dockerImageVersionId": 30648,
      "isInternetEnabled": true,
      "language": "python",
      "sourceType": "notebook",
      "isGpuEnabled": true
    },
    "colab": {
      "provenance": [],
      "gpuType": "T4",
      "include_colab_link": true
    },
    "accelerator": "GPU",
    "widgets": {
      "application/vnd.jupyter.widget-state+json": {
        "25749603938a45a7915dd5b650cd8e2a": {
          "model_module": "@jupyter-widgets/controls",
          "model_name": "VBoxModel",
          "model_module_version": "1.5.0",
          "state": {
            "_dom_classes": [],
            "_model_module": "@jupyter-widgets/controls",
            "_model_module_version": "1.5.0",
            "_model_name": "VBoxModel",
            "_view_count": null,
            "_view_module": "@jupyter-widgets/controls",
            "_view_module_version": "1.5.0",
            "_view_name": "VBoxView",
            "box_style": "",
            "children": [
              "IPY_MODEL_6811a50f8514436995184c7aa08a3172"
            ],
            "layout": "IPY_MODEL_47bc923501f84e1db666f0eabf11bcd2"
          }
        },
        "ff7f50c7debb4482b804e03ade5270bb": {
          "model_module": "@jupyter-widgets/controls",
          "model_name": "HTMLModel",
          "model_module_version": "1.5.0",
          "state": {
            "_dom_classes": [],
            "_model_module": "@jupyter-widgets/controls",
            "_model_module_version": "1.5.0",
            "_model_name": "HTMLModel",
            "_view_count": null,
            "_view_module": "@jupyter-widgets/controls",
            "_view_module_version": "1.5.0",
            "_view_name": "HTMLView",
            "description": "",
            "description_tooltip": null,
            "layout": "IPY_MODEL_acde3b6803dc4f1a9411c05df9ab7ac7",
            "placeholder": "​",
            "style": "IPY_MODEL_93a8f596a9754aa08433161e2dcd2562",
            "value": "<center> <img\nsrc=https://www.kaggle.com/static/images/site-logo.png\nalt='Kaggle'> <br> Create an API token from <a\nhref=\"https://www.kaggle.com/settings/account\" target=\"_blank\">your Kaggle\nsettings page</a> and paste it below along with your Kaggle username. <br> </center>"
          }
        },
        "0a6adfbef99c47de878a8cc556425fd6": {
          "model_module": "@jupyter-widgets/controls",
          "model_name": "TextModel",
          "model_module_version": "1.5.0",
          "state": {
            "_dom_classes": [],
            "_model_module": "@jupyter-widgets/controls",
            "_model_module_version": "1.5.0",
            "_model_name": "TextModel",
            "_view_count": null,
            "_view_module": "@jupyter-widgets/controls",
            "_view_module_version": "1.5.0",
            "_view_name": "TextView",
            "continuous_update": true,
            "description": "Username:",
            "description_tooltip": null,
            "disabled": false,
            "layout": "IPY_MODEL_e57405d12571496ea9e7a176cdf99f88",
            "placeholder": "​",
            "style": "IPY_MODEL_53ef75111e684e1887098b8d397bae0c",
            "value": "dedemartey"
          }
        },
        "f3f365adeec44fe4b82ebd2f32eef104": {
          "model_module": "@jupyter-widgets/controls",
          "model_name": "PasswordModel",
          "model_module_version": "1.5.0",
          "state": {
            "_dom_classes": [],
            "_model_module": "@jupyter-widgets/controls",
            "_model_module_version": "1.5.0",
            "_model_name": "PasswordModel",
            "_view_count": null,
            "_view_module": "@jupyter-widgets/controls",
            "_view_module_version": "1.5.0",
            "_view_name": "PasswordView",
            "continuous_update": true,
            "description": "Token:",
            "description_tooltip": null,
            "disabled": false,
            "layout": "IPY_MODEL_4a072afdfe7649aa8ae7b39f158b7652",
            "placeholder": "​",
            "style": "IPY_MODEL_f1736fbc019f4e7a8e68fdd57d62fa5d",
            "value": ""
          }
        },
        "ab11f06863d047229a4f1ade370ecd12": {
          "model_module": "@jupyter-widgets/controls",
          "model_name": "ButtonModel",
          "model_module_version": "1.5.0",
          "state": {
            "_dom_classes": [],
            "_model_module": "@jupyter-widgets/controls",
            "_model_module_version": "1.5.0",
            "_model_name": "ButtonModel",
            "_view_count": null,
            "_view_module": "@jupyter-widgets/controls",
            "_view_module_version": "1.5.0",
            "_view_name": "ButtonView",
            "button_style": "",
            "description": "Login",
            "disabled": false,
            "icon": "",
            "layout": "IPY_MODEL_70d3e71bf2ec4d71a13d3897843f1dac",
            "style": "IPY_MODEL_175022cb0e6c4080be98220d7bfdc388",
            "tooltip": ""
          }
        },
        "35e36bca3e46491abd406424a9a3946b": {
          "model_module": "@jupyter-widgets/controls",
          "model_name": "HTMLModel",
          "model_module_version": "1.5.0",
          "state": {
            "_dom_classes": [],
            "_model_module": "@jupyter-widgets/controls",
            "_model_module_version": "1.5.0",
            "_model_name": "HTMLModel",
            "_view_count": null,
            "_view_module": "@jupyter-widgets/controls",
            "_view_module_version": "1.5.0",
            "_view_name": "HTMLView",
            "description": "",
            "description_tooltip": null,
            "layout": "IPY_MODEL_292dbeff361c4389befd346a57e9991e",
            "placeholder": "​",
            "style": "IPY_MODEL_838800ce936a46da9508f77b299064d7",
            "value": "\n<b>Thank You</b></center>"
          }
        },
        "47bc923501f84e1db666f0eabf11bcd2": {
          "model_module": "@jupyter-widgets/base",
          "model_name": "LayoutModel",
          "model_module_version": "1.2.0",
          "state": {
            "_model_module": "@jupyter-widgets/base",
            "_model_module_version": "1.2.0",
            "_model_name": "LayoutModel",
            "_view_count": null,
            "_view_module": "@jupyter-widgets/base",
            "_view_module_version": "1.2.0",
            "_view_name": "LayoutView",
            "align_content": null,
            "align_items": "center",
            "align_self": null,
            "border": null,
            "bottom": null,
            "display": "flex",
            "flex": null,
            "flex_flow": "column",
            "grid_area": null,
            "grid_auto_columns": null,
            "grid_auto_flow": null,
            "grid_auto_rows": null,
            "grid_column": null,
            "grid_gap": null,
            "grid_row": null,
            "grid_template_areas": null,
            "grid_template_columns": null,
            "grid_template_rows": null,
            "height": null,
            "justify_content": null,
            "justify_items": null,
            "left": null,
            "margin": null,
            "max_height": null,
            "max_width": null,
            "min_height": null,
            "min_width": null,
            "object_fit": null,
            "object_position": null,
            "order": null,
            "overflow": null,
            "overflow_x": null,
            "overflow_y": null,
            "padding": null,
            "right": null,
            "top": null,
            "visibility": null,
            "width": "50%"
          }
        },
        "acde3b6803dc4f1a9411c05df9ab7ac7": {
          "model_module": "@jupyter-widgets/base",
          "model_name": "LayoutModel",
          "model_module_version": "1.2.0",
          "state": {
            "_model_module": "@jupyter-widgets/base",
            "_model_module_version": "1.2.0",
            "_model_name": "LayoutModel",
            "_view_count": null,
            "_view_module": "@jupyter-widgets/base",
            "_view_module_version": "1.2.0",
            "_view_name": "LayoutView",
            "align_content": null,
            "align_items": null,
            "align_self": null,
            "border": null,
            "bottom": null,
            "display": null,
            "flex": null,
            "flex_flow": null,
            "grid_area": null,
            "grid_auto_columns": null,
            "grid_auto_flow": null,
            "grid_auto_rows": null,
            "grid_column": null,
            "grid_gap": null,
            "grid_row": null,
            "grid_template_areas": null,
            "grid_template_columns": null,
            "grid_template_rows": null,
            "height": null,
            "justify_content": null,
            "justify_items": null,
            "left": null,
            "margin": null,
            "max_height": null,
            "max_width": null,
            "min_height": null,
            "min_width": null,
            "object_fit": null,
            "object_position": null,
            "order": null,
            "overflow": null,
            "overflow_x": null,
            "overflow_y": null,
            "padding": null,
            "right": null,
            "top": null,
            "visibility": null,
            "width": null
          }
        },
        "93a8f596a9754aa08433161e2dcd2562": {
          "model_module": "@jupyter-widgets/controls",
          "model_name": "DescriptionStyleModel",
          "model_module_version": "1.5.0",
          "state": {
            "_model_module": "@jupyter-widgets/controls",
            "_model_module_version": "1.5.0",
            "_model_name": "DescriptionStyleModel",
            "_view_count": null,
            "_view_module": "@jupyter-widgets/base",
            "_view_module_version": "1.2.0",
            "_view_name": "StyleView",
            "description_width": ""
          }
        },
        "e57405d12571496ea9e7a176cdf99f88": {
          "model_module": "@jupyter-widgets/base",
          "model_name": "LayoutModel",
          "model_module_version": "1.2.0",
          "state": {
            "_model_module": "@jupyter-widgets/base",
            "_model_module_version": "1.2.0",
            "_model_name": "LayoutModel",
            "_view_count": null,
            "_view_module": "@jupyter-widgets/base",
            "_view_module_version": "1.2.0",
            "_view_name": "LayoutView",
            "align_content": null,
            "align_items": null,
            "align_self": null,
            "border": null,
            "bottom": null,
            "display": null,
            "flex": null,
            "flex_flow": null,
            "grid_area": null,
            "grid_auto_columns": null,
            "grid_auto_flow": null,
            "grid_auto_rows": null,
            "grid_column": null,
            "grid_gap": null,
            "grid_row": null,
            "grid_template_areas": null,
            "grid_template_columns": null,
            "grid_template_rows": null,
            "height": null,
            "justify_content": null,
            "justify_items": null,
            "left": null,
            "margin": null,
            "max_height": null,
            "max_width": null,
            "min_height": null,
            "min_width": null,
            "object_fit": null,
            "object_position": null,
            "order": null,
            "overflow": null,
            "overflow_x": null,
            "overflow_y": null,
            "padding": null,
            "right": null,
            "top": null,
            "visibility": null,
            "width": null
          }
        },
        "53ef75111e684e1887098b8d397bae0c": {
          "model_module": "@jupyter-widgets/controls",
          "model_name": "DescriptionStyleModel",
          "model_module_version": "1.5.0",
          "state": {
            "_model_module": "@jupyter-widgets/controls",
            "_model_module_version": "1.5.0",
            "_model_name": "DescriptionStyleModel",
            "_view_count": null,
            "_view_module": "@jupyter-widgets/base",
            "_view_module_version": "1.2.0",
            "_view_name": "StyleView",
            "description_width": ""
          }
        },
        "4a072afdfe7649aa8ae7b39f158b7652": {
          "model_module": "@jupyter-widgets/base",
          "model_name": "LayoutModel",
          "model_module_version": "1.2.0",
          "state": {
            "_model_module": "@jupyter-widgets/base",
            "_model_module_version": "1.2.0",
            "_model_name": "LayoutModel",
            "_view_count": null,
            "_view_module": "@jupyter-widgets/base",
            "_view_module_version": "1.2.0",
            "_view_name": "LayoutView",
            "align_content": null,
            "align_items": null,
            "align_self": null,
            "border": null,
            "bottom": null,
            "display": null,
            "flex": null,
            "flex_flow": null,
            "grid_area": null,
            "grid_auto_columns": null,
            "grid_auto_flow": null,
            "grid_auto_rows": null,
            "grid_column": null,
            "grid_gap": null,
            "grid_row": null,
            "grid_template_areas": null,
            "grid_template_columns": null,
            "grid_template_rows": null,
            "height": null,
            "justify_content": null,
            "justify_items": null,
            "left": null,
            "margin": null,
            "max_height": null,
            "max_width": null,
            "min_height": null,
            "min_width": null,
            "object_fit": null,
            "object_position": null,
            "order": null,
            "overflow": null,
            "overflow_x": null,
            "overflow_y": null,
            "padding": null,
            "right": null,
            "top": null,
            "visibility": null,
            "width": null
          }
        },
        "f1736fbc019f4e7a8e68fdd57d62fa5d": {
          "model_module": "@jupyter-widgets/controls",
          "model_name": "DescriptionStyleModel",
          "model_module_version": "1.5.0",
          "state": {
            "_model_module": "@jupyter-widgets/controls",
            "_model_module_version": "1.5.0",
            "_model_name": "DescriptionStyleModel",
            "_view_count": null,
            "_view_module": "@jupyter-widgets/base",
            "_view_module_version": "1.2.0",
            "_view_name": "StyleView",
            "description_width": ""
          }
        },
        "70d3e71bf2ec4d71a13d3897843f1dac": {
          "model_module": "@jupyter-widgets/base",
          "model_name": "LayoutModel",
          "model_module_version": "1.2.0",
          "state": {
            "_model_module": "@jupyter-widgets/base",
            "_model_module_version": "1.2.0",
            "_model_name": "LayoutModel",
            "_view_count": null,
            "_view_module": "@jupyter-widgets/base",
            "_view_module_version": "1.2.0",
            "_view_name": "LayoutView",
            "align_content": null,
            "align_items": null,
            "align_self": null,
            "border": null,
            "bottom": null,
            "display": null,
            "flex": null,
            "flex_flow": null,
            "grid_area": null,
            "grid_auto_columns": null,
            "grid_auto_flow": null,
            "grid_auto_rows": null,
            "grid_column": null,
            "grid_gap": null,
            "grid_row": null,
            "grid_template_areas": null,
            "grid_template_columns": null,
            "grid_template_rows": null,
            "height": null,
            "justify_content": null,
            "justify_items": null,
            "left": null,
            "margin": null,
            "max_height": null,
            "max_width": null,
            "min_height": null,
            "min_width": null,
            "object_fit": null,
            "object_position": null,
            "order": null,
            "overflow": null,
            "overflow_x": null,
            "overflow_y": null,
            "padding": null,
            "right": null,
            "top": null,
            "visibility": null,
            "width": null
          }
        },
        "175022cb0e6c4080be98220d7bfdc388": {
          "model_module": "@jupyter-widgets/controls",
          "model_name": "ButtonStyleModel",
          "model_module_version": "1.5.0",
          "state": {
            "_model_module": "@jupyter-widgets/controls",
            "_model_module_version": "1.5.0",
            "_model_name": "ButtonStyleModel",
            "_view_count": null,
            "_view_module": "@jupyter-widgets/base",
            "_view_module_version": "1.2.0",
            "_view_name": "StyleView",
            "button_color": null,
            "font_weight": ""
          }
        },
        "292dbeff361c4389befd346a57e9991e": {
          "model_module": "@jupyter-widgets/base",
          "model_name": "LayoutModel",
          "model_module_version": "1.2.0",
          "state": {
            "_model_module": "@jupyter-widgets/base",
            "_model_module_version": "1.2.0",
            "_model_name": "LayoutModel",
            "_view_count": null,
            "_view_module": "@jupyter-widgets/base",
            "_view_module_version": "1.2.0",
            "_view_name": "LayoutView",
            "align_content": null,
            "align_items": null,
            "align_self": null,
            "border": null,
            "bottom": null,
            "display": null,
            "flex": null,
            "flex_flow": null,
            "grid_area": null,
            "grid_auto_columns": null,
            "grid_auto_flow": null,
            "grid_auto_rows": null,
            "grid_column": null,
            "grid_gap": null,
            "grid_row": null,
            "grid_template_areas": null,
            "grid_template_columns": null,
            "grid_template_rows": null,
            "height": null,
            "justify_content": null,
            "justify_items": null,
            "left": null,
            "margin": null,
            "max_height": null,
            "max_width": null,
            "min_height": null,
            "min_width": null,
            "object_fit": null,
            "object_position": null,
            "order": null,
            "overflow": null,
            "overflow_x": null,
            "overflow_y": null,
            "padding": null,
            "right": null,
            "top": null,
            "visibility": null,
            "width": null
          }
        },
        "838800ce936a46da9508f77b299064d7": {
          "model_module": "@jupyter-widgets/controls",
          "model_name": "DescriptionStyleModel",
          "model_module_version": "1.5.0",
          "state": {
            "_model_module": "@jupyter-widgets/controls",
            "_model_module_version": "1.5.0",
            "_model_name": "DescriptionStyleModel",
            "_view_count": null,
            "_view_module": "@jupyter-widgets/base",
            "_view_module_version": "1.2.0",
            "_view_name": "StyleView",
            "description_width": ""
          }
        },
        "fd32d5d01c254ce4b3facc9657f5ad95": {
          "model_module": "@jupyter-widgets/controls",
          "model_name": "LabelModel",
          "model_module_version": "1.5.0",
          "state": {
            "_dom_classes": [],
            "_model_module": "@jupyter-widgets/controls",
            "_model_module_version": "1.5.0",
            "_model_name": "LabelModel",
            "_view_count": null,
            "_view_module": "@jupyter-widgets/controls",
            "_view_module_version": "1.5.0",
            "_view_name": "LabelView",
            "description": "",
            "description_tooltip": null,
            "layout": "IPY_MODEL_988a307fdfbd487981f9278f60446651",
            "placeholder": "​",
            "style": "IPY_MODEL_144b7ec988b54cb690fa6e15d1af1d09",
            "value": "Connecting..."
          }
        },
        "988a307fdfbd487981f9278f60446651": {
          "model_module": "@jupyter-widgets/base",
          "model_name": "LayoutModel",
          "model_module_version": "1.2.0",
          "state": {
            "_model_module": "@jupyter-widgets/base",
            "_model_module_version": "1.2.0",
            "_model_name": "LayoutModel",
            "_view_count": null,
            "_view_module": "@jupyter-widgets/base",
            "_view_module_version": "1.2.0",
            "_view_name": "LayoutView",
            "align_content": null,
            "align_items": null,
            "align_self": null,
            "border": null,
            "bottom": null,
            "display": null,
            "flex": null,
            "flex_flow": null,
            "grid_area": null,
            "grid_auto_columns": null,
            "grid_auto_flow": null,
            "grid_auto_rows": null,
            "grid_column": null,
            "grid_gap": null,
            "grid_row": null,
            "grid_template_areas": null,
            "grid_template_columns": null,
            "grid_template_rows": null,
            "height": null,
            "justify_content": null,
            "justify_items": null,
            "left": null,
            "margin": null,
            "max_height": null,
            "max_width": null,
            "min_height": null,
            "min_width": null,
            "object_fit": null,
            "object_position": null,
            "order": null,
            "overflow": null,
            "overflow_x": null,
            "overflow_y": null,
            "padding": null,
            "right": null,
            "top": null,
            "visibility": null,
            "width": null
          }
        },
        "144b7ec988b54cb690fa6e15d1af1d09": {
          "model_module": "@jupyter-widgets/controls",
          "model_name": "DescriptionStyleModel",
          "model_module_version": "1.5.0",
          "state": {
            "_model_module": "@jupyter-widgets/controls",
            "_model_module_version": "1.5.0",
            "_model_name": "DescriptionStyleModel",
            "_view_count": null,
            "_view_module": "@jupyter-widgets/base",
            "_view_module_version": "1.2.0",
            "_view_name": "StyleView",
            "description_width": ""
          }
        },
        "6811a50f8514436995184c7aa08a3172": {
          "model_module": "@jupyter-widgets/controls",
          "model_name": "LabelModel",
          "model_module_version": "1.5.0",
          "state": {
            "_dom_classes": [],
            "_model_module": "@jupyter-widgets/controls",
            "_model_module_version": "1.5.0",
            "_model_name": "LabelModel",
            "_view_count": null,
            "_view_module": "@jupyter-widgets/controls",
            "_view_module_version": "1.5.0",
            "_view_name": "LabelView",
            "description": "",
            "description_tooltip": null,
            "layout": "IPY_MODEL_bda68edaacda40f5b5f61f4d4de6675c",
            "placeholder": "​",
            "style": "IPY_MODEL_c453bb454800428d8951ee462bb16356",
            "value": "Kaggle credentials successfully validated."
          }
        },
        "bda68edaacda40f5b5f61f4d4de6675c": {
          "model_module": "@jupyter-widgets/base",
          "model_name": "LayoutModel",
          "model_module_version": "1.2.0",
          "state": {
            "_model_module": "@jupyter-widgets/base",
            "_model_module_version": "1.2.0",
            "_model_name": "LayoutModel",
            "_view_count": null,
            "_view_module": "@jupyter-widgets/base",
            "_view_module_version": "1.2.0",
            "_view_name": "LayoutView",
            "align_content": null,
            "align_items": null,
            "align_self": null,
            "border": null,
            "bottom": null,
            "display": null,
            "flex": null,
            "flex_flow": null,
            "grid_area": null,
            "grid_auto_columns": null,
            "grid_auto_flow": null,
            "grid_auto_rows": null,
            "grid_column": null,
            "grid_gap": null,
            "grid_row": null,
            "grid_template_areas": null,
            "grid_template_columns": null,
            "grid_template_rows": null,
            "height": null,
            "justify_content": null,
            "justify_items": null,
            "left": null,
            "margin": null,
            "max_height": null,
            "max_width": null,
            "min_height": null,
            "min_width": null,
            "object_fit": null,
            "object_position": null,
            "order": null,
            "overflow": null,
            "overflow_x": null,
            "overflow_y": null,
            "padding": null,
            "right": null,
            "top": null,
            "visibility": null,
            "width": null
          }
        },
        "c453bb454800428d8951ee462bb16356": {
          "model_module": "@jupyter-widgets/controls",
          "model_name": "DescriptionStyleModel",
          "model_module_version": "1.5.0",
          "state": {
            "_model_module": "@jupyter-widgets/controls",
            "_model_module_version": "1.5.0",
            "_model_name": "DescriptionStyleModel",
            "_view_count": null,
            "_view_module": "@jupyter-widgets/base",
            "_view_module_version": "1.2.0",
            "_view_name": "StyleView",
            "description_width": ""
          }
        },
        "49c3c03d596242b7942320c2ef23c849": {
          "model_module": "@jupyter-widgets/controls",
          "model_name": "HBoxModel",
          "model_module_version": "1.5.0",
          "state": {
            "_dom_classes": [],
            "_model_module": "@jupyter-widgets/controls",
            "_model_module_version": "1.5.0",
            "_model_name": "HBoxModel",
            "_view_count": null,
            "_view_module": "@jupyter-widgets/controls",
            "_view_module_version": "1.5.0",
            "_view_name": "HBoxView",
            "box_style": "",
            "children": [
              "IPY_MODEL_b9ab298c520f43b7a2cf99ec910c6a36",
              "IPY_MODEL_0e94bb54e59244e2b5603e8199656ebb",
              "IPY_MODEL_510cab5759a74c8eb9bf1de22b5608d2"
            ],
            "layout": "IPY_MODEL_8e85d5a4c35c4d3c8be5e068dc4696f6"
          }
        },
        "b9ab298c520f43b7a2cf99ec910c6a36": {
          "model_module": "@jupyter-widgets/controls",
          "model_name": "HTMLModel",
          "model_module_version": "1.5.0",
          "state": {
            "_dom_classes": [],
            "_model_module": "@jupyter-widgets/controls",
            "_model_module_version": "1.5.0",
            "_model_name": "HTMLModel",
            "_view_count": null,
            "_view_module": "@jupyter-widgets/controls",
            "_view_module_version": "1.5.0",
            "_view_name": "HTMLView",
            "description": "",
            "description_tooltip": null,
            "layout": "IPY_MODEL_a6e68b4ddc844fab9a69fa6780fd4b95",
            "placeholder": "​",
            "style": "IPY_MODEL_4f25f8f24fba45bda399a01194a8104b",
            "value": "100%"
          }
        },
        "0e94bb54e59244e2b5603e8199656ebb": {
          "model_module": "@jupyter-widgets/controls",
          "model_name": "FloatProgressModel",
          "model_module_version": "1.5.0",
          "state": {
            "_dom_classes": [],
            "_model_module": "@jupyter-widgets/controls",
            "_model_module_version": "1.5.0",
            "_model_name": "FloatProgressModel",
            "_view_count": null,
            "_view_module": "@jupyter-widgets/controls",
            "_view_module_version": "1.5.0",
            "_view_name": "ProgressView",
            "bar_style": "success",
            "description": "",
            "description_tooltip": null,
            "layout": "IPY_MODEL_5f5262eccd8e4013838ccdc157f3bf85",
            "max": 250,
            "min": 0,
            "orientation": "horizontal",
            "style": "IPY_MODEL_812a3a85a80e4687aa34e76926455ad6",
            "value": 250
          }
        },
        "510cab5759a74c8eb9bf1de22b5608d2": {
          "model_module": "@jupyter-widgets/controls",
          "model_name": "HTMLModel",
          "model_module_version": "1.5.0",
          "state": {
            "_dom_classes": [],
            "_model_module": "@jupyter-widgets/controls",
            "_model_module_version": "1.5.0",
            "_model_name": "HTMLModel",
            "_view_count": null,
            "_view_module": "@jupyter-widgets/controls",
            "_view_module_version": "1.5.0",
            "_view_name": "HTMLView",
            "description": "",
            "description_tooltip": null,
            "layout": "IPY_MODEL_3e0e366ad8b745d7b9526eefe91fb15d",
            "placeholder": "​",
            "style": "IPY_MODEL_fcbf48f741bc43eaa68717d6f7e19689",
            "value": " 250/250 [00:00&lt;00:00, 6442.74it/s]"
          }
        },
        "8e85d5a4c35c4d3c8be5e068dc4696f6": {
          "model_module": "@jupyter-widgets/base",
          "model_name": "LayoutModel",
          "model_module_version": "1.2.0",
          "state": {
            "_model_module": "@jupyter-widgets/base",
            "_model_module_version": "1.2.0",
            "_model_name": "LayoutModel",
            "_view_count": null,
            "_view_module": "@jupyter-widgets/base",
            "_view_module_version": "1.2.0",
            "_view_name": "LayoutView",
            "align_content": null,
            "align_items": null,
            "align_self": null,
            "border": null,
            "bottom": null,
            "display": null,
            "flex": null,
            "flex_flow": null,
            "grid_area": null,
            "grid_auto_columns": null,
            "grid_auto_flow": null,
            "grid_auto_rows": null,
            "grid_column": null,
            "grid_gap": null,
            "grid_row": null,
            "grid_template_areas": null,
            "grid_template_columns": null,
            "grid_template_rows": null,
            "height": null,
            "justify_content": null,
            "justify_items": null,
            "left": null,
            "margin": null,
            "max_height": null,
            "max_width": null,
            "min_height": null,
            "min_width": null,
            "object_fit": null,
            "object_position": null,
            "order": null,
            "overflow": null,
            "overflow_x": null,
            "overflow_y": null,
            "padding": null,
            "right": null,
            "top": null,
            "visibility": null,
            "width": null
          }
        },
        "a6e68b4ddc844fab9a69fa6780fd4b95": {
          "model_module": "@jupyter-widgets/base",
          "model_name": "LayoutModel",
          "model_module_version": "1.2.0",
          "state": {
            "_model_module": "@jupyter-widgets/base",
            "_model_module_version": "1.2.0",
            "_model_name": "LayoutModel",
            "_view_count": null,
            "_view_module": "@jupyter-widgets/base",
            "_view_module_version": "1.2.0",
            "_view_name": "LayoutView",
            "align_content": null,
            "align_items": null,
            "align_self": null,
            "border": null,
            "bottom": null,
            "display": null,
            "flex": null,
            "flex_flow": null,
            "grid_area": null,
            "grid_auto_columns": null,
            "grid_auto_flow": null,
            "grid_auto_rows": null,
            "grid_column": null,
            "grid_gap": null,
            "grid_row": null,
            "grid_template_areas": null,
            "grid_template_columns": null,
            "grid_template_rows": null,
            "height": null,
            "justify_content": null,
            "justify_items": null,
            "left": null,
            "margin": null,
            "max_height": null,
            "max_width": null,
            "min_height": null,
            "min_width": null,
            "object_fit": null,
            "object_position": null,
            "order": null,
            "overflow": null,
            "overflow_x": null,
            "overflow_y": null,
            "padding": null,
            "right": null,
            "top": null,
            "visibility": null,
            "width": null
          }
        },
        "4f25f8f24fba45bda399a01194a8104b": {
          "model_module": "@jupyter-widgets/controls",
          "model_name": "DescriptionStyleModel",
          "model_module_version": "1.5.0",
          "state": {
            "_model_module": "@jupyter-widgets/controls",
            "_model_module_version": "1.5.0",
            "_model_name": "DescriptionStyleModel",
            "_view_count": null,
            "_view_module": "@jupyter-widgets/base",
            "_view_module_version": "1.2.0",
            "_view_name": "StyleView",
            "description_width": ""
          }
        },
        "5f5262eccd8e4013838ccdc157f3bf85": {
          "model_module": "@jupyter-widgets/base",
          "model_name": "LayoutModel",
          "model_module_version": "1.2.0",
          "state": {
            "_model_module": "@jupyter-widgets/base",
            "_model_module_version": "1.2.0",
            "_model_name": "LayoutModel",
            "_view_count": null,
            "_view_module": "@jupyter-widgets/base",
            "_view_module_version": "1.2.0",
            "_view_name": "LayoutView",
            "align_content": null,
            "align_items": null,
            "align_self": null,
            "border": null,
            "bottom": null,
            "display": null,
            "flex": null,
            "flex_flow": null,
            "grid_area": null,
            "grid_auto_columns": null,
            "grid_auto_flow": null,
            "grid_auto_rows": null,
            "grid_column": null,
            "grid_gap": null,
            "grid_row": null,
            "grid_template_areas": null,
            "grid_template_columns": null,
            "grid_template_rows": null,
            "height": null,
            "justify_content": null,
            "justify_items": null,
            "left": null,
            "margin": null,
            "max_height": null,
            "max_width": null,
            "min_height": null,
            "min_width": null,
            "object_fit": null,
            "object_position": null,
            "order": null,
            "overflow": null,
            "overflow_x": null,
            "overflow_y": null,
            "padding": null,
            "right": null,
            "top": null,
            "visibility": null,
            "width": null
          }
        },
        "812a3a85a80e4687aa34e76926455ad6": {
          "model_module": "@jupyter-widgets/controls",
          "model_name": "ProgressStyleModel",
          "model_module_version": "1.5.0",
          "state": {
            "_model_module": "@jupyter-widgets/controls",
            "_model_module_version": "1.5.0",
            "_model_name": "ProgressStyleModel",
            "_view_count": null,
            "_view_module": "@jupyter-widgets/base",
            "_view_module_version": "1.2.0",
            "_view_name": "StyleView",
            "bar_color": null,
            "description_width": ""
          }
        },
        "3e0e366ad8b745d7b9526eefe91fb15d": {
          "model_module": "@jupyter-widgets/base",
          "model_name": "LayoutModel",
          "model_module_version": "1.2.0",
          "state": {
            "_model_module": "@jupyter-widgets/base",
            "_model_module_version": "1.2.0",
            "_model_name": "LayoutModel",
            "_view_count": null,
            "_view_module": "@jupyter-widgets/base",
            "_view_module_version": "1.2.0",
            "_view_name": "LayoutView",
            "align_content": null,
            "align_items": null,
            "align_self": null,
            "border": null,
            "bottom": null,
            "display": null,
            "flex": null,
            "flex_flow": null,
            "grid_area": null,
            "grid_auto_columns": null,
            "grid_auto_flow": null,
            "grid_auto_rows": null,
            "grid_column": null,
            "grid_gap": null,
            "grid_row": null,
            "grid_template_areas": null,
            "grid_template_columns": null,
            "grid_template_rows": null,
            "height": null,
            "justify_content": null,
            "justify_items": null,
            "left": null,
            "margin": null,
            "max_height": null,
            "max_width": null,
            "min_height": null,
            "min_width": null,
            "object_fit": null,
            "object_position": null,
            "order": null,
            "overflow": null,
            "overflow_x": null,
            "overflow_y": null,
            "padding": null,
            "right": null,
            "top": null,
            "visibility": null,
            "width": null
          }
        },
        "fcbf48f741bc43eaa68717d6f7e19689": {
          "model_module": "@jupyter-widgets/controls",
          "model_name": "DescriptionStyleModel",
          "model_module_version": "1.5.0",
          "state": {
            "_model_module": "@jupyter-widgets/controls",
            "_model_module_version": "1.5.0",
            "_model_name": "DescriptionStyleModel",
            "_view_count": null,
            "_view_module": "@jupyter-widgets/base",
            "_view_module_version": "1.2.0",
            "_view_name": "StyleView",
            "description_width": ""
          }
        }
      }
    }
  },
  "nbformat_minor": 0,
  "nbformat": 4,
  "cells": [
    {
      "cell_type": "markdown",
      "metadata": {
        "id": "view-in-github",
        "colab_type": "text"
      },
      "source": [
        "<a href=\"https://colab.research.google.com/github/PMartey/KaggleX-Project/blob/main/FIB_Bot_KaggleX_QA_with_Gemma_KerasNLP_Project.ipynb\" target=\"_parent\"><img src=\"https://colab.research.google.com/assets/colab-badge.svg\" alt=\"Open In Colab\"/></a>"
      ]
    },
    {
      "source": [
        "# IMPORTANT: SOME KAGGLE DATA SOURCES ARE PRIVATE\n",
        "# RUN THIS CELL IN ORDER TO IMPORT YOUR KAGGLE DATA SOURCES.\n",
        "import kagglehub\n",
        "kagglehub.login()\n"
      ],
      "metadata": {
        "id": "pd03CAFwuWkd",
        "colab": {
          "base_uri": "https://localhost:8080/",
          "height": 84,
          "referenced_widgets": [
            "25749603938a45a7915dd5b650cd8e2a",
            "ff7f50c7debb4482b804e03ade5270bb",
            "0a6adfbef99c47de878a8cc556425fd6",
            "f3f365adeec44fe4b82ebd2f32eef104",
            "ab11f06863d047229a4f1ade370ecd12",
            "35e36bca3e46491abd406424a9a3946b",
            "47bc923501f84e1db666f0eabf11bcd2",
            "acde3b6803dc4f1a9411c05df9ab7ac7",
            "93a8f596a9754aa08433161e2dcd2562",
            "e57405d12571496ea9e7a176cdf99f88",
            "53ef75111e684e1887098b8d397bae0c",
            "4a072afdfe7649aa8ae7b39f158b7652",
            "f1736fbc019f4e7a8e68fdd57d62fa5d",
            "70d3e71bf2ec4d71a13d3897843f1dac",
            "175022cb0e6c4080be98220d7bfdc388",
            "292dbeff361c4389befd346a57e9991e",
            "838800ce936a46da9508f77b299064d7",
            "fd32d5d01c254ce4b3facc9657f5ad95",
            "988a307fdfbd487981f9278f60446651",
            "144b7ec988b54cb690fa6e15d1af1d09",
            "6811a50f8514436995184c7aa08a3172",
            "bda68edaacda40f5b5f61f4d4de6675c",
            "c453bb454800428d8951ee462bb16356"
          ]
        },
        "outputId": "fe86e910-4cf5-4a7a-c192-9310d829422a"
      },
      "cell_type": "code",
      "outputs": [
        {
          "output_type": "display_data",
          "data": {
            "text/plain": [
              "VBox(children=(HTML(value='<center> <img\\nsrc=https://www.kaggle.com/static/images/site-logo.png\\nalt=\\'Kaggle…"
            ],
            "application/vnd.jupyter.widget-view+json": {
              "version_major": 2,
              "version_minor": 0,
              "model_id": "25749603938a45a7915dd5b650cd8e2a"
            }
          },
          "metadata": {}
        },
        {
          "output_type": "stream",
          "name": "stdout",
          "text": [
            "Kaggle credentials set.\n",
            "Kaggle credentials successfully validated.\n"
          ]
        }
      ],
      "execution_count": null
    },
    {
      "source": [
        "# IMPORTANT: RUN THIS CELL IN ORDER TO IMPORT YOUR KAGGLE DATA SOURCES,\n",
        "# THEN FEEL FREE TO DELETE THIS CELL.\n",
        "# NOTE: THIS NOTEBOOK ENVIRONMENT DIFFERS FROM KAGGLE'S PYTHON\n",
        "# ENVIRONMENT SO THERE MAY BE MISSING LIBRARIES USED BY YOUR\n",
        "# NOTEBOOK.\n",
        "\n",
        "#data_assistants_with_gemma_path = kagglehub.competition_download('data-assistants-with-gemma')\n",
        "#awsaf49_kaggle_docs_path = kagglehub.dataset_download('awsaf49/kaggle-docs')\n",
        "#dedemartey_financial_questions_and_answers_training_data_set_path = kagglehub.dataset_download('dedemartey/financial-questions-and-answers-training-data-set')\n",
        "keras_gemma_keras_gemma_2b_en_2_path = kagglehub.model_download('keras/gemma/Keras/gemma_2b_en/2')\n",
        "#keras_gemma_keras_gemma_instruct_2b_en_2_path = kagglehub.model_download('keras/gemma/Keras/gemma_instruct_2b_en/2')\n",
        "#keras_gemma_keras_gemma_instruct_7b_en_2_path = kagglehub.model_download('keras/gemma/Keras/gemma_instruct_7b_en/2')\n",
        "#keras_gemma_keras_gemma_7b_en_2_path = kagglehub.model_download('keras/gemma/Keras/gemma_7b_en/2')\n",
        "\n",
        "print('Data source import complete.')\n"
      ],
      "metadata": {
        "id": "8kzuRuJ6uWkf",
        "colab": {
          "base_uri": "https://localhost:8080/"
        },
        "outputId": "ea9d001f-00e6-4786-fa45-3c66b73f693c"
      },
      "cell_type": "code",
      "outputs": [
        {
          "output_type": "stream",
          "name": "stdout",
          "text": [
            "Data source import complete.\n"
          ]
        }
      ],
      "execution_count": null
    },
    {
      "cell_type": "code",
      "source": [
        "#keras_gemma_keras_gemma_2b_en_2_path = kagglehub.model_download('keras/gemma/Keras/gemma_2b_en/2')\n"
      ],
      "metadata": {
        "id": "_PJ_oe-EB-zB"
      },
      "execution_count": null,
      "outputs": []
    },
    {
      "cell_type": "markdown",
      "source": [
        "<center><img src=\"https://keras.io/img/logo-small.png\" alt=\"Keras logo\" width=\"100\"><br/>\n",
        "This starter notebook is provided by the Keras team.</center>"
      ],
      "metadata": {
        "_uuid": "d9d6e812-603e-4422-bca7-e3ba32e32494",
        "_cell_guid": "653e86d1-b5d1-48b4-95f4-7e6c521c15da",
        "trusted": true,
        "id": "r9ZOIhrVuWkf"
      }
    },
    {
      "cell_type": "markdown",
      "source": [
        "# Google – AI Assistants for Data Tasks with Gemma with [KerasNLP](https://github.com/keras-team/keras-nlp) and [Keras](https://github.com/keras-team/keras)\n",
        "\n",
        "> The objective of this chatbot model is to build a chatbot to assist individuals in understanding financial concepts or answering day to day insurance or finance questions\n",
        "\n",
        "<div align=\"center\">\n",
        "    <img src=\"https://thumbs.dreamstime.com/z/financial-money-business-diagram-report-52108082.jpg?ct=jpeg\">\n",
        "</div>\n",
        "\n",
        "In this project, we will create a notebook that demonstrate how to use the Gemma LLM to accomplish one or more of the following  tasks:\n",
        "1. **<font color=\"red\">Answer common questions about insurance or shares.</font>**\n",
        "2. Explain or teach basic finance/insurance concepts.\n",
        "3. Summarize Solution write-ups.\n",
        "4. Give insurance market estimates.\n",
        "5. Answer common questions about what is going on in the fiance market.\n",
        "\n",
        "This notebook guides you through performing `\"1. Answer common questions about insurance or shares\"` task for the project. As this task requires specific knowledge of the financial markets(banking,stocks,insurance,and shares), we need precise information about Finance. To do so, I have created a dataset, [\"Final Training Dataset\"], collecting data from [huggingface.com and kaggle](insertlink). To make things easier for the model, the data is curated to have Question-Answer pair format. We will use this dataset to fine-tune **Gemma LLM** to answer questions about financial market.\n",
        "\n",
        "<u>Fun fact</u>: This notebook is backend-agnostic, supporting TensorFlow, PyTorch, and JAX. However, the best performance can be achieved from `JAX`. Utilizing KerasNLP and Keras allows us to choose our preferred backend. Explore more details on [Keras](https://keras.io/keras_3/).\n",
        "\n",
        "**Note**: For a more in-depth understanding of KerasNLP, refer to the [KerasNLP guides](https://keras.io/keras_nlp/)."
      ],
      "metadata": {
        "_uuid": "1dc0ebfd-5e33-46f6-974b-791e58eee022",
        "_cell_guid": "f3170e28-2fcc-4be2-a7df-56aa5df7fc3f",
        "trusted": true,
        "id": "RPU1sOzwuWkg"
      }
    },
    {
      "cell_type": "markdown",
      "source": [
        "# Install Libraries"
      ],
      "metadata": {
        "_uuid": "3cb92f10-91ab-4cd3-b0de-dd6bf1a1af7e",
        "_cell_guid": "f423ce30-db86-47f5-8f37-87d821e7517c",
        "trusted": true,
        "id": "FhfqXLoQuWkh"
      }
    },
    {
      "cell_type": "code",
      "source": [
        "# Install Keras 3 last. See https://keras.io/getting_started/ for more details.\n",
        "!pip install -q -U keras-nlp\n",
        "!pip install -q -U keras>=3"
      ],
      "metadata": {
        "_uuid": "3e810043-5b49-4803-a491-30b77e5ad114",
        "_cell_guid": "df60edef-93b7-4672-b907-9b4ead347f65",
        "_kg_hide-output": true,
        "execution": {
          "iopub.status.busy": "2024-10-19T03:16:05.888953Z",
          "iopub.execute_input": "2024-10-19T03:16:05.889715Z",
          "iopub.status.idle": "2024-10-19T03:16:34.80213Z",
          "shell.execute_reply.started": "2024-10-19T03:16:05.889676Z",
          "shell.execute_reply": "2024-10-19T03:16:34.801139Z"
        },
        "jupyter": {
          "outputs_hidden": false
        },
        "trusted": true,
        "id": "btrGXDRuuWkh",
        "colab": {
          "base_uri": "https://localhost:8080/"
        },
        "outputId": "54e71023-8f63-434d-d1ae-713afd760eb8"
      },
      "execution_count": null,
      "outputs": [
        {
          "output_type": "stream",
          "name": "stdout",
          "text": [
            "\u001b[2K   \u001b[90m━━━━━━━━━━━━━━━━━━━━━━━━━━━━━━━━━━━━━━━━\u001b[0m \u001b[32m644.1/644.1 kB\u001b[0m \u001b[31m23.4 MB/s\u001b[0m eta \u001b[36m0:00:00\u001b[0m\n",
            "\u001b[2K   \u001b[90m━━━━━━━━━━━━━━━━━━━━━━━━━━━━━━━━━━━━━━━━\u001b[0m \u001b[32m5.2/5.2 MB\u001b[0m \u001b[31m32.5 MB/s\u001b[0m eta \u001b[36m0:00:00\u001b[0m\n",
            "\u001b[2K   \u001b[90m━━━━━━━━━━━━━━━━━━━━━━━━━━━━━━━━━━━━━━━━\u001b[0m \u001b[32m615.3/615.3 MB\u001b[0m \u001b[31m2.1 MB/s\u001b[0m eta \u001b[36m0:00:00\u001b[0m\n",
            "\u001b[2K   \u001b[90m━━━━━━━━━━━━━━━━━━━━━━━━━━━━━━━━━━━━━━━━\u001b[0m \u001b[32m1.2/1.2 MB\u001b[0m \u001b[31m60.0 MB/s\u001b[0m eta \u001b[36m0:00:00\u001b[0m\n",
            "\u001b[2K   \u001b[90m━━━━━━━━━━━━━━━━━━━━━━━━━━━━━━━━━━━━━━━━\u001b[0m \u001b[32m5.5/5.5 MB\u001b[0m \u001b[31m101.5 MB/s\u001b[0m eta \u001b[36m0:00:00\u001b[0m\n",
            "\u001b[?25h\u001b[31mERROR: pip's dependency resolver does not currently take into account all the packages that are installed. This behaviour is the source of the following dependency conflicts.\n",
            "tf-keras 2.17.0 requires tensorflow<2.18,>=2.17, but you have tensorflow 2.18.0 which is incompatible.\u001b[0m\u001b[31m\n",
            "\u001b[0m"
          ]
        }
      ]
    },
    {
      "cell_type": "markdown",
      "source": [
        "# Import Libraries"
      ],
      "metadata": {
        "_uuid": "e3156be1-4c79-4f09-b614-fd1b07045778",
        "_cell_guid": "7b3dfed9-eba7-4262-9a62-3395038c88e9",
        "trusted": true,
        "id": "7p-mpPKfuWkh"
      }
    },
    {
      "cell_type": "code",
      "source": [
        "import os\n",
        "os.environ[\"KERAS_BACKEND\"] = \"jax\" # you can also use tensorflow or torch\n",
        "os.environ[\"XLA_PYTHON_CLIENT_MEM_FRACTION\"] = \"1.00\" # avoid memory fragmentation on JAX backend.\n",
        "\n",
        "import keras\n",
        "import keras_nlp\n",
        "\n",
        "import numpy as np\n",
        "import pandas as pd\n",
        "from tqdm.notebook import tqdm\n",
        "tqdm.pandas() # progress bar for pandas\n",
        "\n",
        "import plotly.graph_objs as go\n",
        "import plotly.express as px\n",
        "from IPython.display import display, Markdown"
      ],
      "metadata": {
        "_uuid": "daee6ba8-d513-4777-9f51-eeb292be1a38",
        "_cell_guid": "fec7caf1-2309-46a2-9b73-2abbf9f009df",
        "_kg_hide-output": true,
        "execution": {
          "iopub.status.busy": "2024-10-19T03:17:17.581283Z",
          "iopub.execute_input": "2024-10-19T03:17:17.581928Z",
          "iopub.status.idle": "2024-10-19T03:17:30.882443Z",
          "shell.execute_reply.started": "2024-10-19T03:17:17.581886Z",
          "shell.execute_reply": "2024-10-19T03:17:30.881638Z"
        },
        "jupyter": {
          "outputs_hidden": false
        },
        "trusted": true,
        "id": "R0FzsrrVuWkh"
      },
      "execution_count": null,
      "outputs": []
    },
    {
      "cell_type": "markdown",
      "source": [
        "# Configuration"
      ],
      "metadata": {
        "_uuid": "5bd98a3d-ee35-4b30-ae87-d1ef25848623",
        "_cell_guid": "f517b8f9-547f-4c30-b170-50c2525f7bbc",
        "trusted": true,
        "id": "AnsRJL5cuWkh"
      }
    },
    {
      "cell_type": "code",
      "source": [
        "class CFG:\n",
        "    seed = 42\n",
        "    dataset_path = \"/content/train_data.csv\"\n",
        "    preset = \"gemma_2b_en\" # name of pretrained Gemma #using this instead 'gemma_instruct_2b_en' of 'gemma_2b_en'\n",
        "    sequence_length = 512 # max size of input sequence for training\n",
        "    batch_size = 1 # size of the input batch in training, x 2 as two GPUs\n",
        "    epochs = 50 # number of epochs to train"
      ],
      "metadata": {
        "_uuid": "7d9850f3-ab9a-401b-b2a9-bc70a302a895",
        "_cell_guid": "44807a4f-2d1f-471b-8228-0c4e878f9214",
        "execution": {
          "iopub.status.busy": "2024-10-19T03:19:55.421459Z",
          "iopub.execute_input": "2024-10-19T03:19:55.422333Z",
          "iopub.status.idle": "2024-10-19T03:19:55.426849Z",
          "shell.execute_reply.started": "2024-10-19T03:19:55.422293Z",
          "shell.execute_reply": "2024-10-19T03:19:55.425939Z"
        },
        "jupyter": {
          "outputs_hidden": false
        },
        "trusted": true,
        "id": "rHK1_usNuWki"
      },
      "execution_count": null,
      "outputs": []
    },
    {
      "cell_type": "markdown",
      "source": [
        "# Reproducibility\n",
        "Sets value for random seed to produce similar result in each run."
      ],
      "metadata": {
        "_uuid": "c07b5dcd-997c-4c5c-abbb-ad2ccc007845",
        "_cell_guid": "1b49915d-6079-4269-88ea-560edcdce739",
        "trusted": true,
        "id": "BPeJ4JtuuWki"
      }
    },
    {
      "cell_type": "code",
      "source": [
        "keras.utils.set_random_seed(CFG.seed)"
      ],
      "metadata": {
        "_uuid": "345e280f-3bb9-40a8-a351-1c32ef155455",
        "_cell_guid": "5be641c8-3b47-49e1-9fd6-4200921348df",
        "execution": {
          "iopub.status.busy": "2024-10-19T03:20:05.309338Z",
          "iopub.execute_input": "2024-10-19T03:20:05.310012Z",
          "iopub.status.idle": "2024-10-19T03:20:05.314773Z",
          "shell.execute_reply.started": "2024-10-19T03:20:05.30998Z",
          "shell.execute_reply": "2024-10-19T03:20:05.31378Z"
        },
        "jupyter": {
          "outputs_hidden": false
        },
        "trusted": true,
        "id": "Avj-FtwSuWki"
      },
      "execution_count": null,
      "outputs": []
    },
    {
      "cell_type": "markdown",
      "source": [
        "# Data\n",
        "\n",
        "The newly created **financial-questions-and-answers** dataset contains only approximately $12000$ question-answer pairs curated from raw data from the `kaggle.com and huggingface.com` websites. However, one can create many more samples from this provided data through simple augmentation or prompt engineering.  In this notebook, we will focus on keeping it simple.\n",
        "\n",
        "**Data Format:**\n",
        "\n",
        "- The question-answer pair data is stored in `/kaggle/input/financial-questions-and-answers-training-data-set/questions_answers.csv` file.\n",
        "- This file includes:\n",
        "    - `Question`: A question about banking,stocks, insurance, and shares\n",
        "    - `Answer`: Answer to the question in markdown format\n",
        "    \n",
        "> You can access the **raw** data from `hugging face and kaggle datasets`, where there are `.parquet and .csv` files for each of the **two** categories."
      ],
      "metadata": {
        "_uuid": "036fa721-ecf1-4667-8f7e-df816e7d56fd",
        "_cell_guid": "791c12a1-973e-4cd2-84f1-023b7e0a1f34",
        "trusted": true,
        "id": "QbQzO0K2uWki"
      }
    },
    {
      "cell_type": "code",
      "source": [
        "df_train = pd.read_csv(f\"{CFG.dataset_path}\")\n",
        "df_train.info()"
      ],
      "metadata": {
        "_uuid": "9370c24d-06d2-4800-87f9-1970fecbef2b",
        "_cell_guid": "2c92df6b-82e1-47ff-a0e8-995017e96d12",
        "execution": {
          "iopub.status.busy": "2024-10-19T03:24:42.251158Z",
          "iopub.execute_input": "2024-10-19T03:24:42.251548Z",
          "iopub.status.idle": "2024-10-19T03:24:42.68842Z",
          "shell.execute_reply.started": "2024-10-19T03:24:42.251517Z",
          "shell.execute_reply": "2024-10-19T03:24:42.687505Z"
        },
        "jupyter": {
          "outputs_hidden": false
        },
        "trusted": true,
        "id": "WdP7KtQZuWki",
        "colab": {
          "base_uri": "https://localhost:8080/"
        },
        "outputId": "2556063f-98b1-4e7a-c2c2-60899a5c76c6"
      },
      "execution_count": null,
      "outputs": [
        {
          "output_type": "stream",
          "name": "stdout",
          "text": [
            "<class 'pandas.core.frame.DataFrame'>\n",
            "RangeIndex: 12047 entries, 0 to 12046\n",
            "Data columns (total 2 columns):\n",
            " #   Column    Non-Null Count  Dtype \n",
            "---  ------    --------------  ----- \n",
            " 0   question  12047 non-null  object\n",
            " 1   answer    12047 non-null  object\n",
            "dtypes: object(2)\n",
            "memory usage: 188.4+ KB\n"
          ]
        }
      ]
    },
    {
      "cell_type": "code",
      "source": [
        "# Randomly select 250 rows from my data set since training on all 12047 rows takes more storage\n",
        "df = df_train.sample(n=250, random_state=42)\n",
        "print(df.info())\n",
        "df.head(2)"
      ],
      "metadata": {
        "colab": {
          "base_uri": "https://localhost:8080/",
          "height": 286
        },
        "id": "OVSH6YYeVcSZ",
        "outputId": "809cd186-37ab-4d2a-8e0e-3d3e44476e64"
      },
      "execution_count": null,
      "outputs": [
        {
          "output_type": "stream",
          "name": "stdout",
          "text": [
            "<class 'pandas.core.frame.DataFrame'>\n",
            "Index: 250 entries, 7623 to 8660\n",
            "Data columns (total 2 columns):\n",
            " #   Column    Non-Null Count  Dtype \n",
            "---  ------    --------------  ----- \n",
            " 0   question  250 non-null    object\n",
            " 1   answer    250 non-null    object\n",
            "dtypes: object(2)\n",
            "memory usage: 5.9+ KB\n",
            "None\n"
          ]
        },
        {
          "output_type": "execute_result",
          "data": {
            "text/plain": [
              "                                               question  \\\n",
              "7623  How converted stock is taxed due to an acquisi...   \n",
              "2932  What economic growth rate is required to halve...   \n",
              "\n",
              "                                                 answer  \n",
              "7623  I dont think its a taxable event since no inco...  \n",
              "2932  Im reminded of Says Law developed by JeanBapti...  "
            ],
            "text/html": [
              "\n",
              "  <div id=\"df-a84e8aee-8fb4-4724-b4de-9ccd16f968de\" class=\"colab-df-container\">\n",
              "    <div>\n",
              "<style scoped>\n",
              "    .dataframe tbody tr th:only-of-type {\n",
              "        vertical-align: middle;\n",
              "    }\n",
              "\n",
              "    .dataframe tbody tr th {\n",
              "        vertical-align: top;\n",
              "    }\n",
              "\n",
              "    .dataframe thead th {\n",
              "        text-align: right;\n",
              "    }\n",
              "</style>\n",
              "<table border=\"1\" class=\"dataframe\">\n",
              "  <thead>\n",
              "    <tr style=\"text-align: right;\">\n",
              "      <th></th>\n",
              "      <th>question</th>\n",
              "      <th>answer</th>\n",
              "    </tr>\n",
              "  </thead>\n",
              "  <tbody>\n",
              "    <tr>\n",
              "      <th>7623</th>\n",
              "      <td>How converted stock is taxed due to an acquisi...</td>\n",
              "      <td>I dont think its a taxable event since no inco...</td>\n",
              "    </tr>\n",
              "    <tr>\n",
              "      <th>2932</th>\n",
              "      <td>What economic growth rate is required to halve...</td>\n",
              "      <td>Im reminded of Says Law developed by JeanBapti...</td>\n",
              "    </tr>\n",
              "  </tbody>\n",
              "</table>\n",
              "</div>\n",
              "    <div class=\"colab-df-buttons\">\n",
              "\n",
              "  <div class=\"colab-df-container\">\n",
              "    <button class=\"colab-df-convert\" onclick=\"convertToInteractive('df-a84e8aee-8fb4-4724-b4de-9ccd16f968de')\"\n",
              "            title=\"Convert this dataframe to an interactive table.\"\n",
              "            style=\"display:none;\">\n",
              "\n",
              "  <svg xmlns=\"http://www.w3.org/2000/svg\" height=\"24px\" viewBox=\"0 -960 960 960\">\n",
              "    <path d=\"M120-120v-720h720v720H120Zm60-500h600v-160H180v160Zm220 220h160v-160H400v160Zm0 220h160v-160H400v160ZM180-400h160v-160H180v160Zm440 0h160v-160H620v160ZM180-180h160v-160H180v160Zm440 0h160v-160H620v160Z\"/>\n",
              "  </svg>\n",
              "    </button>\n",
              "\n",
              "  <style>\n",
              "    .colab-df-container {\n",
              "      display:flex;\n",
              "      gap: 12px;\n",
              "    }\n",
              "\n",
              "    .colab-df-convert {\n",
              "      background-color: #E8F0FE;\n",
              "      border: none;\n",
              "      border-radius: 50%;\n",
              "      cursor: pointer;\n",
              "      display: none;\n",
              "      fill: #1967D2;\n",
              "      height: 32px;\n",
              "      padding: 0 0 0 0;\n",
              "      width: 32px;\n",
              "    }\n",
              "\n",
              "    .colab-df-convert:hover {\n",
              "      background-color: #E2EBFA;\n",
              "      box-shadow: 0px 1px 2px rgba(60, 64, 67, 0.3), 0px 1px 3px 1px rgba(60, 64, 67, 0.15);\n",
              "      fill: #174EA6;\n",
              "    }\n",
              "\n",
              "    .colab-df-buttons div {\n",
              "      margin-bottom: 4px;\n",
              "    }\n",
              "\n",
              "    [theme=dark] .colab-df-convert {\n",
              "      background-color: #3B4455;\n",
              "      fill: #D2E3FC;\n",
              "    }\n",
              "\n",
              "    [theme=dark] .colab-df-convert:hover {\n",
              "      background-color: #434B5C;\n",
              "      box-shadow: 0px 1px 3px 1px rgba(0, 0, 0, 0.15);\n",
              "      filter: drop-shadow(0px 1px 2px rgba(0, 0, 0, 0.3));\n",
              "      fill: #FFFFFF;\n",
              "    }\n",
              "  </style>\n",
              "\n",
              "    <script>\n",
              "      const buttonEl =\n",
              "        document.querySelector('#df-a84e8aee-8fb4-4724-b4de-9ccd16f968de button.colab-df-convert');\n",
              "      buttonEl.style.display =\n",
              "        google.colab.kernel.accessAllowed ? 'block' : 'none';\n",
              "\n",
              "      async function convertToInteractive(key) {\n",
              "        const element = document.querySelector('#df-a84e8aee-8fb4-4724-b4de-9ccd16f968de');\n",
              "        const dataTable =\n",
              "          await google.colab.kernel.invokeFunction('convertToInteractive',\n",
              "                                                    [key], {});\n",
              "        if (!dataTable) return;\n",
              "\n",
              "        const docLinkHtml = 'Like what you see? Visit the ' +\n",
              "          '<a target=\"_blank\" href=https://colab.research.google.com/notebooks/data_table.ipynb>data table notebook</a>'\n",
              "          + ' to learn more about interactive tables.';\n",
              "        element.innerHTML = '';\n",
              "        dataTable['output_type'] = 'display_data';\n",
              "        await google.colab.output.renderOutput(dataTable, element);\n",
              "        const docLink = document.createElement('div');\n",
              "        docLink.innerHTML = docLinkHtml;\n",
              "        element.appendChild(docLink);\n",
              "      }\n",
              "    </script>\n",
              "  </div>\n",
              "\n",
              "\n",
              "<div id=\"df-977e607a-6ead-496a-9ec3-241718853184\">\n",
              "  <button class=\"colab-df-quickchart\" onclick=\"quickchart('df-977e607a-6ead-496a-9ec3-241718853184')\"\n",
              "            title=\"Suggest charts\"\n",
              "            style=\"display:none;\">\n",
              "\n",
              "<svg xmlns=\"http://www.w3.org/2000/svg\" height=\"24px\"viewBox=\"0 0 24 24\"\n",
              "     width=\"24px\">\n",
              "    <g>\n",
              "        <path d=\"M19 3H5c-1.1 0-2 .9-2 2v14c0 1.1.9 2 2 2h14c1.1 0 2-.9 2-2V5c0-1.1-.9-2-2-2zM9 17H7v-7h2v7zm4 0h-2V7h2v10zm4 0h-2v-4h2v4z\"/>\n",
              "    </g>\n",
              "</svg>\n",
              "  </button>\n",
              "\n",
              "<style>\n",
              "  .colab-df-quickchart {\n",
              "      --bg-color: #E8F0FE;\n",
              "      --fill-color: #1967D2;\n",
              "      --hover-bg-color: #E2EBFA;\n",
              "      --hover-fill-color: #174EA6;\n",
              "      --disabled-fill-color: #AAA;\n",
              "      --disabled-bg-color: #DDD;\n",
              "  }\n",
              "\n",
              "  [theme=dark] .colab-df-quickchart {\n",
              "      --bg-color: #3B4455;\n",
              "      --fill-color: #D2E3FC;\n",
              "      --hover-bg-color: #434B5C;\n",
              "      --hover-fill-color: #FFFFFF;\n",
              "      --disabled-bg-color: #3B4455;\n",
              "      --disabled-fill-color: #666;\n",
              "  }\n",
              "\n",
              "  .colab-df-quickchart {\n",
              "    background-color: var(--bg-color);\n",
              "    border: none;\n",
              "    border-radius: 50%;\n",
              "    cursor: pointer;\n",
              "    display: none;\n",
              "    fill: var(--fill-color);\n",
              "    height: 32px;\n",
              "    padding: 0;\n",
              "    width: 32px;\n",
              "  }\n",
              "\n",
              "  .colab-df-quickchart:hover {\n",
              "    background-color: var(--hover-bg-color);\n",
              "    box-shadow: 0 1px 2px rgba(60, 64, 67, 0.3), 0 1px 3px 1px rgba(60, 64, 67, 0.15);\n",
              "    fill: var(--button-hover-fill-color);\n",
              "  }\n",
              "\n",
              "  .colab-df-quickchart-complete:disabled,\n",
              "  .colab-df-quickchart-complete:disabled:hover {\n",
              "    background-color: var(--disabled-bg-color);\n",
              "    fill: var(--disabled-fill-color);\n",
              "    box-shadow: none;\n",
              "  }\n",
              "\n",
              "  .colab-df-spinner {\n",
              "    border: 2px solid var(--fill-color);\n",
              "    border-color: transparent;\n",
              "    border-bottom-color: var(--fill-color);\n",
              "    animation:\n",
              "      spin 1s steps(1) infinite;\n",
              "  }\n",
              "\n",
              "  @keyframes spin {\n",
              "    0% {\n",
              "      border-color: transparent;\n",
              "      border-bottom-color: var(--fill-color);\n",
              "      border-left-color: var(--fill-color);\n",
              "    }\n",
              "    20% {\n",
              "      border-color: transparent;\n",
              "      border-left-color: var(--fill-color);\n",
              "      border-top-color: var(--fill-color);\n",
              "    }\n",
              "    30% {\n",
              "      border-color: transparent;\n",
              "      border-left-color: var(--fill-color);\n",
              "      border-top-color: var(--fill-color);\n",
              "      border-right-color: var(--fill-color);\n",
              "    }\n",
              "    40% {\n",
              "      border-color: transparent;\n",
              "      border-right-color: var(--fill-color);\n",
              "      border-top-color: var(--fill-color);\n",
              "    }\n",
              "    60% {\n",
              "      border-color: transparent;\n",
              "      border-right-color: var(--fill-color);\n",
              "    }\n",
              "    80% {\n",
              "      border-color: transparent;\n",
              "      border-right-color: var(--fill-color);\n",
              "      border-bottom-color: var(--fill-color);\n",
              "    }\n",
              "    90% {\n",
              "      border-color: transparent;\n",
              "      border-bottom-color: var(--fill-color);\n",
              "    }\n",
              "  }\n",
              "</style>\n",
              "\n",
              "  <script>\n",
              "    async function quickchart(key) {\n",
              "      const quickchartButtonEl =\n",
              "        document.querySelector('#' + key + ' button');\n",
              "      quickchartButtonEl.disabled = true;  // To prevent multiple clicks.\n",
              "      quickchartButtonEl.classList.add('colab-df-spinner');\n",
              "      try {\n",
              "        const charts = await google.colab.kernel.invokeFunction(\n",
              "            'suggestCharts', [key], {});\n",
              "      } catch (error) {\n",
              "        console.error('Error during call to suggestCharts:', error);\n",
              "      }\n",
              "      quickchartButtonEl.classList.remove('colab-df-spinner');\n",
              "      quickchartButtonEl.classList.add('colab-df-quickchart-complete');\n",
              "    }\n",
              "    (() => {\n",
              "      let quickchartButtonEl =\n",
              "        document.querySelector('#df-977e607a-6ead-496a-9ec3-241718853184 button');\n",
              "      quickchartButtonEl.style.display =\n",
              "        google.colab.kernel.accessAllowed ? 'block' : 'none';\n",
              "    })();\n",
              "  </script>\n",
              "</div>\n",
              "\n",
              "    </div>\n",
              "  </div>\n"
            ],
            "application/vnd.google.colaboratory.intrinsic+json": {
              "type": "dataframe",
              "variable_name": "df",
              "summary": "{\n  \"name\": \"df\",\n  \"rows\": 250,\n  \"fields\": [\n    {\n      \"column\": \"question\",\n      \"properties\": {\n        \"dtype\": \"string\",\n        \"num_unique_values\": 245,\n        \"samples\": [\n          \"How smart is it really to take out a loan right now?\",\n          \"How to trade exotic currencies?\",\n          \"What should I be aware of as a young investor?\"\n        ],\n        \"semantic_type\": \"\",\n        \"description\": \"\"\n      }\n    },\n    {\n      \"column\": \"answer\",\n      \"properties\": {\n        \"dtype\": \"string\",\n        \"num_unique_values\": 250,\n        \"samples\": [\n          \"Many people have criticized the Groupon IPO model because it doesnt make sense as an investment, unless you are an insider with cheap shares. Basically, you have\",\n          \"Use a currency ETF. there are many. Specific to your question there is WisdomTree Dreyfus Brazilian Real Fund BZF I dont happen to find a currency ETF for Thailand, so the closest you could come to a Thai currency fund would be something thats an Index fund ETF that is based on an index in the Thai Market such as MSCI Thailand Investable Market Index Fund Because that fund is investing in an index of stocks that trade on the Thai market, you are in effect investing in something denominated in Baht. This is spelled out in the prospectus where it discusses currency risk. The problem is that you are however not investing in just the currency, but rather a broad index of stocks denominated in that currency. Still to the extent the market holds fairly steady, you get much the same effect of investing in just the currency. to the extent the market is moving, you get the net effect of what the thai market does, plus how the bhat trades relative to the dollar.\",\n          \"I got 3394.83 The first problem with this is that it is backwards. The NPV Net Present Value of three future payments of 997 has to be less than the nominal value. The nominal value is simple 2991. First step, convert the 8 annual return from the stock market to a monthly return. Everyone else assumed that the 8 is a monthly return, but that is clearly absurd. The correct way to do this would be to solve for m in But we often approximate this by dividing 8 by 12, which would be .67. Either way, you divide each payment by the number of months of compounding. Sum those up using m equal to about .64 I left the calculated value in memory and used that rather than the rounded value and you get about 2952.92 which is smaller than 2991. Obviously 2952.92 is much larger than 2495 and you should not do this. If the three payments were 842.39 instead, then it would about break even. Note that this neglects risk. In a three month period, the stock market is as likely to fall short of an annualized 8 return as to beat it. This would make more sense if your alternative was to pay off some of your mortgage immediately and take the payments or yp pay a lump sum now and increase future mortgage payments. Then your return would be safer. Someone noted in a comment that we would normally base the NPV on the interest rate of the payments. Thats for calculating the NPV to the one making the loan. Here, we want to calculate the NPV for the borrower. So the question is what the borrower would do with the money if making payments and not the lump sum. The question assumes that the borrower would invest in the stock market, which is a risky option and not normally advisable. I suggest a mortgage based alternative. If the borrower is going to stuff the money under the mattress until needed, then the answer is simple. The nominal value of 2991 is also the NPV, as mattresses dont pay interest. Similarly, many banks dont pay interest on checking these days. So for someone facing a real decision like this, Id almost always recommend paying the lump sum and getting it over with. Even if the payments are \\\"same as cash\\\" with no premium charged.\"\n        ],\n        \"semantic_type\": \"\",\n        \"description\": \"\"\n      }\n    }\n  ]\n}"
            }
          },
          "metadata": {},
          "execution_count": 9
        }
      ]
    },
    {
      "cell_type": "markdown",
      "source": [
        "We'll use the following simple template to create prompts from question-answer pairs and category to feed text into the model:\n",
        "\n",
        "```\n",
        "\n",
        "Question: ...\n",
        "\n",
        "Answer: ...\n",
        "```\n",
        "\n",
        "This template helps the model understand what you're asking and how to respond accurately. You can explore more advanced prompt templates for better results."
      ],
      "metadata": {
        "_uuid": "89097901-fce9-48ed-9890-08bb3ce80730",
        "_cell_guid": "1063dbc4-cda8-4186-8354-d25af356ecf2",
        "trusted": true,
        "id": "r1WSdyhwuWki"
      }
    },
    {
      "cell_type": "code",
      "source": [
        "template = \"\\n\\nQuestion:\\nUser-{Question}\\n\\nAnswer:\\n{Answer}\""
      ],
      "metadata": {
        "_uuid": "96d2c4b6-3bd9-4039-9130-a759867d24bc",
        "_cell_guid": "239bdd7d-dd0c-4fcb-9dd5-e4ccabb1e234",
        "execution": {
          "iopub.status.busy": "2024-10-19T03:31:15.073841Z",
          "iopub.execute_input": "2024-10-19T03:31:15.074869Z",
          "iopub.status.idle": "2024-10-19T03:31:15.078877Z",
          "shell.execute_reply.started": "2024-10-19T03:31:15.074832Z",
          "shell.execute_reply": "2024-10-19T03:31:15.077929Z"
        },
        "jupyter": {
          "outputs_hidden": false
        },
        "trusted": true,
        "id": "BFcd79tLuWki"
      },
      "execution_count": null,
      "outputs": []
    },
    {
      "cell_type": "code",
      "source": [
        "df[\"prompt\"] = df.progress_apply(lambda row: template.format(\n",
        "                                                             Question=row.question,\n",
        "                                                             Answer=row.answer), axis=1)\n",
        "data = df.prompt.tolist()\n"
      ],
      "metadata": {
        "_uuid": "11904bed-f55b-460f-aa9f-ed728e28da10",
        "_cell_guid": "febfac2b-20d9-407e-b9c8-7976ecbed8ec",
        "execution": {
          "iopub.status.busy": "2024-10-19T03:31:18.762746Z",
          "iopub.execute_input": "2024-10-19T03:31:18.763106Z",
          "iopub.status.idle": "2024-10-19T03:31:19.336042Z",
          "shell.execute_reply.started": "2024-10-19T03:31:18.763077Z",
          "shell.execute_reply": "2024-10-19T03:31:19.335096Z"
        },
        "jupyter": {
          "outputs_hidden": false
        },
        "trusted": true,
        "id": "-uo-T9UnuWkj",
        "colab": {
          "base_uri": "https://localhost:8080/",
          "height": 49,
          "referenced_widgets": [
            "49c3c03d596242b7942320c2ef23c849",
            "b9ab298c520f43b7a2cf99ec910c6a36",
            "0e94bb54e59244e2b5603e8199656ebb",
            "510cab5759a74c8eb9bf1de22b5608d2",
            "8e85d5a4c35c4d3c8be5e068dc4696f6",
            "a6e68b4ddc844fab9a69fa6780fd4b95",
            "4f25f8f24fba45bda399a01194a8104b",
            "5f5262eccd8e4013838ccdc157f3bf85",
            "812a3a85a80e4687aa34e76926455ad6",
            "3e0e366ad8b745d7b9526eefe91fb15d",
            "fcbf48f741bc43eaa68717d6f7e19689"
          ]
        },
        "outputId": "00b1e9dc-f7b2-4f23-e84c-8a2deef0bffe"
      },
      "execution_count": null,
      "outputs": [
        {
          "output_type": "display_data",
          "data": {
            "text/plain": [
              "  0%|          | 0/250 [00:00<?, ?it/s]"
            ],
            "application/vnd.jupyter.widget-view+json": {
              "version_major": 2,
              "version_minor": 0,
              "model_id": "49c3c03d596242b7942320c2ef23c849"
            }
          },
          "metadata": {}
        }
      ]
    },
    {
      "cell_type": "markdown",
      "source": [
        "Let's examine a sample prompt. As the answers in our dataset are curated with **markdown** format, we will render the sample using `Markdown()` to properly visualize the formatting."
      ],
      "metadata": {
        "_uuid": "4b44f672-7494-44ad-b6d3-090ff07ec524",
        "_cell_guid": "5006ff37-6d88-4203-9f44-cbd82bacdd9f",
        "trusted": true,
        "id": "R5egwMfuuWkj"
      }
    },
    {
      "cell_type": "markdown",
      "source": [
        "## Sample"
      ],
      "metadata": {
        "_uuid": "f4531b5b-f289-46fc-a9e1-42a2ea74202a",
        "_cell_guid": "573d55f1-dc3d-4966-88ef-95b0c5e3a953",
        "trusted": true,
        "id": "VEenv8cxuWkj"
      }
    },
    {
      "cell_type": "code",
      "source": [
        "def colorize_text(text):\n",
        "    for word, color in zip([\"Question\", \"Answer\"], [\"red\", \"green\"]):\n",
        "        text = text.replace(f\"\\n\\n{word}:\", f\"\\n\\n**<font color='{color}'>{word}:</font>**\")\n",
        "    return text"
      ],
      "metadata": {
        "_uuid": "9f3fa396-5f8c-4351-bbb6-9a4058b7e988",
        "_cell_guid": "7b046434-dff9-4a04-83ea-96dfe03e27b9",
        "_kg_hide-input": true,
        "execution": {
          "iopub.status.busy": "2024-10-19T03:30:17.557383Z",
          "iopub.execute_input": "2024-10-19T03:30:17.558225Z",
          "iopub.status.idle": "2024-10-19T03:30:17.563123Z",
          "shell.execute_reply.started": "2024-10-19T03:30:17.558194Z",
          "shell.execute_reply": "2024-10-19T03:30:17.56217Z"
        },
        "jupyter": {
          "outputs_hidden": false
        },
        "trusted": true,
        "id": "SrxZ6Jn-uWkj"
      },
      "execution_count": null,
      "outputs": []
    },
    {
      "cell_type": "code",
      "source": [
        "# Take a random sample\n",
        "sample = data[45]\n",
        "\n",
        "# Give colors to Question, Answer and Category\n",
        "sample = colorize_text(sample)\n",
        "\n",
        "# Show sample in markdown\n",
        "display(Markdown(sample))  # this is an incomplete answer"
      ],
      "metadata": {
        "_uuid": "c26c3818-e78d-4d65-873a-5a50108cdedf",
        "_cell_guid": "3057e80d-c4aa-486d-b2b6-5d5cc127bc47",
        "_kg_hide-input": true,
        "execution": {
          "iopub.status.busy": "2024-10-19T03:31:26.386579Z",
          "iopub.execute_input": "2024-10-19T03:31:26.387208Z",
          "iopub.status.idle": "2024-10-19T03:31:26.393601Z",
          "shell.execute_reply.started": "2024-10-19T03:31:26.387177Z",
          "shell.execute_reply": "2024-10-19T03:31:26.392554Z"
        },
        "jupyter": {
          "outputs_hidden": false
        },
        "trusted": true,
        "id": "fet7ICkQuWkj",
        "colab": {
          "base_uri": "https://localhost:8080/",
          "height": 209
        },
        "outputId": "89455d0f-215b-4d4c-c2e5-b8f5025acffa"
      },
      "execution_count": null,
      "outputs": [
        {
          "output_type": "display_data",
          "data": {
            "text/plain": [
              "<IPython.core.display.Markdown object>"
            ],
            "text/markdown": "\n\n**<font color='red'>Question:</font>**\nUser-What options do I have at 26 years old, with 1.2 million USD?\n\n**<font color='green'>Answer:</font>**\nThats what I would do 1.2 million dollars is a lot of money, but it doesnt make you retired for the rest of your life There is a big crisis coming soon my personal prediction in the next 1015 years, and when this happens government will hold your money if you leave them in the bank allowing you to use just part of it you will have to prove the reason you need it, government will pass bills to make it very hard to close your investment positions, and government will pass new laws to create new taxes for people with a lot of money you. To have SOME level of security I would separate my investment in the following 20 I would buy gold certificates and the real thing I would put the gold in a safes. 20 I would put in bitcoin you would have to really study this if you are new to crypto currency in order to be safe. 40 I would invest in regular finance products bonds, stocks and options, FX. 20 I would keep in the bank for life expenses, specially if you dont want work for money any more. 20 I would invest in startup companies exchanging high risk hoping for a great return. Those percentages might change a little depending how goodconfident you become after investing, knowing about business, etc..."
          },
          "metadata": {}
        }
      ]
    },
    {
      "cell_type": "markdown",
      "source": [
        "## Word Cloud\n",
        "Let's do a simple EDA to determine the most common areas of questions asked."
      ],
      "metadata": {
        "_uuid": "790c433e-0494-408a-aaae-f90ac93640cb",
        "_cell_guid": "762961de-63f1-4186-a412-025850443744",
        "trusted": true,
        "id": "gQ8IftLduWkj"
      }
    },
    {
      "cell_type": "code",
      "source": [
        "# Create a word cloud for my most asked questions\n",
        "import matplotlib.pyplot as plt\n",
        "from wordcloud import WordCloud, STOPWORDS\n",
        "\n",
        "#join all the real news\n",
        "question_tags = ' '.join(list(df['question']))\n",
        "\n",
        "# create word cloud for real news\n",
        "wordcloud = WordCloud(width=800, height=400, background_color='white', stopwords=STOPWORDS).generate(question_tags)\n",
        "\n",
        "# plot the word cloud\n",
        "plt.figure(figsize=(10, 5))\n",
        "plt.imshow(wordcloud, interpolation='bilinear')\n",
        "plt.axis('off')\n",
        "plt.title('Most Used Words in Questions')\n",
        "plt.show()"
      ],
      "metadata": {
        "id": "1TNsZaFeXWjV",
        "colab": {
          "base_uri": "https://localhost:8080/",
          "height": 444
        },
        "outputId": "2ab4fe53-62a8-4da5-da2e-f3bae3817f7a"
      },
      "execution_count": null,
      "outputs": [
        {
          "output_type": "display_data",
          "data": {
            "text/plain": [
              "<Figure size 1000x500 with 1 Axes>"
            ],
            "image/png": "[encoded data removed]"
          },
          "metadata": {}
        }
      ]
    },
    {
      "cell_type": "markdown",
      "source": [
        "# Modeling\n",
        "\n",
        "<div align=\"center\"><img src=\"https://i.ibb.co/Bqg9w3g/Gemma-Logo-no-background.png\" width=\"300\"></div>\n",
        "\n",
        "**Gemma** is a suite of advanced open models developed by **Google DeepMind** and other **Google teams**, derived from the same research and technology behind the **Gemini** models. They can be integrated into applications and run on various platforms including mobile devices and hosted services. Developers can customize Gemma models using tuning techniques to enhance their performance for specific tasks, offering more targeted and efficient generative AI solutions beyond text generation.\n",
        "\n",
        "Gemma models are available in several sizes so you can build generative AI solutions based on your available computing resources, the capabilities you need, and where you want to run them.\n",
        "\n",
        "| Parameters size | Tuned versions    | Intended platforms                 | Preset                 |\n",
        "|-----------------|-------------------|------------------------------------|------------------------|\n",
        "| 2B              | Pretrained        | Mobile devices and laptops         | `gemma_2b_en`          |\n",
        "| 2B              | Instruction tuned | Mobile devices and laptops         | `gemma_instruct_2b_en` |\n",
        "| 7B              | Pretrained        | Desktop computers and small servers| `gemma_7b_en`          |\n",
        "| 7B              | Instruction tuned | Desktop computers and small servers| `gemma_instruct_7b_en` |\n",
        "\n",
        "In this notebook, we will use the `Gemma 2B` from KerasNLP's pretrained models to answer questions about the Kaggle platform. To explore other models, simply modify the `preset` in the `CFG` (config). A list of other available pretrained models can be found on the [KerasNLP website](https://keras.io/api/keras_nlp/models/)."
      ],
      "metadata": {
        "_uuid": "16e3b99d-43f2-4f90-b159-4074548adefd",
        "_cell_guid": "fae3d9b1-0386-4dc3-be66-64417e2bb41e",
        "trusted": true,
        "id": "0Y3iOk7tuWkj"
      }
    },
    {
      "cell_type": "markdown",
      "source": [
        "## Gemma Causal LM\n",
        "\n",
        "The code below will build an end-to-end Gemma model for causal language modeling (hence the name `GemmaCausalLM`). A causal language model (LM) predicts the next token based on previous tokens. This task setup can be used to train the model unsupervised on plain text input or to autoregressively generate plain text similar to the data used for training. This task can be used for pre-training or fine-tuning a Gemma model simply by calling `fit()`.\n",
        "\n",
        "This model has a `generate()` method, which generates text based on a prompt. The generation strategy used is controlled by an additional sampler argument on `compile()`. You can recompile the model with different `keras_nlp.samplers` objects to control the generation. By default, `\"greedy\"` sampling will be used.\n",
        "\n",
        "> The `from_preset` method instantiates the model from a preset architecture and weights."
      ],
      "metadata": {
        "_uuid": "d8e2972e-5e13-4150-b031-e1f8321f4f12",
        "_cell_guid": "e12eb5f1-7997-4337-9a5a-1f44157b25df",
        "trusted": true,
        "id": "VU0A1lvMuWkj"
      }
    },
    {
      "cell_type": "code",
      "source": [
        "gemma_lm = keras_nlp.models.GemmaCausalLM.from_preset(\"gemma_2b_en\")\n",
        "gemma_lm.summary()"
      ],
      "metadata": {
        "_uuid": "cf3f9710-2cdc-422b-9373-f1eec31d0c9f",
        "_cell_guid": "eea36271-a629-4da9-9e70-8a26dc924597",
        "execution": {
          "iopub.status.busy": "2024-10-19T03:52:17.71227Z",
          "iopub.execute_input": "2024-10-19T03:52:17.712959Z",
          "iopub.status.idle": "2024-10-19T03:52:29.552559Z",
          "shell.execute_reply.started": "2024-10-19T03:52:17.712922Z",
          "shell.execute_reply": "2024-10-19T03:52:29.550978Z"
        },
        "jupyter": {
          "outputs_hidden": false
        },
        "trusted": true,
        "id": "YibLMLkxuWkj",
        "colab": {
          "base_uri": "https://localhost:8080/",
          "height": 408
        },
        "outputId": "361970a4-53cc-45b5-b7f5-b14ff8d4a420"
      },
      "execution_count": null,
      "outputs": [
        {
          "output_type": "display_data",
          "data": {
            "text/plain": [
              "\u001b[1mPreprocessor: \"gemma_causal_lm_preprocessor\"\u001b[0m\n"
            ],
            "text/html": [
              "<pre style=\"white-space:pre;overflow-x:auto;line-height:normal;font-family:Menlo,'DejaVu Sans Mono',consolas,'Courier New',monospace\"><span style=\"font-weight: bold\">Preprocessor: \"gemma_causal_lm_preprocessor\"</span>\n",
              "</pre>\n"
            ]
          },
          "metadata": {}
        },
        {
          "output_type": "display_data",
          "data": {
            "text/plain": [
              "┏━━━━━━━━━━━━━━━━━━━━━━━━━━━━━━━━━━━━━━━━━━━━━━━━━━━━━━━━━━━━━━━┳━━━━━━━━━━━━━━━━━━━━━━━━━━━━━━━━━━━━━━━━━━┓\n",
              "┃\u001b[1m \u001b[0m\u001b[1mLayer (type)                                                 \u001b[0m\u001b[1m \u001b[0m┃\u001b[1m \u001b[0m\u001b[1m                                  Config\u001b[0m\u001b[1m \u001b[0m┃\n",
              "┡━━━━━━━━━━━━━━━━━━━━━━━━━━━━━━━━━━━━━━━━━━━━━━━━━━━━━━━━━━━━━━━╇━━━━━━━━━━━━━━━━━━━━━━━━━━━━━━━━━━━━━━━━━━┩\n",
              "│ gemma_tokenizer (\u001b[38;5;33mGemmaTokenizer\u001b[0m)                              │                      Vocab size: \u001b[38;5;34m256,000\u001b[0m │\n",
              "└───────────────────────────────────────────────────────────────┴──────────────────────────────────────────┘\n"
            ],
            "text/html": [
              "<pre style=\"white-space:pre;overflow-x:auto;line-height:normal;font-family:Menlo,'DejaVu Sans Mono',consolas,'Courier New',monospace\">┏━━━━━━━━━━━━━━━━━━━━━━━━━━━━━━━━━━━━━━━━━━━━━━━━━━━━━━━━━━━━━━━┳━━━━━━━━━━━━━━━━━━━━━━━━━━━━━━━━━━━━━━━━━━┓\n",
              "┃<span style=\"font-weight: bold\"> Layer (type)                                                  </span>┃<span style=\"font-weight: bold\">                                   Config </span>┃\n",
              "┡━━━━━━━━━━━━━━━━━━━━━━━━━━━━━━━━━━━━━━━━━━━━━━━━━━━━━━━━━━━━━━━╇━━━━━━━━━━━━━━━━━━━━━━━━━━━━━━━━━━━━━━━━━━┩\n",
              "│ gemma_tokenizer (<span style=\"color: #0087ff; text-decoration-color: #0087ff\">GemmaTokenizer</span>)                              │                      Vocab size: <span style=\"color: #00af00; text-decoration-color: #00af00\">256,000</span> │\n",
              "└───────────────────────────────────────────────────────────────┴──────────────────────────────────────────┘\n",
              "</pre>\n"
            ]
          },
          "metadata": {}
        },
        {
          "output_type": "display_data",
          "data": {
            "text/plain": [
              "\u001b[1mModel: \"gemma_causal_lm\"\u001b[0m\n"
            ],
            "text/html": [
              "<pre style=\"white-space:pre;overflow-x:auto;line-height:normal;font-family:Menlo,'DejaVu Sans Mono',consolas,'Courier New',monospace\"><span style=\"font-weight: bold\">Model: \"gemma_causal_lm\"</span>\n",
              "</pre>\n"
            ]
          },
          "metadata": {}
        },
        {
          "output_type": "display_data",
          "data": {
            "text/plain": [
              "┏━━━━━━━━━━━━━━━━━━━━━━━━━━━━━━━┳━━━━━━━━━━━━━━━━━━━━━━━━━━━┳━━━━━━━━━━━━━━━━━┳━━━━━━━━━━━━━━━━━━━━━━━━━━━━┓\n",
              "┃\u001b[1m \u001b[0m\u001b[1mLayer (type)                 \u001b[0m\u001b[1m \u001b[0m┃\u001b[1m \u001b[0m\u001b[1mOutput Shape             \u001b[0m\u001b[1m \u001b[0m┃\u001b[1m \u001b[0m\u001b[1m        Param #\u001b[0m\u001b[1m \u001b[0m┃\u001b[1m \u001b[0m\u001b[1mConnected to              \u001b[0m\u001b[1m \u001b[0m┃\n",
              "┡━━━━━━━━━━━━━━━━━━━━━━━━━━━━━━━╇━━━━━━━━━━━━━━━━━━━━━━━━━━━╇━━━━━━━━━━━━━━━━━╇━━━━━━━━━━━━━━━━━━━━━━━━━━━━┩\n",
              "│ padding_mask (\u001b[38;5;33mInputLayer\u001b[0m)     │ (\u001b[38;5;45mNone\u001b[0m, \u001b[38;5;45mNone\u001b[0m)              │               \u001b[38;5;34m0\u001b[0m │ -                          │\n",
              "├───────────────────────────────┼───────────────────────────┼─────────────────┼────────────────────────────┤\n",
              "│ token_ids (\u001b[38;5;33mInputLayer\u001b[0m)        │ (\u001b[38;5;45mNone\u001b[0m, \u001b[38;5;45mNone\u001b[0m)              │               \u001b[38;5;34m0\u001b[0m │ -                          │\n",
              "├───────────────────────────────┼───────────────────────────┼─────────────────┼────────────────────────────┤\n",
              "│ gemma_backbone                │ (\u001b[38;5;45mNone\u001b[0m, \u001b[38;5;45mNone\u001b[0m, \u001b[38;5;34m2048\u001b[0m)        │   \u001b[38;5;34m2,506,172,416\u001b[0m │ padding_mask[\u001b[38;5;34m0\u001b[0m][\u001b[38;5;34m0\u001b[0m],        │\n",
              "│ (\u001b[38;5;33mGemmaBackbone\u001b[0m)               │                           │                 │ token_ids[\u001b[38;5;34m0\u001b[0m][\u001b[38;5;34m0\u001b[0m]            │\n",
              "├───────────────────────────────┼───────────────────────────┼─────────────────┼────────────────────────────┤\n",
              "│ token_embedding               │ (\u001b[38;5;45mNone\u001b[0m, \u001b[38;5;45mNone\u001b[0m, \u001b[38;5;34m256000\u001b[0m)      │     \u001b[38;5;34m524,288,000\u001b[0m │ gemma_backbone[\u001b[38;5;34m0\u001b[0m][\u001b[38;5;34m0\u001b[0m]       │\n",
              "│ (\u001b[38;5;33mReversibleEmbedding\u001b[0m)         │                           │                 │                            │\n",
              "└───────────────────────────────┴───────────────────────────┴─────────────────┴────────────────────────────┘\n"
            ],
            "text/html": [
              "<pre style=\"white-space:pre;overflow-x:auto;line-height:normal;font-family:Menlo,'DejaVu Sans Mono',consolas,'Courier New',monospace\">┏━━━━━━━━━━━━━━━━━━━━━━━━━━━━━━━┳━━━━━━━━━━━━━━━━━━━━━━━━━━━┳━━━━━━━━━━━━━━━━━┳━━━━━━━━━━━━━━━━━━━━━━━━━━━━┓\n",
              "┃<span style=\"font-weight: bold\"> Layer (type)                  </span>┃<span style=\"font-weight: bold\"> Output Shape              </span>┃<span style=\"font-weight: bold\">         Param # </span>┃<span style=\"font-weight: bold\"> Connected to               </span>┃\n",
              "┡━━━━━━━━━━━━━━━━━━━━━━━━━━━━━━━╇━━━━━━━━━━━━━━━━━━━━━━━━━━━╇━━━━━━━━━━━━━━━━━╇━━━━━━━━━━━━━━━━━━━━━━━━━━━━┩\n",
              "│ padding_mask (<span style=\"color: #0087ff; text-decoration-color: #0087ff\">InputLayer</span>)     │ (<span style=\"color: #00d7ff; text-decoration-color: #00d7ff\">None</span>, <span style=\"color: #00d7ff; text-decoration-color: #00d7ff\">None</span>)              │               <span style=\"color: #00af00; text-decoration-color: #00af00\">0</span> │ -                          │\n",
              "├───────────────────────────────┼───────────────────────────┼─────────────────┼────────────────────────────┤\n",
              "│ token_ids (<span style=\"color: #0087ff; text-decoration-color: #0087ff\">InputLayer</span>)        │ (<span style=\"color: #00d7ff; text-decoration-color: #00d7ff\">None</span>, <span style=\"color: #00d7ff; text-decoration-color: #00d7ff\">None</span>)              │               <span style=\"color: #00af00; text-decoration-color: #00af00\">0</span> │ -                          │\n",
              "├───────────────────────────────┼───────────────────────────┼─────────────────┼────────────────────────────┤\n",
              "│ gemma_backbone                │ (<span style=\"color: #00d7ff; text-decoration-color: #00d7ff\">None</span>, <span style=\"color: #00d7ff; text-decoration-color: #00d7ff\">None</span>, <span style=\"color: #00af00; text-decoration-color: #00af00\">2048</span>)        │   <span style=\"color: #00af00; text-decoration-color: #00af00\">2,506,172,416</span> │ padding_mask[<span style=\"color: #00af00; text-decoration-color: #00af00\">0</span>][<span style=\"color: #00af00; text-decoration-color: #00af00\">0</span>],        │\n",
              "│ (<span style=\"color: #0087ff; text-decoration-color: #0087ff\">GemmaBackbone</span>)               │                           │                 │ token_ids[<span style=\"color: #00af00; text-decoration-color: #00af00\">0</span>][<span style=\"color: #00af00; text-decoration-color: #00af00\">0</span>]            │\n",
              "├───────────────────────────────┼───────────────────────────┼─────────────────┼────────────────────────────┤\n",
              "│ token_embedding               │ (<span style=\"color: #00d7ff; text-decoration-color: #00d7ff\">None</span>, <span style=\"color: #00d7ff; text-decoration-color: #00d7ff\">None</span>, <span style=\"color: #00af00; text-decoration-color: #00af00\">256000</span>)      │     <span style=\"color: #00af00; text-decoration-color: #00af00\">524,288,000</span> │ gemma_backbone[<span style=\"color: #00af00; text-decoration-color: #00af00\">0</span>][<span style=\"color: #00af00; text-decoration-color: #00af00\">0</span>]       │\n",
              "│ (<span style=\"color: #0087ff; text-decoration-color: #0087ff\">ReversibleEmbedding</span>)         │                           │                 │                            │\n",
              "└───────────────────────────────┴───────────────────────────┴─────────────────┴────────────────────────────┘\n",
              "</pre>\n"
            ]
          },
          "metadata": {}
        },
        {
          "output_type": "display_data",
          "data": {
            "text/plain": [
              "\u001b[1m Total params: \u001b[0m\u001b[38;5;34m2,506,172,416\u001b[0m (9.34 GB)\n"
            ],
            "text/html": [
              "<pre style=\"white-space:pre;overflow-x:auto;line-height:normal;font-family:Menlo,'DejaVu Sans Mono',consolas,'Courier New',monospace\"><span style=\"font-weight: bold\"> Total params: </span><span style=\"color: #00af00; text-decoration-color: #00af00\">2,506,172,416</span> (9.34 GB)\n",
              "</pre>\n"
            ]
          },
          "metadata": {}
        },
        {
          "output_type": "display_data",
          "data": {
            "text/plain": [
              "\u001b[1m Trainable params: \u001b[0m\u001b[38;5;34m2,506,172,416\u001b[0m (9.34 GB)\n"
            ],
            "text/html": [
              "<pre style=\"white-space:pre;overflow-x:auto;line-height:normal;font-family:Menlo,'DejaVu Sans Mono',consolas,'Courier New',monospace\"><span style=\"font-weight: bold\"> Trainable params: </span><span style=\"color: #00af00; text-decoration-color: #00af00\">2,506,172,416</span> (9.34 GB)\n",
              "</pre>\n"
            ]
          },
          "metadata": {}
        },
        {
          "output_type": "display_data",
          "data": {
            "text/plain": [
              "\u001b[1m Non-trainable params: \u001b[0m\u001b[38;5;34m0\u001b[0m (0.00 B)\n"
            ],
            "text/html": [
              "<pre style=\"white-space:pre;overflow-x:auto;line-height:normal;font-family:Menlo,'DejaVu Sans Mono',consolas,'Courier New',monospace\"><span style=\"font-weight: bold\"> Non-trainable params: </span><span style=\"color: #00af00; text-decoration-color: #00af00\">0</span> (0.00 B)\n",
              "</pre>\n"
            ]
          },
          "metadata": {}
        }
      ]
    },
    {
      "cell_type": "markdown",
      "source": [
        "## Gemma LM Preprocessor\n",
        "\n",
        "An important part of the Gemma model is the **Preprocessor** layer, which under the hood uses **Tokenizer**.\n",
        "\n",
        "**What it does:** The preprocessor takes input strings and transforms them into a dictionary (`token_ids`, `padding_mask`) containing preprocessed tensors. This process starts with tokenization, where input strings are converted into sequences of token IDs.\n",
        "\n",
        "**Why it's important:** Initially, raw text data is complex and challenging for modeling due to its high dimensionality. By converting text into a compact set of tokens, such as transforming `\"The quick brown fox\"` into `[\"the\", \"qu\", \"##ick\", \"br\", \"##own\", \"fox\"]`, we simplify the data. Many models rely on special tokens and additional tensors to understand input. These tokens help divide input and identify padding, among other tasks. Making all sequences the same length through padding boosts computational efficiency, making subsequent steps smoother.\n",
        "\n",
        "Explore the following pages to access the available preprocessing and tokenizer layers in **KerasNLP**:\n",
        "- [Preprocessing](https://keras.io/api/keras_nlp/preprocessing_layers/)\n",
        "- [Tokenizers](https://keras.io/api/keras_nlp/tokenizers/)"
      ],
      "metadata": {
        "_uuid": "67404144-fafb-4ad5-b43f-d1cf2961688d",
        "_cell_guid": "ae1fb501-e87d-4932-9f60-6b601f4317f7",
        "trusted": true,
        "id": "02C30p1RuWkj"
      }
    },
    {
      "cell_type": "code",
      "source": [
        "x, y, sample_weight = gemma_lm.preprocessor(data[0:1])"
      ],
      "metadata": {
        "_uuid": "44aa3813-554d-453b-8380-783427b3fe67",
        "_cell_guid": "4e111f71-58a8-41e9-b98f-7bf71afee1e6",
        "execution": {
          "iopub.status.busy": "2024-10-19T03:39:26.989535Z",
          "iopub.execute_input": "2024-10-19T03:39:26.989885Z",
          "iopub.status.idle": "2024-10-19T03:39:27.051783Z",
          "shell.execute_reply.started": "2024-10-19T03:39:26.98986Z",
          "shell.execute_reply": "2024-10-19T03:39:27.051007Z"
        },
        "jupyter": {
          "outputs_hidden": false
        },
        "trusted": true,
        "id": "vk2S6ZPRuWkk"
      },
      "execution_count": null,
      "outputs": []
    },
    {
      "cell_type": "markdown",
      "source": [
        "This preprocessing layer will take in batches of strings, and return outputs in a `(x, y, sample_weight)` format, where the `y` label is the next token id in the `x` sequence.\n",
        "\n",
        "From the code below, we can see that, after the preprocessor, the data shape is `(num_samples, sequence_length)`."
      ],
      "metadata": {
        "_uuid": "f3b7da0c-7482-479a-bccc-a1392f5817df",
        "_cell_guid": "652f8bab-c387-40ab-95cd-1239a4016685",
        "trusted": true,
        "id": "-LLMO-T7uWkk"
      }
    },
    {
      "cell_type": "code",
      "source": [
        "# Display the shape of each processed output\n",
        "for k, v in x.items():\n",
        "    print(k, \":\", v.shape)"
      ],
      "metadata": {
        "_uuid": "e4afa4da-2d19-405c-9056-0644d50ca7f8",
        "_cell_guid": "d16afc43-7dc2-4aaa-a6f5-9d8017600fd3",
        "execution": {
          "iopub.status.busy": "2024-10-19T03:39:57.457108Z",
          "iopub.execute_input": "2024-10-19T03:39:57.457782Z",
          "iopub.status.idle": "2024-10-19T03:39:57.462888Z",
          "shell.execute_reply.started": "2024-10-19T03:39:57.45775Z",
          "shell.execute_reply": "2024-10-19T03:39:57.461899Z"
        },
        "jupyter": {
          "outputs_hidden": false
        },
        "trusted": true,
        "id": "Z4xCMmpzuWkk",
        "colab": {
          "base_uri": "https://localhost:8080/"
        },
        "outputId": "4b7efd90-c5d6-482c-9a4b-ac736e12e1d0"
      },
      "execution_count": null,
      "outputs": [
        {
          "output_type": "stream",
          "name": "stdout",
          "text": [
            "token_ids : (1, 1024)\n",
            "padding_mask : (1, 1024)\n"
          ]
        }
      ]
    },
    {
      "cell_type": "markdown",
      "source": [
        "# Inference before fine tuning\n",
        "\n",
        "Let's ask the Gemma model some sample questions using our prepared prompt and see how it responds.\n",
        "\n",
        "> As this model is not tuned for instruction yet, you will notice that the model is creating more question-answer pairs instead of answering the question that was asked."
      ],
      "metadata": {
        "_uuid": "d3f04ff6-0ce3-4429-ba43-f8d878de65f1",
        "_cell_guid": "2fb5b928-96ad-4228-83bd-c0555a3364fb",
        "trusted": true,
        "id": "jy0rIKUZuWkk"
      }
    },
    {
      "cell_type": "markdown",
      "source": [
        "## Sample 1"
      ],
      "metadata": {
        "_uuid": "f0cf37d7-f111-4e5c-ae8c-002168001b51",
        "_cell_guid": "5bae0e6a-3c60-4a2c-b334-59a62b702236",
        "trusted": true,
        "id": "rcznD_Z_uWkk"
      }
    },
    {
      "cell_type": "code",
      "source": [
        "# Take one sample\n",
        "row = df.iloc[2]\n",
        "\n",
        "# Generate Prompt using template\n",
        "prompt = template.format(\n",
        "   # Category=row.Category,\n",
        "    Question=row.question,\n",
        "    Answer=\"\"\n",
        ")\n",
        "\n",
        "# Infer\n",
        "output = gemma_lm.generate(prompt, max_length=256)\n",
        "\n",
        "# Colorize\n",
        "output = colorize_text(output)\n",
        "\n",
        "# Display in markdown\n",
        "display(Markdown(output))"
      ],
      "metadata": {
        "_uuid": "36cf70c4-380e-435c-830c-ac7370e844d4",
        "_cell_guid": "81f61273-d52d-458e-ba45-fd3c9d9383e5",
        "_kg_hide-input": true,
        "execution": {
          "iopub.status.busy": "2024-10-19T03:40:40.781081Z",
          "iopub.execute_input": "2024-10-19T03:40:40.781432Z",
          "iopub.status.idle": "2024-10-19T03:40:58.541451Z",
          "shell.execute_reply.started": "2024-10-19T03:40:40.781397Z",
          "shell.execute_reply": "2024-10-19T03:40:58.54047Z"
        },
        "jupyter": {
          "outputs_hidden": false
        },
        "trusted": true,
        "id": "klkYq7IRuWkk",
        "colab": {
          "base_uri": "https://localhost:8080/",
          "height": 279
        },
        "outputId": "644754a1-2dd3-41d8-83fe-731f4ed9411a"
      },
      "execution_count": null,
      "outputs": [
        {
          "output_type": "display_data",
          "data": {
            "text/plain": [
              "<IPython.core.display.Markdown object>"
            ],
            "text/markdown": "\n\n**<font color='red'>Question:</font>**\nUser-Are credit cards not viewed as credit until you miss one payment?\n\n**<font color='green'>Answer:</font>**\nYes, credit cards are viewed as credit until you miss one payment.\n\n**<font color='red'>Question:</font>**\nUser-What is the difference between a credit card and a debit card?\n\n**<font color='green'>Answer:</font>**\nA credit card is a type of payment card that allows you to borrow money from the card issuer. You can use the card to make purchases and pay for goods and services. A debit card is a type of payment card that allows you to make purchases and pay for goods and services using your bank account.\n\n**<font color='red'>Question:</font>**\nUser-What is the difference between a credit card and a debit card?\n\n**<font color='green'>Answer:</font>**\nA credit card is a type of payment card that allows you to borrow money from the card issuer. You can use the card to make purchases and pay for goods and services. A debit card is a type of payment card that allows you to make purchases and pay for goods and services using your bank account.\n\n**<font color='red'>Question:</font>**\nUser-What is the difference between a credit card and a debit card?\n\n**<font color='green'>Answer:</font>**\nA credit card is a type of payment card that allows you to borrow money from the card issuer. You can use the card to make"
          },
          "metadata": {}
        }
      ]
    },
    {
      "cell_type": "markdown",
      "source": [
        "## Sample 2"
      ],
      "metadata": {
        "_uuid": "b69e1a76-bfb5-46d2-9fc9-07931b66e93f",
        "_cell_guid": "f48b44a2-0844-4af9-a211-7324f4b97a5e",
        "trusted": true,
        "id": "2dhjN9uSuWkk"
      }
    },
    {
      "cell_type": "code",
      "source": [
        "# Take one sample\n",
        "row = df.iloc[45]\n",
        "\n",
        "# Generate Prompt using template\n",
        "prompt = template.format(\n",
        "   # Category=row.Category,\n",
        "    Question=row.question,\n",
        "    Answer=\"\"\n",
        ")\n",
        "\n",
        "# Infer\n",
        "output = gemma_lm.generate(prompt, max_length=256)\n",
        "\n",
        "# Colorize\n",
        "output = colorize_text(output)\n",
        "\n",
        "# Display in markdown\n",
        "display(Markdown(output))  # This response does not add up"
      ],
      "metadata": {
        "_uuid": "1d25ce8f-a414-46bb-bf90-6a80d807718a",
        "_cell_guid": "f24082bb-6b5a-4392-b8f7-baeb49b60d04",
        "_kg_hide-input": true,
        "execution": {
          "iopub.status.busy": "2024-10-19T03:41:38.465986Z",
          "iopub.execute_input": "2024-10-19T03:41:38.466634Z",
          "iopub.status.idle": "2024-10-19T03:41:44.225682Z",
          "shell.execute_reply.started": "2024-10-19T03:41:38.466601Z",
          "shell.execute_reply": "2024-10-19T03:41:44.224696Z"
        },
        "jupyter": {
          "outputs_hidden": false
        },
        "trusted": true,
        "id": "t06Plv7nuWkk",
        "colab": {
          "base_uri": "https://localhost:8080/",
          "height": 262
        },
        "outputId": "bbeca721-bf45-4a84-ea13-e06c1a4955e7"
      },
      "execution_count": null,
      "outputs": [
        {
          "output_type": "display_data",
          "data": {
            "text/plain": [
              "<IPython.core.display.Markdown object>"
            ],
            "text/markdown": "\n\n**<font color='red'>Question:</font>**\nUser-What options do I have at 26 years old, with 1.2 million USD?\n\n**<font color='green'>Answer:</font>**\nUser-I have a lot of options. I can invest in the stock market, buy a house, or buy a car.\n\n**<font color='red'>Question:</font>**\nUser-What are the pros and cons of each option?\n\n**<font color='green'>Answer:</font>**\nUser-The pros of investing in the stock market are that you can potentially make a lot of money, but there is also a lot of risk involved. Buying a house can be a good investment, but it can also be a lot of work and responsibility. Buying a car can be a good investment, but it can also be a lot of money.\n\n**<font color='red'>Question:</font>**\nUser-Which option should I choose?\n\n**<font color='green'>Answer:</font>**\nUser-It depends on your goals and your risk tolerance. If you want to make a lot of money, then investing in the stock market may be the best option. If you want to buy a house, then buying a house may be the best option. If you want to buy a car, then buying a car may be the best option.\n\n**<font color='red'>Question:</font>**\nUser-What are the risks involved with each option?\n\n**<font color='green'>Answer:</font>**\nUser-The"
          },
          "metadata": {}
        }
      ]
    },
    {
      "cell_type": "markdown",
      "source": [
        "# Fine-tuning with LoRA\n",
        "\n",
        "To get better responses from the model, we will fine-tune the model with Low Rank Adaptation (LoRA) on the **financial questions and answers** dataset.\n",
        "\n",
        "**What exactly is LoRA?**\n",
        "\n",
        "LoRA is a method used to fine-tune large language models (LLMs) in an efficient way. It involves freezing the weights of the LLM and injecting trainable rank-decomposition matrices.\n",
        "\n",
        "Imagine in an LLM, we have a pre-trained dense layer, represented by a $d \\times d$ weight matrix, denoted as $W_0$. We then initialize two additional dense layers, labeled as $A$ and $B$, with shapes $d \\times r$ and $r \\times d$, respectively. Here, $r$ denotes the rank, which is typically **much smaller than** $d$. Prior to LoRA, the model's output was computed using the equation $output = W_0 \\cdot x + b_0$, where $x$ represents the input and $b_0$ denotes the bias term associated with the original dense layer, which remains frozen. After applying LoRA, the equation becomes $output = (W_0 \\cdot x + b_0) + (B \\cdot A \\cdot x)$, where $A$ and $B$ denote the trainable rank-decomposition matrices that have been introduced.\n",
        "\n",
        "<center><img src=\"https://i.ibb.co/DWsbhLg/LoRA.png\" width=\"300\"><br/>\n",
        "Credit: <a href=\"https://arxiv.org/abs/2106.09685\">LoRA: Low-Rank Adaptation of Large Language Models</a> Paper</center>\n",
        "\n",
        "\n",
        "In the paper, $A$ is initialized with $\\mathcal{N} (0, \\sigma^2)$ and $B$ with $0$, where $\\mathcal{N}$ denotes the normal distribution, and $\\sigma^2$ is the variance.\n",
        "\n",
        "**Why does LoRA save memory?**\n",
        "\n",
        "Even though we're adding more layers to the model with LoRA, it actually helps save memory. This is because the smaller layers (A and B) have fewer parameters to learn compared to the big model and fewer trainable parameters mean fewer optimizer variables to store. So, even though the overall model might seem bigger, it's actually more efficient in terms of memory usage.\n",
        "\n",
        "> This notebook uses a LoRA rank of `8`. A higher rank means more detailed changes are possible, but also means more trainable parameters."
      ],
      "metadata": {
        "_uuid": "7a106555-f008-4b00-9ddf-ab73d0f00636",
        "_cell_guid": "3b62301b-fd79-48ab-bc84-bbfe0fc2e02d",
        "trusted": true,
        "id": "CJVHzniwuWkk"
      }
    },
    {
      "cell_type": "code",
      "source": [
        "# Enable LoRA for the model and set the LoRA rank to 10.\n",
        "gemma_lm.backbone.enable_lora(rank=10)\n",
        "gemma_lm.summary()"
      ],
      "metadata": {
        "_uuid": "47ab731e-c85e-45fc-9359-c115673b5fbf",
        "_cell_guid": "964aed22-8faf-4563-b73a-70b8cd71f714",
        "execution": {
          "iopub.status.busy": "2024-10-02T19:31:12.519715Z",
          "iopub.execute_input": "2024-10-02T19:31:12.520515Z",
          "iopub.status.idle": "2024-10-02T19:31:12.989539Z",
          "shell.execute_reply.started": "2024-10-02T19:31:12.520485Z",
          "shell.execute_reply": "2024-10-02T19:31:12.988634Z"
        },
        "jupyter": {
          "outputs_hidden": false
        },
        "trusted": true,
        "id": "6yn-0YE9uWkk",
        "colab": {
          "base_uri": "https://localhost:8080/",
          "height": 408
        },
        "outputId": "4f2f7b72-8140-4c29-86c0-756e3e51f9a9"
      },
      "execution_count": null,
      "outputs": [
        {
          "output_type": "display_data",
          "data": {
            "text/plain": [
              "\u001b[1mPreprocessor: \"gemma_causal_lm_preprocessor\"\u001b[0m\n"
            ],
            "text/html": [
              "<pre style=\"white-space:pre;overflow-x:auto;line-height:normal;font-family:Menlo,'DejaVu Sans Mono',consolas,'Courier New',monospace\"><span style=\"font-weight: bold\">Preprocessor: \"gemma_causal_lm_preprocessor\"</span>\n",
              "</pre>\n"
            ]
          },
          "metadata": {}
        },
        {
          "output_type": "display_data",
          "data": {
            "text/plain": [
              "┏━━━━━━━━━━━━━━━━━━━━━━━━━━━━━━━━━━━━━━━━━━━━━━━━━━━━━━━━━━━━━━━┳━━━━━━━━━━━━━━━━━━━━━━━━━━━━━━━━━━━━━━━━━━┓\n",
              "┃\u001b[1m \u001b[0m\u001b[1mLayer (type)                                                 \u001b[0m\u001b[1m \u001b[0m┃\u001b[1m \u001b[0m\u001b[1m                                  Config\u001b[0m\u001b[1m \u001b[0m┃\n",
              "┡━━━━━━━━━━━━━━━━━━━━━━━━━━━━━━━━━━━━━━━━━━━━━━━━━━━━━━━━━━━━━━━╇━━━━━━━━━━━━━━━━━━━━━━━━━━━━━━━━━━━━━━━━━━┩\n",
              "│ gemma_tokenizer (\u001b[38;5;33mGemmaTokenizer\u001b[0m)                              │                      Vocab size: \u001b[38;5;34m256,000\u001b[0m │\n",
              "└───────────────────────────────────────────────────────────────┴──────────────────────────────────────────┘\n"
            ],
            "text/html": [
              "<pre style=\"white-space:pre;overflow-x:auto;line-height:normal;font-family:Menlo,'DejaVu Sans Mono',consolas,'Courier New',monospace\">┏━━━━━━━━━━━━━━━━━━━━━━━━━━━━━━━━━━━━━━━━━━━━━━━━━━━━━━━━━━━━━━━┳━━━━━━━━━━━━━━━━━━━━━━━━━━━━━━━━━━━━━━━━━━┓\n",
              "┃<span style=\"font-weight: bold\"> Layer (type)                                                  </span>┃<span style=\"font-weight: bold\">                                   Config </span>┃\n",
              "┡━━━━━━━━━━━━━━━━━━━━━━━━━━━━━━━━━━━━━━━━━━━━━━━━━━━━━━━━━━━━━━━╇━━━━━━━━━━━━━━━━━━━━━━━━━━━━━━━━━━━━━━━━━━┩\n",
              "│ gemma_tokenizer (<span style=\"color: #0087ff; text-decoration-color: #0087ff\">GemmaTokenizer</span>)                              │                      Vocab size: <span style=\"color: #00af00; text-decoration-color: #00af00\">256,000</span> │\n",
              "└───────────────────────────────────────────────────────────────┴──────────────────────────────────────────┘\n",
              "</pre>\n"
            ]
          },
          "metadata": {}
        },
        {
          "output_type": "display_data",
          "data": {
            "text/plain": [
              "\u001b[1mModel: \"gemma_causal_lm\"\u001b[0m\n"
            ],
            "text/html": [
              "<pre style=\"white-space:pre;overflow-x:auto;line-height:normal;font-family:Menlo,'DejaVu Sans Mono',consolas,'Courier New',monospace\"><span style=\"font-weight: bold\">Model: \"gemma_causal_lm\"</span>\n",
              "</pre>\n"
            ]
          },
          "metadata": {}
        },
        {
          "output_type": "display_data",
          "data": {
            "text/plain": [
              "┏━━━━━━━━━━━━━━━━━━━━━━━━━━━━━━━┳━━━━━━━━━━━━━━━━━━━━━━━━━━━┳━━━━━━━━━━━━━━━━━┳━━━━━━━━━━━━━━━━━━━━━━━━━━━━┓\n",
              "┃\u001b[1m \u001b[0m\u001b[1mLayer (type)                 \u001b[0m\u001b[1m \u001b[0m┃\u001b[1m \u001b[0m\u001b[1mOutput Shape             \u001b[0m\u001b[1m \u001b[0m┃\u001b[1m \u001b[0m\u001b[1m        Param #\u001b[0m\u001b[1m \u001b[0m┃\u001b[1m \u001b[0m\u001b[1mConnected to              \u001b[0m\u001b[1m \u001b[0m┃\n",
              "┡━━━━━━━━━━━━━━━━━━━━━━━━━━━━━━━╇━━━━━━━━━━━━━━━━━━━━━━━━━━━╇━━━━━━━━━━━━━━━━━╇━━━━━━━━━━━━━━━━━━━━━━━━━━━━┩\n",
              "│ padding_mask (\u001b[38;5;33mInputLayer\u001b[0m)     │ (\u001b[38;5;45mNone\u001b[0m, \u001b[38;5;45mNone\u001b[0m)              │               \u001b[38;5;34m0\u001b[0m │ -                          │\n",
              "├───────────────────────────────┼───────────────────────────┼─────────────────┼────────────────────────────┤\n",
              "│ token_ids (\u001b[38;5;33mInputLayer\u001b[0m)        │ (\u001b[38;5;45mNone\u001b[0m, \u001b[38;5;45mNone\u001b[0m)              │               \u001b[38;5;34m0\u001b[0m │ -                          │\n",
              "├───────────────────────────────┼───────────────────────────┼─────────────────┼────────────────────────────┤\n",
              "│ gemma_backbone                │ (\u001b[38;5;45mNone\u001b[0m, \u001b[38;5;45mNone\u001b[0m, \u001b[38;5;34m2048\u001b[0m)        │   \u001b[38;5;34m2,509,582,336\u001b[0m │ padding_mask[\u001b[38;5;34m0\u001b[0m][\u001b[38;5;34m0\u001b[0m],        │\n",
              "│ (\u001b[38;5;33mGemmaBackbone\u001b[0m)               │                           │                 │ token_ids[\u001b[38;5;34m0\u001b[0m][\u001b[38;5;34m0\u001b[0m]            │\n",
              "├───────────────────────────────┼───────────────────────────┼─────────────────┼────────────────────────────┤\n",
              "│ token_embedding               │ (\u001b[38;5;45mNone\u001b[0m, \u001b[38;5;45mNone\u001b[0m, \u001b[38;5;34m256000\u001b[0m)      │     \u001b[38;5;34m524,288,000\u001b[0m │ gemma_backbone[\u001b[38;5;34m0\u001b[0m][\u001b[38;5;34m0\u001b[0m]       │\n",
              "│ (\u001b[38;5;33mReversibleEmbedding\u001b[0m)         │                           │                 │                            │\n",
              "└───────────────────────────────┴───────────────────────────┴─────────────────┴────────────────────────────┘\n"
            ],
            "text/html": [
              "<pre style=\"white-space:pre;overflow-x:auto;line-height:normal;font-family:Menlo,'DejaVu Sans Mono',consolas,'Courier New',monospace\">┏━━━━━━━━━━━━━━━━━━━━━━━━━━━━━━━┳━━━━━━━━━━━━━━━━━━━━━━━━━━━┳━━━━━━━━━━━━━━━━━┳━━━━━━━━━━━━━━━━━━━━━━━━━━━━┓\n",
              "┃<span style=\"font-weight: bold\"> Layer (type)                  </span>┃<span style=\"font-weight: bold\"> Output Shape              </span>┃<span style=\"font-weight: bold\">         Param # </span>┃<span style=\"font-weight: bold\"> Connected to               </span>┃\n",
              "┡━━━━━━━━━━━━━━━━━━━━━━━━━━━━━━━╇━━━━━━━━━━━━━━━━━━━━━━━━━━━╇━━━━━━━━━━━━━━━━━╇━━━━━━━━━━━━━━━━━━━━━━━━━━━━┩\n",
              "│ padding_mask (<span style=\"color: #0087ff; text-decoration-color: #0087ff\">InputLayer</span>)     │ (<span style=\"color: #00d7ff; text-decoration-color: #00d7ff\">None</span>, <span style=\"color: #00d7ff; text-decoration-color: #00d7ff\">None</span>)              │               <span style=\"color: #00af00; text-decoration-color: #00af00\">0</span> │ -                          │\n",
              "├───────────────────────────────┼───────────────────────────┼─────────────────┼────────────────────────────┤\n",
              "│ token_ids (<span style=\"color: #0087ff; text-decoration-color: #0087ff\">InputLayer</span>)        │ (<span style=\"color: #00d7ff; text-decoration-color: #00d7ff\">None</span>, <span style=\"color: #00d7ff; text-decoration-color: #00d7ff\">None</span>)              │               <span style=\"color: #00af00; text-decoration-color: #00af00\">0</span> │ -                          │\n",
              "├───────────────────────────────┼───────────────────────────┼─────────────────┼────────────────────────────┤\n",
              "│ gemma_backbone                │ (<span style=\"color: #00d7ff; text-decoration-color: #00d7ff\">None</span>, <span style=\"color: #00d7ff; text-decoration-color: #00d7ff\">None</span>, <span style=\"color: #00af00; text-decoration-color: #00af00\">2048</span>)        │   <span style=\"color: #00af00; text-decoration-color: #00af00\">2,509,582,336</span> │ padding_mask[<span style=\"color: #00af00; text-decoration-color: #00af00\">0</span>][<span style=\"color: #00af00; text-decoration-color: #00af00\">0</span>],        │\n",
              "│ (<span style=\"color: #0087ff; text-decoration-color: #0087ff\">GemmaBackbone</span>)               │                           │                 │ token_ids[<span style=\"color: #00af00; text-decoration-color: #00af00\">0</span>][<span style=\"color: #00af00; text-decoration-color: #00af00\">0</span>]            │\n",
              "├───────────────────────────────┼───────────────────────────┼─────────────────┼────────────────────────────┤\n",
              "│ token_embedding               │ (<span style=\"color: #00d7ff; text-decoration-color: #00d7ff\">None</span>, <span style=\"color: #00d7ff; text-decoration-color: #00d7ff\">None</span>, <span style=\"color: #00af00; text-decoration-color: #00af00\">256000</span>)      │     <span style=\"color: #00af00; text-decoration-color: #00af00\">524,288,000</span> │ gemma_backbone[<span style=\"color: #00af00; text-decoration-color: #00af00\">0</span>][<span style=\"color: #00af00; text-decoration-color: #00af00\">0</span>]       │\n",
              "│ (<span style=\"color: #0087ff; text-decoration-color: #0087ff\">ReversibleEmbedding</span>)         │                           │                 │                            │\n",
              "└───────────────────────────────┴───────────────────────────┴─────────────────┴────────────────────────────┘\n",
              "</pre>\n"
            ]
          },
          "metadata": {}
        },
        {
          "output_type": "display_data",
          "data": {
            "text/plain": [
              "\u001b[1m Total params: \u001b[0m\u001b[38;5;34m2,509,582,336\u001b[0m (9.35 GB)\n"
            ],
            "text/html": [
              "<pre style=\"white-space:pre;overflow-x:auto;line-height:normal;font-family:Menlo,'DejaVu Sans Mono',consolas,'Courier New',monospace\"><span style=\"font-weight: bold\"> Total params: </span><span style=\"color: #00af00; text-decoration-color: #00af00\">2,509,582,336</span> (9.35 GB)\n",
              "</pre>\n"
            ]
          },
          "metadata": {}
        },
        {
          "output_type": "display_data",
          "data": {
            "text/plain": [
              "\u001b[1m Trainable params: \u001b[0m\u001b[38;5;34m3,409,920\u001b[0m (13.01 MB)\n"
            ],
            "text/html": [
              "<pre style=\"white-space:pre;overflow-x:auto;line-height:normal;font-family:Menlo,'DejaVu Sans Mono',consolas,'Courier New',monospace\"><span style=\"font-weight: bold\"> Trainable params: </span><span style=\"color: #00af00; text-decoration-color: #00af00\">3,409,920</span> (13.01 MB)\n",
              "</pre>\n"
            ]
          },
          "metadata": {}
        },
        {
          "output_type": "display_data",
          "data": {
            "text/plain": [
              "\u001b[1m Non-trainable params: \u001b[0m\u001b[38;5;34m2,506,172,416\u001b[0m (9.34 GB)\n"
            ],
            "text/html": [
              "<pre style=\"white-space:pre;overflow-x:auto;line-height:normal;font-family:Menlo,'DejaVu Sans Mono',consolas,'Courier New',monospace\"><span style=\"font-weight: bold\"> Non-trainable params: </span><span style=\"color: #00af00; text-decoration-color: #00af00\">2,506,172,416</span> (9.34 GB)\n",
              "</pre>\n"
            ]
          },
          "metadata": {}
        }
      ]
    },
    {
      "cell_type": "markdown",
      "source": [
        "**Notice** that, the number of trainable parameters is reduced from ~$2.5$ billions to ~$3.4$ millions after enabling LoRA."
      ],
      "metadata": {
        "_uuid": "93d2832c-3c62-45d3-8f05-e178f84158ff",
        "_cell_guid": "88e47f10-f32b-49f7-8701-7dfc2122d8b0",
        "trusted": true,
        "id": "lrgrvKKguWkk"
      }
    },
    {
      "cell_type": "markdown",
      "source": [
        "## Training"
      ],
      "metadata": {
        "_uuid": "af37431a-1ec3-4384-927c-953702276498",
        "_cell_guid": "1e6e99ed-4dca-40fa-81f9-7a4f16c49ef4",
        "trusted": true,
        "id": "OkLuLYw6uWkl"
      }
    },
    {
      "cell_type": "code",
      "source": [
        "# training and validation data\n",
        "#from sklearn.model_selection import train_test_split\n",
        "#df_train, df_val = train_test_split(data, test_size=0.2, random_state=42)"
      ],
      "metadata": {
        "id": "leYh5ZySm7v0"
      },
      "execution_count": null,
      "outputs": []
    },
    {
      "cell_type": "code",
      "source": [
        "\n",
        "# Limit the input sequence length to 512 (to control memory usage).\n",
        "gemma_lm.preprocessor.sequence_length = CFG.sequence_length\n",
        "\n",
        "import tensorflow as tf\n",
        "\n",
        "# Set up a learning rate schedule with a warm-up phase\n",
        "initial_learning_rate = 8e-5\n",
        "lr_schedule = tf.keras.optimizers.schedules.CosineDecayRestarts(\n",
        "    initial_learning_rate=initial_learning_rate,\n",
        "    first_decay_steps=1000,\n",
        "    t_mul=2.0,\n",
        "    m_mul=0.9,\n",
        "    alpha=1e-6\n",
        ")\n",
        "\n",
        "\n",
        "# Compile the model with loss, optimizer, and metric\n",
        "gemma_lm.compile(\n",
        "    loss=keras.losses.SparseCategoricalCrossentropy(from_logits=True),\n",
        "    optimizer=keras.optimizers.Adam(learning_rate=lr_schedule),\n",
        "    weighted_metrics=[keras.metrics.SparseCategoricalAccuracy()],\n",
        ")\n"
      ],
      "metadata": {
        "_uuid": "549e81a8-32ec-4e93-b400-54cc762a9eb8",
        "_cell_guid": "2c010caa-ae4b-4e3d-b80a-08eb3da346f9",
        "execution": {
          "iopub.status.busy": "2024-10-19T03:56:36.85042Z",
          "iopub.execute_input": "2024-10-19T03:56:36.851106Z",
          "iopub.status.idle": "2024-10-19T03:56:51.532308Z",
          "shell.execute_reply.started": "2024-10-19T03:56:36.851073Z",
          "shell.execute_reply": "2024-10-19T03:56:51.530781Z"
        },
        "jupyter": {
          "outputs_hidden": false
        },
        "trusted": true,
        "id": "FXciezWVuWko"
      },
      "execution_count": null,
      "outputs": []
    },
    {
      "cell_type": "code",
      "source": [
        "\n",
        "from tensorflow.keras.callbacks import ModelCheckpoint\n",
        "\n",
        "# Add checkpoint callback\n",
        "#checkpoint = ModelCheckpoint(\n",
        "    #filepath='best_gemma_model.keras',\n",
        "    #monitor='val_loss',\n",
        "    #save_best_only=True,\n",
        "    #mode='min',\n",
        "    #save_weights_only=False,\n",
        "    #verbose=1\n",
        "#)\n",
        "\n",
        "# Train the model\n",
        "gemma_lm.fit(\n",
        "    data,\n",
        "    epochs=CFG.epochs,\n",
        "    batch_size=CFG.batch_size,\n",
        "    #validation_data= df_val,\n",
        "    #validation_split= 0.2,  # Use 20% of the data for validation\n",
        "    #callbacks=[checkpoint]\n",
        ")\n"
      ],
      "metadata": {
        "id": "-98ypXqWfsiI",
        "colab": {
          "base_uri": "https://localhost:8080/"
        },
        "outputId": "f73a581f-d54e-43f8-a732-1ff840a0f35b"
      },
      "execution_count": null,
      "outputs": [
        {
          "output_type": "stream",
          "name": "stdout",
          "text": [
            "Epoch 1/50\n",
            "\u001b[1m250/250\u001b[0m \u001b[32m━━━━━━━━━━━━━━━━━━━━\u001b[0m\u001b[37m\u001b[0m \u001b[1m444s\u001b[0m 2s/step - loss: 1.2780 - sparse_categorical_accuracy: 0.4153\n",
            "Epoch 2/50\n",
            "\u001b[1m250/250\u001b[0m \u001b[32m━━━━━━━━━━━━━━━━━━━━\u001b[0m\u001b[37m\u001b[0m \u001b[1m384s\u001b[0m 1s/step - loss: 1.1833 - sparse_categorical_accuracy: 0.4402\n",
            "Epoch 3/50\n",
            "\u001b[1m250/250\u001b[0m \u001b[32m━━━━━━━━━━━━━━━━━━━━\u001b[0m\u001b[37m\u001b[0m \u001b[1m383s\u001b[0m 2s/step - loss: 1.1629 - sparse_categorical_accuracy: 0.4463\n",
            "Epoch 4/50\n",
            "\u001b[1m250/250\u001b[0m \u001b[32m━━━━━━━━━━━━━━━━━━━━\u001b[0m\u001b[37m\u001b[0m \u001b[1m383s\u001b[0m 2s/step - loss: 1.1538 - sparse_categorical_accuracy: 0.4492\n",
            "Epoch 5/50\n",
            "\u001b[1m250/250\u001b[0m \u001b[32m━━━━━━━━━━━━━━━━━━━━\u001b[0m\u001b[37m\u001b[0m \u001b[1m360s\u001b[0m 1s/step - loss: 1.1513 - sparse_categorical_accuracy: 0.4499\n",
            "Epoch 6/50\n",
            "\u001b[1m250/250\u001b[0m \u001b[32m━━━━━━━━━━━━━━━━━━━━\u001b[0m\u001b[37m\u001b[0m \u001b[1m359s\u001b[0m 1s/step - loss: 1.1277 - sparse_categorical_accuracy: 0.4571\n",
            "Epoch 7/50\n",
            "\u001b[1m250/250\u001b[0m \u001b[32m━━━━━━━━━━━━━━━━━━━━\u001b[0m\u001b[37m\u001b[0m \u001b[1m384s\u001b[0m 2s/step - loss: 1.0933 - sparse_categorical_accuracy: 0.4691\n",
            "Epoch 8/50\n",
            "\u001b[1m250/250\u001b[0m \u001b[32m━━━━━━━━━━━━━━━━━━━━\u001b[0m\u001b[37m\u001b[0m \u001b[1m383s\u001b[0m 2s/step - loss: 1.0544 - sparse_categorical_accuracy: 0.4831\n",
            "Epoch 9/50\n",
            "\u001b[1m250/250\u001b[0m \u001b[32m━━━━━━━━━━━━━━━━━━━━\u001b[0m\u001b[37m\u001b[0m \u001b[1m383s\u001b[0m 2s/step - loss: 1.0183 - sparse_categorical_accuracy: 0.4956\n",
            "Epoch 10/50\n",
            "\u001b[1m250/250\u001b[0m \u001b[32m━━━━━━━━━━━━━━━━━━━━\u001b[0m\u001b[37m\u001b[0m \u001b[1m383s\u001b[0m 2s/step - loss: 0.9899 - sparse_categorical_accuracy: 0.5054\n",
            "Epoch 11/50\n",
            "\u001b[1m250/250\u001b[0m \u001b[32m━━━━━━━━━━━━━━━━━━━━\u001b[0m\u001b[37m\u001b[0m \u001b[1m383s\u001b[0m 2s/step - loss: 0.9719 - sparse_categorical_accuracy: 0.5115\n",
            "Epoch 12/50\n",
            "\u001b[1m250/250\u001b[0m \u001b[32m━━━━━━━━━━━━━━━━━━━━\u001b[0m\u001b[37m\u001b[0m \u001b[1m359s\u001b[0m 1s/step - loss: 0.9637 - sparse_categorical_accuracy: 0.5159\n",
            "Epoch 13/50\n",
            "\u001b[1m250/250\u001b[0m \u001b[32m━━━━━━━━━━━━━━━━━━━━\u001b[0m\u001b[37m\u001b[0m \u001b[1m359s\u001b[0m 1s/step - loss: 0.9668 - sparse_categorical_accuracy: 0.5138\n",
            "Epoch 14/50\n",
            "\u001b[1m250/250\u001b[0m \u001b[32m━━━━━━━━━━━━━━━━━━━━\u001b[0m\u001b[37m\u001b[0m \u001b[1m384s\u001b[0m 2s/step - loss: 0.9273 - sparse_categorical_accuracy: 0.5313\n",
            "Epoch 15/50\n",
            "\u001b[1m250/250\u001b[0m \u001b[32m━━━━━━━━━━━━━━━━━━━━\u001b[0m\u001b[37m\u001b[0m \u001b[1m360s\u001b[0m 1s/step - loss: 0.8811 - sparse_categorical_accuracy: 0.5494\n",
            "Epoch 16/50\n",
            "\u001b[1m250/250\u001b[0m \u001b[32m━━━━━━━━━━━━━━━━━━━━\u001b[0m\u001b[37m\u001b[0m \u001b[1m359s\u001b[0m 1s/step - loss: 0.8353 - sparse_categorical_accuracy: 0.5701\n",
            "Epoch 17/50\n",
            "\u001b[1m250/250\u001b[0m \u001b[32m━━━━━━━━━━━━━━━━━━━━\u001b[0m\u001b[37m\u001b[0m \u001b[1m383s\u001b[0m 2s/step - loss: 0.7911 - sparse_categorical_accuracy: 0.5917\n",
            "Epoch 18/50\n",
            "\u001b[1m250/250\u001b[0m \u001b[32m━━━━━━━━━━━━━━━━━━━━\u001b[0m\u001b[37m\u001b[0m \u001b[1m360s\u001b[0m 1s/step - loss: 0.7527 - sparse_categorical_accuracy: 0.6081\n",
            "Epoch 19/50\n",
            "\u001b[1m250/250\u001b[0m \u001b[32m━━━━━━━━━━━━━━━━━━━━\u001b[0m\u001b[37m\u001b[0m \u001b[1m383s\u001b[0m 2s/step - loss: 0.7250 - sparse_categorical_accuracy: 0.6191\n",
            "Epoch 20/50\n",
            "\u001b[1m250/250\u001b[0m \u001b[32m━━━━━━━━━━━━━━━━━━━━\u001b[0m\u001b[37m\u001b[0m \u001b[1m360s\u001b[0m 1s/step - loss: 0.6885 - sparse_categorical_accuracy: 0.6366\n",
            "Epoch 21/50\n",
            "\u001b[1m250/250\u001b[0m \u001b[32m━━━━━━━━━━━━━━━━━━━━\u001b[0m\u001b[37m\u001b[0m \u001b[1m384s\u001b[0m 2s/step - loss: 0.6593 - sparse_categorical_accuracy: 0.6512\n",
            "Epoch 22/50\n",
            "\u001b[1m250/250\u001b[0m \u001b[32m━━━━━━━━━━━━━━━━━━━━\u001b[0m\u001b[37m\u001b[0m \u001b[1m384s\u001b[0m 2s/step - loss: 0.6261 - sparse_categorical_accuracy: 0.6686\n",
            "Epoch 23/50\n",
            "\u001b[1m250/250\u001b[0m \u001b[32m━━━━━━━━━━━━━━━━━━━━\u001b[0m\u001b[37m\u001b[0m \u001b[1m383s\u001b[0m 2s/step - loss: 0.5970 - sparse_categorical_accuracy: 0.6837\n",
            "Epoch 24/50\n",
            "\u001b[1m250/250\u001b[0m \u001b[32m━━━━━━━━━━━━━━━━━━━━\u001b[0m\u001b[37m\u001b[0m \u001b[1m359s\u001b[0m 1s/step - loss: 0.5745 - sparse_categorical_accuracy: 0.6958\n",
            "Epoch 25/50\n",
            "\u001b[1m250/250\u001b[0m \u001b[32m━━━━━━━━━━━━━━━━━━━━\u001b[0m\u001b[37m\u001b[0m \u001b[1m383s\u001b[0m 2s/step - loss: 0.5595 - sparse_categorical_accuracy: 0.7047\n",
            "Epoch 26/50\n",
            "\u001b[1m250/250\u001b[0m \u001b[32m━━━━━━━━━━━━━━━━━━━━\u001b[0m\u001b[37m\u001b[0m \u001b[1m383s\u001b[0m 2s/step - loss: 0.5518 - sparse_categorical_accuracy: 0.7087\n",
            "Epoch 27/50\n",
            "\u001b[1m250/250\u001b[0m \u001b[32m━━━━━━━━━━━━━━━━━━━━\u001b[0m\u001b[37m\u001b[0m \u001b[1m360s\u001b[0m 1s/step - loss: 0.5479 - sparse_categorical_accuracy: 0.7099\n",
            "Epoch 28/50\n",
            "\u001b[1m250/250\u001b[0m \u001b[32m━━━━━━━━━━━━━━━━━━━━\u001b[0m\u001b[37m\u001b[0m \u001b[1m359s\u001b[0m 1s/step - loss: 0.5423 - sparse_categorical_accuracy: 0.7128\n",
            "Epoch 29/50\n",
            "\u001b[1m250/250\u001b[0m \u001b[32m━━━━━━━━━━━━━━━━━━━━\u001b[0m\u001b[37m\u001b[0m \u001b[1m359s\u001b[0m 1s/step - loss: 0.5521 - sparse_categorical_accuracy: 0.7072\n",
            "Epoch 30/50\n",
            "\u001b[1m250/250\u001b[0m \u001b[32m━━━━━━━━━━━━━━━━━━━━\u001b[0m\u001b[37m\u001b[0m \u001b[1m383s\u001b[0m 2s/step - loss: 0.5543 - sparse_categorical_accuracy: 0.7034\n",
            "Epoch 31/50\n",
            "\u001b[1m250/250\u001b[0m \u001b[32m━━━━━━━━━━━━━━━━━━━━\u001b[0m\u001b[37m\u001b[0m \u001b[1m359s\u001b[0m 1s/step - loss: 0.5400 - sparse_categorical_accuracy: 0.7100\n",
            "Epoch 32/50\n",
            "\u001b[1m250/250\u001b[0m \u001b[32m━━━━━━━━━━━━━━━━━━━━\u001b[0m\u001b[37m\u001b[0m \u001b[1m384s\u001b[0m 2s/step - loss: 0.5166 - sparse_categorical_accuracy: 0.7217\n",
            "Epoch 33/50\n",
            "\u001b[1m250/250\u001b[0m \u001b[32m━━━━━━━━━━━━━━━━━━━━\u001b[0m\u001b[37m\u001b[0m \u001b[1m360s\u001b[0m 1s/step - loss: 0.4913 - sparse_categorical_accuracy: 0.7352\n",
            "Epoch 34/50\n",
            "\u001b[1m250/250\u001b[0m \u001b[32m━━━━━━━━━━━━━━━━━━━━\u001b[0m\u001b[37m\u001b[0m \u001b[1m383s\u001b[0m 2s/step - loss: 0.4657 - sparse_categorical_accuracy: 0.7466\n",
            "Epoch 35/50\n",
            "\u001b[1m250/250\u001b[0m \u001b[32m━━━━━━━━━━━━━━━━━━━━\u001b[0m\u001b[37m\u001b[0m \u001b[1m359s\u001b[0m 1s/step - loss: 0.4499 - sparse_categorical_accuracy: 0.7541\n",
            "Epoch 36/50\n",
            "\u001b[1m250/250\u001b[0m \u001b[32m━━━━━━━━━━━━━━━━━━━━\u001b[0m\u001b[37m\u001b[0m \u001b[1m383s\u001b[0m 2s/step - loss: 0.4285 - sparse_categorical_accuracy: 0.7694\n",
            "Epoch 37/50\n",
            "\u001b[1m250/250\u001b[0m \u001b[32m━━━━━━━━━━━━━━━━━━━━\u001b[0m\u001b[37m\u001b[0m \u001b[1m383s\u001b[0m 2s/step - loss: 0.4057 - sparse_categorical_accuracy: 0.7816\n",
            "Epoch 38/50\n",
            "\u001b[1m250/250\u001b[0m \u001b[32m━━━━━━━━━━━━━━━━━━━━\u001b[0m\u001b[37m\u001b[0m \u001b[1m360s\u001b[0m 1s/step - loss: 0.3858 - sparse_categorical_accuracy: 0.7934\n",
            "Epoch 39/50\n",
            "\u001b[1m250/250\u001b[0m \u001b[32m━━━━━━━━━━━━━━━━━━━━\u001b[0m\u001b[37m\u001b[0m \u001b[1m383s\u001b[0m 2s/step - loss: 0.3713 - sparse_categorical_accuracy: 0.8021\n",
            "Epoch 40/50\n",
            "\u001b[1m250/250\u001b[0m \u001b[32m━━━━━━━━━━━━━━━━━━━━\u001b[0m\u001b[37m\u001b[0m \u001b[1m383s\u001b[0m 2s/step - loss: 0.3555 - sparse_categorical_accuracy: 0.8112\n",
            "Epoch 41/50\n",
            "\u001b[1m250/250\u001b[0m \u001b[32m━━━━━━━━━━━━━━━━━━━━\u001b[0m\u001b[37m\u001b[0m \u001b[1m383s\u001b[0m 2s/step - loss: 0.3391 - sparse_categorical_accuracy: 0.8236\n",
            "Epoch 42/50\n",
            "\u001b[1m250/250\u001b[0m \u001b[32m━━━━━━━━━━━━━━━━━━━━\u001b[0m\u001b[37m\u001b[0m \u001b[1m383s\u001b[0m 2s/step - loss: 0.3304 - sparse_categorical_accuracy: 0.8269\n",
            "Epoch 43/50\n",
            "\u001b[1m250/250\u001b[0m \u001b[32m━━━━━━━━━━━━━━━━━━━━\u001b[0m\u001b[37m\u001b[0m \u001b[1m383s\u001b[0m 2s/step - loss: 0.3072 - sparse_categorical_accuracy: 0.8413\n",
            "Epoch 44/50\n",
            "\u001b[1m250/250\u001b[0m \u001b[32m━━━━━━━━━━━━━━━━━━━━\u001b[0m\u001b[37m\u001b[0m \u001b[1m383s\u001b[0m 2s/step - loss: 0.2899 - sparse_categorical_accuracy: 0.8531\n",
            "Epoch 45/50\n",
            "\u001b[1m250/250\u001b[0m \u001b[32m━━━━━━━━━━━━━━━━━━━━\u001b[0m\u001b[37m\u001b[0m \u001b[1m383s\u001b[0m 2s/step - loss: 0.2723 - sparse_categorical_accuracy: 0.8628\n",
            "Epoch 46/50\n",
            "\u001b[1m250/250\u001b[0m \u001b[32m━━━━━━━━━━━━━━━━━━━━\u001b[0m\u001b[37m\u001b[0m \u001b[1m383s\u001b[0m 2s/step - loss: 0.2602 - sparse_categorical_accuracy: 0.8728\n",
            "Epoch 47/50\n",
            "\u001b[1m250/250\u001b[0m \u001b[32m━━━━━━━━━━━━━━━━━━━━\u001b[0m\u001b[37m\u001b[0m \u001b[1m383s\u001b[0m 2s/step - loss: 0.2486 - sparse_categorical_accuracy: 0.8793\n",
            "Epoch 48/50\n",
            "\u001b[1m250/250\u001b[0m \u001b[32m━━━━━━━━━━━━━━━━━━━━\u001b[0m\u001b[37m\u001b[0m \u001b[1m383s\u001b[0m 2s/step - loss: 0.2433 - sparse_categorical_accuracy: 0.8819\n",
            "Epoch 49/50\n",
            "\u001b[1m250/250\u001b[0m \u001b[32m━━━━━━━━━━━━━━━━━━━━\u001b[0m\u001b[37m\u001b[0m \u001b[1m359s\u001b[0m 1s/step - loss: 0.2334 - sparse_categorical_accuracy: 0.8869\n",
            "Epoch 50/50\n",
            "\u001b[1m250/250\u001b[0m \u001b[32m━━━━━━━━━━━━━━━━━━━━\u001b[0m\u001b[37m\u001b[0m \u001b[1m0s\u001b[0m 2s/step - loss: 0.2265 - sparse_categorical_accuracy: 0.8901"
          ]
        }
      ]
    },
    {
      "cell_type": "markdown",
      "source": [
        "# Inference after fine-tuning\n",
        "\n",
        "Let's see how our fine-tuned model responds to the same questions we asked before fine-tuning the model."
      ],
      "metadata": {
        "_uuid": "ded12e8b-40e7-47a2-9a7a-ee1125d28607",
        "_cell_guid": "b6903a35-fe97-4c3e-ae7b-e501307b3181",
        "trusted": true,
        "id": "mjMXEMKUuWkp"
      }
    },
    {
      "cell_type": "markdown",
      "source": [
        "## Sample 1"
      ],
      "metadata": {
        "_uuid": "267ded29-6d48-4e03-b206-b2d2333775d4",
        "_cell_guid": "93b2e38a-c223-4470-829c-3d710903f1e1",
        "trusted": true,
        "id": "BuCcGgLOuWkp"
      }
    },
    {
      "cell_type": "code",
      "source": [
        "# Take one sample\n",
        "row = df.iloc[2]\n",
        "\n",
        "# Generate Prompt using template\n",
        "prompt = template.format(\n",
        "   # Category=row.Category,\n",
        "    Question=row.question,\n",
        "    Answer=\"\"\n",
        ")\n",
        "\n",
        "# Infer\n",
        "output = gemma_lm.generate(prompt, max_length=256)\n",
        "\n",
        "# Colorize\n",
        "output = colorize_text(output)\n",
        "\n",
        "# Display in markdown\n",
        "display(Markdown(output))"
      ],
      "metadata": {
        "_uuid": "4a321427-047a-49d3-8b00-a2b56d1edf5a",
        "_cell_guid": "43f9e4ce-8dc4-47f9-be01-fdedc30f7de7",
        "_kg_hide-input": true,
        "execution": {
          "iopub.status.busy": "2024-10-19T03:57:38.049887Z",
          "iopub.execute_input": "2024-10-19T03:57:38.050713Z",
          "iopub.status.idle": "2024-10-19T03:57:54.758619Z",
          "shell.execute_reply.started": "2024-10-19T03:57:38.050677Z",
          "shell.execute_reply": "2024-10-19T03:57:54.757731Z"
        },
        "jupyter": {
          "outputs_hidden": false
        },
        "trusted": true,
        "id": "c7FlMKJouWkp"
      },
      "execution_count": null,
      "outputs": []
    },
    {
      "cell_type": "markdown",
      "source": [
        "## Sample 2"
      ],
      "metadata": {
        "_uuid": "a06ab0de-cb6e-460d-8371-2c0dbb8ee444",
        "_cell_guid": "0cce6cc0-6a12-41b0-a161-70667caaa0e6",
        "trusted": true,
        "id": "XZT2V6cCuWkp"
      }
    },
    {
      "cell_type": "code",
      "source": [
        "# Take one sample\n",
        "row = df.iloc[45]\n",
        "\n",
        "# Generate Prompt using template\n",
        "prompt = template.format(\n",
        "    #Category=row.Category,\n",
        "    Question=row.question,\n",
        "    Answer=\"\"\n",
        ")\n",
        "\n",
        "# Infer\n",
        "output = gemma_lm.generate(prompt, max_length=256)\n",
        "\n",
        "# Colorize\n",
        "output = colorize_text(output)\n",
        "\n",
        "# Display in markdown\n",
        "display(Markdown(output))"
      ],
      "metadata": {
        "_uuid": "39c73980-24df-43ab-8069-4adf35355acd",
        "_cell_guid": "ba5d6344-54e9-4aef-a240-6f4e7c0b363a",
        "_kg_hide-input": true,
        "execution": {
          "iopub.status.busy": "2024-09-23T15:53:29.377515Z",
          "iopub.execute_input": "2024-09-23T15:53:29.378393Z",
          "iopub.status.idle": "2024-09-23T15:53:35.710614Z",
          "shell.execute_reply.started": "2024-09-23T15:53:29.378357Z",
          "shell.execute_reply": "2024-09-23T15:53:35.709696Z"
        },
        "jupyter": {
          "outputs_hidden": false
        },
        "trusted": true,
        "id": "lQQ83hUcuWkp"
      },
      "execution_count": null,
      "outputs": []
    },
    {
      "cell_type": "markdown",
      "source": [
        "## Unseen Sample\n",
        "\n",
        "Also just for fun, let's try out a question that model hasn't seen during training."
      ],
      "metadata": {
        "_uuid": "e01f3a93-d310-44c7-8458-d6578fb24eaa",
        "_cell_guid": "eed03582-51b4-48f5-a95e-1221b6150633",
        "trusted": true,
        "id": "41EWQrIluWkp"
      }
    },
    {
      "cell_type": "code",
      "source": [
        "# Generate Prompt using template\n",
        "prompt = template.format(\n",
        "    #Category=\"kaggle-notebook\",\n",
        "    Question=\"How to select a good insurance product\",\n",
        "    Answer=\"\"\n",
        ")\n",
        "\n",
        "# Infer\n",
        "output = gemma_lm.generate(prompt, max_length=256)\n",
        "\n",
        "# Colorize\n",
        "output = colorize_text(output)\n",
        "\n",
        "# Display in markdown\n",
        "display(Markdown(output))"
      ],
      "metadata": {
        "_uuid": "b9c4739c-c47c-4350-9e50-dbc3e99f1bdf",
        "_cell_guid": "95722b14-4727-47b0-af11-f4c639d05597",
        "_kg_hide-input": true,
        "execution": {
          "iopub.status.busy": "2024-09-23T15:53:53.074141Z",
          "iopub.execute_input": "2024-09-23T15:53:53.074892Z",
          "iopub.status.idle": "2024-09-23T15:53:59.409431Z",
          "shell.execute_reply.started": "2024-09-23T15:53:53.07486Z",
          "shell.execute_reply": "2024-09-23T15:53:59.408511Z"
        },
        "jupyter": {
          "outputs_hidden": false
        },
        "trusted": true,
        "id": "va6UqjB1uWkp"
      },
      "execution_count": null,
      "outputs": []
    },
    {
      "cell_type": "code",
      "source": [
        "# Save my model\n",
        "#gemma_lm.save('my_gemma_model.keras')"
      ],
      "metadata": {
        "id": "kky273YpLp5b"
      },
      "execution_count": null,
      "outputs": []
    },
    {
      "cell_type": "code",
      "source": [
        "#!pip install keras-nlp\n",
        "#!pip install tensorflow\n",
        "\n",
        "#import keras_nlp\n",
        "#import tensorflow as tf\n",
        "#from tensorflow import keras\n",
        "\n",
        "# Force TensorFlow to use CPU\n",
        "#with tf.device('/CPU:0'):\n",
        "  # Load your saved model\n",
        "  #gemma_lm = keras.models.load_model('/content/finbot_my_gemma2_pt')"
      ],
      "metadata": {
        "id": "5FYEXicIWrir"
      },
      "execution_count": null,
      "outputs": []
    },
    {
      "cell_type": "code",
      "source": [
        "# Save my model as a preset\n",
        "!mkdir finbot_my_gemma2_pt # Create the directory\n",
        "gemma_lm.save_to_preset(f\"./finbot_my_gemma2_pt\") # Save the model to the directory as a preset\n",
        "\n",
        "# Upload the model to Kaggle\n",
        "my_user_name = \"dedemartey\"\n",
        "my_model_name = \"finbot_my_gemma2_pt\"\n",
        "kaggle_uri = f\"kaggle://{my_user_name}/gemma/keras/{my_model_name}\"\n",
        "keras_nlp.upload_preset(kaggle_uri, f\"./{my_model_name}\")"
      ],
      "metadata": {
        "id": "I0dQuP4j_tSY"
      },
      "execution_count": null,
      "outputs": []
    },
    {
      "cell_type": "markdown",
      "source": [
        "# Conclusion\n",
        "\n",
        "The result is not bad, especially compared to the model without fine-tuning. Though it's not exactly what we're looking for, it's important to remember that we only fine-tuned this model using $60$ samples without any augmentation or advanced prompting. Therefore, there is ample room for improvement. Here are some tips to improve performance:\n",
        "\n",
        "- Try using the larger version of **Gemma** (7B).\n",
        "- Increase `sequence_length`.\n",
        "- Experiment with advanced prompt engineering techniques.\n",
        "- Implement augmentation to increase the number of samples.\n",
        "- Utilize a learning rate scheduler."
      ],
      "metadata": {
        "_uuid": "29b6b5c4-14f0-4987-9736-3e2ed6ac0f03",
        "_cell_guid": "d850daf2-0631-458e-89da-6cb7e3cba0b7",
        "trusted": true,
        "id": "e-7uuD89uWkp"
      }
    },
    {
      "cell_type": "markdown",
      "source": [
        "# Reference\n",
        "* [Fine-tune Gemma models in Keras using LoRA](https://www.kaggle.com/code/nilaychauhan/fine-tune-gemma-models-in-keras-using-lora)\n",
        "* [Parameter-efficient fine-tuning of GPT-2 with LoRA](https://keras.io/examples/nlp/parameter_efficient_finetuning_of_gpt2_with_lora/)\n",
        "* [Gemma - KerasNLP](https://keras.io/api/keras_nlp/models/gemma/)"
      ],
      "metadata": {
        "_uuid": "eaadf072-ed20-4d15-a1cd-e9caf5d07cb0",
        "_cell_guid": "9490de1d-95a5-4115-bfa7-7a1392062413",
        "trusted": true,
        "id": "IPOGx7o8uWkp"
      }
    }
  ]
}