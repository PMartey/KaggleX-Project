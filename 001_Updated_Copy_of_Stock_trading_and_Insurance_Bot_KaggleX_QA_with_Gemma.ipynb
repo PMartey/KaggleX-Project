{
  "nbformat": 4,
  "nbformat_minor": 0,
  "metadata": {
    "colab": {
      "provenance": [],
      "gpuType": "T4",
      "authorship_tag": "ABX9TyN6nNdwLgenjdz3/MZaPGA5",
      "include_colab_link": true
    },
    "kernelspec": {
      "name": "python3",
      "display_name": "Python 3"
    },
    "language_info": {
      "name": "python"
    },
    "accelerator": "GPU",
    "widgets": {
      "application/vnd.jupyter.widget-state+json": {
        "9f1769357ea54871ba44da709b208361": {
          "model_module": "@jupyter-widgets/controls",
          "model_name": "VBoxModel",
          "model_module_version": "1.5.0",
          "state": {
            "_dom_classes": [],
            "_model_module": "@jupyter-widgets/controls",
            "_model_module_version": "1.5.0",
            "_model_name": "VBoxModel",
            "_view_count": null,
            "_view_module": "@jupyter-widgets/controls",
            "_view_module_version": "1.5.0",
            "_view_name": "VBoxView",
            "box_style": "",
            "children": [
              "IPY_MODEL_1b8775b32b7947f3aaf34cf654f40301"
            ],
            "layout": "IPY_MODEL_e49ae6c9169145b59148b29c53002652"
          }
        },
        "144a5898516446c09d233304ffeb1008": {
          "model_module": "@jupyter-widgets/controls",
          "model_name": "HTMLModel",
          "model_module_version": "1.5.0",
          "state": {
            "_dom_classes": [],
            "_model_module": "@jupyter-widgets/controls",
            "_model_module_version": "1.5.0",
            "_model_name": "HTMLModel",
            "_view_count": null,
            "_view_module": "@jupyter-widgets/controls",
            "_view_module_version": "1.5.0",
            "_view_name": "HTMLView",
            "description": "",
            "description_tooltip": null,
            "layout": "IPY_MODEL_fcace058c4c848e4be07367d4a651deb",
            "placeholder": "​",
            "style": "IPY_MODEL_9f9245d4552f48ffa7877df86e75de48",
            "value": "<center> <img\nsrc=https://www.kaggle.com/static/images/site-logo.png\nalt='Kaggle'> <br> Create an API token from <a\nhref=\"https://www.kaggle.com/settings/account\" target=\"_blank\">your Kaggle\nsettings page</a> and paste it below along with your Kaggle username. <br> </center>"
          }
        },
        "6b40752b8c11453bb43b5009fa000e74": {
          "model_module": "@jupyter-widgets/controls",
          "model_name": "TextModel",
          "model_module_version": "1.5.0",
          "state": {
            "_dom_classes": [],
            "_model_module": "@jupyter-widgets/controls",
            "_model_module_version": "1.5.0",
            "_model_name": "TextModel",
            "_view_count": null,
            "_view_module": "@jupyter-widgets/controls",
            "_view_module_version": "1.5.0",
            "_view_name": "TextView",
            "continuous_update": true,
            "description": "Username:",
            "description_tooltip": null,
            "disabled": false,
            "layout": "IPY_MODEL_245f8c2eb85140268c04f16dbba9e95c",
            "placeholder": "​",
            "style": "IPY_MODEL_45712b92fddd44e8b3b6f647e6675908",
            "value": "dedemartey"
          }
        },
        "c6822dea743340628edff9498164a3c5": {
          "model_module": "@jupyter-widgets/controls",
          "model_name": "PasswordModel",
          "model_module_version": "1.5.0",
          "state": {
            "_dom_classes": [],
            "_model_module": "@jupyter-widgets/controls",
            "_model_module_version": "1.5.0",
            "_model_name": "PasswordModel",
            "_view_count": null,
            "_view_module": "@jupyter-widgets/controls",
            "_view_module_version": "1.5.0",
            "_view_name": "PasswordView",
            "continuous_update": true,
            "description": "Token:",
            "description_tooltip": null,
            "disabled": false,
            "layout": "IPY_MODEL_a78ac6d474694d89b75778777c53ba3c",
            "placeholder": "​",
            "style": "IPY_MODEL_6b49671abf58442e88eca3dd319cc006",
            "value": ""
          }
        },
        "b03e7c95082e437dae4c89331fd5c912": {
          "model_module": "@jupyter-widgets/controls",
          "model_name": "ButtonModel",
          "model_module_version": "1.5.0",
          "state": {
            "_dom_classes": [],
            "_model_module": "@jupyter-widgets/controls",
            "_model_module_version": "1.5.0",
            "_model_name": "ButtonModel",
            "_view_count": null,
            "_view_module": "@jupyter-widgets/controls",
            "_view_module_version": "1.5.0",
            "_view_name": "ButtonView",
            "button_style": "",
            "description": "Login",
            "disabled": false,
            "icon": "",
            "layout": "IPY_MODEL_f0ba7c753e954e8c8b9755e379e970e2",
            "style": "IPY_MODEL_ea83bcf1259d4687bd85c1a58701986b",
            "tooltip": ""
          }
        },
        "710e892ec3be42dfa993896381900d31": {
          "model_module": "@jupyter-widgets/controls",
          "model_name": "HTMLModel",
          "model_module_version": "1.5.0",
          "state": {
            "_dom_classes": [],
            "_model_module": "@jupyter-widgets/controls",
            "_model_module_version": "1.5.0",
            "_model_name": "HTMLModel",
            "_view_count": null,
            "_view_module": "@jupyter-widgets/controls",
            "_view_module_version": "1.5.0",
            "_view_name": "HTMLView",
            "description": "",
            "description_tooltip": null,
            "layout": "IPY_MODEL_1a45cfd98d774b91a88ec0e038b0205e",
            "placeholder": "​",
            "style": "IPY_MODEL_c6a0a1e875c74a57bc883983a8dbafa8",
            "value": "\n<b>Thank You</b></center>"
          }
        },
        "e49ae6c9169145b59148b29c53002652": {
          "model_module": "@jupyter-widgets/base",
          "model_name": "LayoutModel",
          "model_module_version": "1.2.0",
          "state": {
            "_model_module": "@jupyter-widgets/base",
            "_model_module_version": "1.2.0",
            "_model_name": "LayoutModel",
            "_view_count": null,
            "_view_module": "@jupyter-widgets/base",
            "_view_module_version": "1.2.0",
            "_view_name": "LayoutView",
            "align_content": null,
            "align_items": "center",
            "align_self": null,
            "border": null,
            "bottom": null,
            "display": "flex",
            "flex": null,
            "flex_flow": "column",
            "grid_area": null,
            "grid_auto_columns": null,
            "grid_auto_flow": null,
            "grid_auto_rows": null,
            "grid_column": null,
            "grid_gap": null,
            "grid_row": null,
            "grid_template_areas": null,
            "grid_template_columns": null,
            "grid_template_rows": null,
            "height": null,
            "justify_content": null,
            "justify_items": null,
            "left": null,
            "margin": null,
            "max_height": null,
            "max_width": null,
            "min_height": null,
            "min_width": null,
            "object_fit": null,
            "object_position": null,
            "order": null,
            "overflow": null,
            "overflow_x": null,
            "overflow_y": null,
            "padding": null,
            "right": null,
            "top": null,
            "visibility": null,
            "width": "50%"
          }
        },
        "fcace058c4c848e4be07367d4a651deb": {
          "model_module": "@jupyter-widgets/base",
          "model_name": "LayoutModel",
          "model_module_version": "1.2.0",
          "state": {
            "_model_module": "@jupyter-widgets/base",
            "_model_module_version": "1.2.0",
            "_model_name": "LayoutModel",
            "_view_count": null,
            "_view_module": "@jupyter-widgets/base",
            "_view_module_version": "1.2.0",
            "_view_name": "LayoutView",
            "align_content": null,
            "align_items": null,
            "align_self": null,
            "border": null,
            "bottom": null,
            "display": null,
            "flex": null,
            "flex_flow": null,
            "grid_area": null,
            "grid_auto_columns": null,
            "grid_auto_flow": null,
            "grid_auto_rows": null,
            "grid_column": null,
            "grid_gap": null,
            "grid_row": null,
            "grid_template_areas": null,
            "grid_template_columns": null,
            "grid_template_rows": null,
            "height": null,
            "justify_content": null,
            "justify_items": null,
            "left": null,
            "margin": null,
            "max_height": null,
            "max_width": null,
            "min_height": null,
            "min_width": null,
            "object_fit": null,
            "object_position": null,
            "order": null,
            "overflow": null,
            "overflow_x": null,
            "overflow_y": null,
            "padding": null,
            "right": null,
            "top": null,
            "visibility": null,
            "width": null
          }
        },
        "9f9245d4552f48ffa7877df86e75de48": {
          "model_module": "@jupyter-widgets/controls",
          "model_name": "DescriptionStyleModel",
          "model_module_version": "1.5.0",
          "state": {
            "_model_module": "@jupyter-widgets/controls",
            "_model_module_version": "1.5.0",
            "_model_name": "DescriptionStyleModel",
            "_view_count": null,
            "_view_module": "@jupyter-widgets/base",
            "_view_module_version": "1.2.0",
            "_view_name": "StyleView",
            "description_width": ""
          }
        },
        "245f8c2eb85140268c04f16dbba9e95c": {
          "model_module": "@jupyter-widgets/base",
          "model_name": "LayoutModel",
          "model_module_version": "1.2.0",
          "state": {
            "_model_module": "@jupyter-widgets/base",
            "_model_module_version": "1.2.0",
            "_model_name": "LayoutModel",
            "_view_count": null,
            "_view_module": "@jupyter-widgets/base",
            "_view_module_version": "1.2.0",
            "_view_name": "LayoutView",
            "align_content": null,
            "align_items": null,
            "align_self": null,
            "border": null,
            "bottom": null,
            "display": null,
            "flex": null,
            "flex_flow": null,
            "grid_area": null,
            "grid_auto_columns": null,
            "grid_auto_flow": null,
            "grid_auto_rows": null,
            "grid_column": null,
            "grid_gap": null,
            "grid_row": null,
            "grid_template_areas": null,
            "grid_template_columns": null,
            "grid_template_rows": null,
            "height": null,
            "justify_content": null,
            "justify_items": null,
            "left": null,
            "margin": null,
            "max_height": null,
            "max_width": null,
            "min_height": null,
            "min_width": null,
            "object_fit": null,
            "object_position": null,
            "order": null,
            "overflow": null,
            "overflow_x": null,
            "overflow_y": null,
            "padding": null,
            "right": null,
            "top": null,
            "visibility": null,
            "width": null
          }
        },
        "45712b92fddd44e8b3b6f647e6675908": {
          "model_module": "@jupyter-widgets/controls",
          "model_name": "DescriptionStyleModel",
          "model_module_version": "1.5.0",
          "state": {
            "_model_module": "@jupyter-widgets/controls",
            "_model_module_version": "1.5.0",
            "_model_name": "DescriptionStyleModel",
            "_view_count": null,
            "_view_module": "@jupyter-widgets/base",
            "_view_module_version": "1.2.0",
            "_view_name": "StyleView",
            "description_width": ""
          }
        },
        "a78ac6d474694d89b75778777c53ba3c": {
          "model_module": "@jupyter-widgets/base",
          "model_name": "LayoutModel",
          "model_module_version": "1.2.0",
          "state": {
            "_model_module": "@jupyter-widgets/base",
            "_model_module_version": "1.2.0",
            "_model_name": "LayoutModel",
            "_view_count": null,
            "_view_module": "@jupyter-widgets/base",
            "_view_module_version": "1.2.0",
            "_view_name": "LayoutView",
            "align_content": null,
            "align_items": null,
            "align_self": null,
            "border": null,
            "bottom": null,
            "display": null,
            "flex": null,
            "flex_flow": null,
            "grid_area": null,
            "grid_auto_columns": null,
            "grid_auto_flow": null,
            "grid_auto_rows": null,
            "grid_column": null,
            "grid_gap": null,
            "grid_row": null,
            "grid_template_areas": null,
            "grid_template_columns": null,
            "grid_template_rows": null,
            "height": null,
            "justify_content": null,
            "justify_items": null,
            "left": null,
            "margin": null,
            "max_height": null,
            "max_width": null,
            "min_height": null,
            "min_width": null,
            "object_fit": null,
            "object_position": null,
            "order": null,
            "overflow": null,
            "overflow_x": null,
            "overflow_y": null,
            "padding": null,
            "right": null,
            "top": null,
            "visibility": null,
            "width": null
          }
        },
        "6b49671abf58442e88eca3dd319cc006": {
          "model_module": "@jupyter-widgets/controls",
          "model_name": "DescriptionStyleModel",
          "model_module_version": "1.5.0",
          "state": {
            "_model_module": "@jupyter-widgets/controls",
            "_model_module_version": "1.5.0",
            "_model_name": "DescriptionStyleModel",
            "_view_count": null,
            "_view_module": "@jupyter-widgets/base",
            "_view_module_version": "1.2.0",
            "_view_name": "StyleView",
            "description_width": ""
          }
        },
        "f0ba7c753e954e8c8b9755e379e970e2": {
          "model_module": "@jupyter-widgets/base",
          "model_name": "LayoutModel",
          "model_module_version": "1.2.0",
          "state": {
            "_model_module": "@jupyter-widgets/base",
            "_model_module_version": "1.2.0",
            "_model_name": "LayoutModel",
            "_view_count": null,
            "_view_module": "@jupyter-widgets/base",
            "_view_module_version": "1.2.0",
            "_view_name": "LayoutView",
            "align_content": null,
            "align_items": null,
            "align_self": null,
            "border": null,
            "bottom": null,
            "display": null,
            "flex": null,
            "flex_flow": null,
            "grid_area": null,
            "grid_auto_columns": null,
            "grid_auto_flow": null,
            "grid_auto_rows": null,
            "grid_column": null,
            "grid_gap": null,
            "grid_row": null,
            "grid_template_areas": null,
            "grid_template_columns": null,
            "grid_template_rows": null,
            "height": null,
            "justify_content": null,
            "justify_items": null,
            "left": null,
            "margin": null,
            "max_height": null,
            "max_width": null,
            "min_height": null,
            "min_width": null,
            "object_fit": null,
            "object_position": null,
            "order": null,
            "overflow": null,
            "overflow_x": null,
            "overflow_y": null,
            "padding": null,
            "right": null,
            "top": null,
            "visibility": null,
            "width": null
          }
        },
        "ea83bcf1259d4687bd85c1a58701986b": {
          "model_module": "@jupyter-widgets/controls",
          "model_name": "ButtonStyleModel",
          "model_module_version": "1.5.0",
          "state": {
            "_model_module": "@jupyter-widgets/controls",
            "_model_module_version": "1.5.0",
            "_model_name": "ButtonStyleModel",
            "_view_count": null,
            "_view_module": "@jupyter-widgets/base",
            "_view_module_version": "1.2.0",
            "_view_name": "StyleView",
            "button_color": null,
            "font_weight": ""
          }
        },
        "1a45cfd98d774b91a88ec0e038b0205e": {
          "model_module": "@jupyter-widgets/base",
          "model_name": "LayoutModel",
          "model_module_version": "1.2.0",
          "state": {
            "_model_module": "@jupyter-widgets/base",
            "_model_module_version": "1.2.0",
            "_model_name": "LayoutModel",
            "_view_count": null,
            "_view_module": "@jupyter-widgets/base",
            "_view_module_version": "1.2.0",
            "_view_name": "LayoutView",
            "align_content": null,
            "align_items": null,
            "align_self": null,
            "border": null,
            "bottom": null,
            "display": null,
            "flex": null,
            "flex_flow": null,
            "grid_area": null,
            "grid_auto_columns": null,
            "grid_auto_flow": null,
            "grid_auto_rows": null,
            "grid_column": null,
            "grid_gap": null,
            "grid_row": null,
            "grid_template_areas": null,
            "grid_template_columns": null,
            "grid_template_rows": null,
            "height": null,
            "justify_content": null,
            "justify_items": null,
            "left": null,
            "margin": null,
            "max_height": null,
            "max_width": null,
            "min_height": null,
            "min_width": null,
            "object_fit": null,
            "object_position": null,
            "order": null,
            "overflow": null,
            "overflow_x": null,
            "overflow_y": null,
            "padding": null,
            "right": null,
            "top": null,
            "visibility": null,
            "width": null
          }
        },
        "c6a0a1e875c74a57bc883983a8dbafa8": {
          "model_module": "@jupyter-widgets/controls",
          "model_name": "DescriptionStyleModel",
          "model_module_version": "1.5.0",
          "state": {
            "_model_module": "@jupyter-widgets/controls",
            "_model_module_version": "1.5.0",
            "_model_name": "DescriptionStyleModel",
            "_view_count": null,
            "_view_module": "@jupyter-widgets/base",
            "_view_module_version": "1.2.0",
            "_view_name": "StyleView",
            "description_width": ""
          }
        },
        "19394f0dce0a4159a9ab257c2159f209": {
          "model_module": "@jupyter-widgets/controls",
          "model_name": "LabelModel",
          "model_module_version": "1.5.0",
          "state": {
            "_dom_classes": [],
            "_model_module": "@jupyter-widgets/controls",
            "_model_module_version": "1.5.0",
            "_model_name": "LabelModel",
            "_view_count": null,
            "_view_module": "@jupyter-widgets/controls",
            "_view_module_version": "1.5.0",
            "_view_name": "LabelView",
            "description": "",
            "description_tooltip": null,
            "layout": "IPY_MODEL_38a4273a7f394d83b1201bd8d488a1ab",
            "placeholder": "​",
            "style": "IPY_MODEL_e27f585d5d1b424c95e0e3601575a457",
            "value": "Connecting..."
          }
        },
        "38a4273a7f394d83b1201bd8d488a1ab": {
          "model_module": "@jupyter-widgets/base",
          "model_name": "LayoutModel",
          "model_module_version": "1.2.0",
          "state": {
            "_model_module": "@jupyter-widgets/base",
            "_model_module_version": "1.2.0",
            "_model_name": "LayoutModel",
            "_view_count": null,
            "_view_module": "@jupyter-widgets/base",
            "_view_module_version": "1.2.0",
            "_view_name": "LayoutView",
            "align_content": null,
            "align_items": null,
            "align_self": null,
            "border": null,
            "bottom": null,
            "display": null,
            "flex": null,
            "flex_flow": null,
            "grid_area": null,
            "grid_auto_columns": null,
            "grid_auto_flow": null,
            "grid_auto_rows": null,
            "grid_column": null,
            "grid_gap": null,
            "grid_row": null,
            "grid_template_areas": null,
            "grid_template_columns": null,
            "grid_template_rows": null,
            "height": null,
            "justify_content": null,
            "justify_items": null,
            "left": null,
            "margin": null,
            "max_height": null,
            "max_width": null,
            "min_height": null,
            "min_width": null,
            "object_fit": null,
            "object_position": null,
            "order": null,
            "overflow": null,
            "overflow_x": null,
            "overflow_y": null,
            "padding": null,
            "right": null,
            "top": null,
            "visibility": null,
            "width": null
          }
        },
        "e27f585d5d1b424c95e0e3601575a457": {
          "model_module": "@jupyter-widgets/controls",
          "model_name": "DescriptionStyleModel",
          "model_module_version": "1.5.0",
          "state": {
            "_model_module": "@jupyter-widgets/controls",
            "_model_module_version": "1.5.0",
            "_model_name": "DescriptionStyleModel",
            "_view_count": null,
            "_view_module": "@jupyter-widgets/base",
            "_view_module_version": "1.2.0",
            "_view_name": "StyleView",
            "description_width": ""
          }
        },
        "1b8775b32b7947f3aaf34cf654f40301": {
          "model_module": "@jupyter-widgets/controls",
          "model_name": "LabelModel",
          "model_module_version": "1.5.0",
          "state": {
            "_dom_classes": [],
            "_model_module": "@jupyter-widgets/controls",
            "_model_module_version": "1.5.0",
            "_model_name": "LabelModel",
            "_view_count": null,
            "_view_module": "@jupyter-widgets/controls",
            "_view_module_version": "1.5.0",
            "_view_name": "LabelView",
            "description": "",
            "description_tooltip": null,
            "layout": "IPY_MODEL_e94ca0775d3042dcae40437374bd64bf",
            "placeholder": "​",
            "style": "IPY_MODEL_d6dbd3a735a548d7a71b9f6579af593c",
            "value": "Kaggle credentials successfully validated."
          }
        },
        "e94ca0775d3042dcae40437374bd64bf": {
          "model_module": "@jupyter-widgets/base",
          "model_name": "LayoutModel",
          "model_module_version": "1.2.0",
          "state": {
            "_model_module": "@jupyter-widgets/base",
            "_model_module_version": "1.2.0",
            "_model_name": "LayoutModel",
            "_view_count": null,
            "_view_module": "@jupyter-widgets/base",
            "_view_module_version": "1.2.0",
            "_view_name": "LayoutView",
            "align_content": null,
            "align_items": null,
            "align_self": null,
            "border": null,
            "bottom": null,
            "display": null,
            "flex": null,
            "flex_flow": null,
            "grid_area": null,
            "grid_auto_columns": null,
            "grid_auto_flow": null,
            "grid_auto_rows": null,
            "grid_column": null,
            "grid_gap": null,
            "grid_row": null,
            "grid_template_areas": null,
            "grid_template_columns": null,
            "grid_template_rows": null,
            "height": null,
            "justify_content": null,
            "justify_items": null,
            "left": null,
            "margin": null,
            "max_height": null,
            "max_width": null,
            "min_height": null,
            "min_width": null,
            "object_fit": null,
            "object_position": null,
            "order": null,
            "overflow": null,
            "overflow_x": null,
            "overflow_y": null,
            "padding": null,
            "right": null,
            "top": null,
            "visibility": null,
            "width": null
          }
        },
        "d6dbd3a735a548d7a71b9f6579af593c": {
          "model_module": "@jupyter-widgets/controls",
          "model_name": "DescriptionStyleModel",
          "model_module_version": "1.5.0",
          "state": {
            "_model_module": "@jupyter-widgets/controls",
            "_model_module_version": "1.5.0",
            "_model_name": "DescriptionStyleModel",
            "_view_count": null,
            "_view_module": "@jupyter-widgets/base",
            "_view_module_version": "1.2.0",
            "_view_name": "StyleView",
            "description_width": ""
          }
        },
        "1ec13ef0e7f5495097a38bbd838a1913": {
          "model_module": "@jupyter-widgets/controls",
          "model_name": "HBoxModel",
          "model_module_version": "1.5.0",
          "state": {
            "_dom_classes": [],
            "_model_module": "@jupyter-widgets/controls",
            "_model_module_version": "1.5.0",
            "_model_name": "HBoxModel",
            "_view_count": null,
            "_view_module": "@jupyter-widgets/controls",
            "_view_module_version": "1.5.0",
            "_view_name": "HBoxView",
            "box_style": "",
            "children": [
              "IPY_MODEL_3c3c735154944a3eba20c1022ca4ce10",
              "IPY_MODEL_2588abb733154d62bb9a253f6a9eb871",
              "IPY_MODEL_57be8eaa28d34ad4b6abeb68e51e6639"
            ],
            "layout": "IPY_MODEL_60d32944fad14f35921642cb3fa9e81f"
          }
        },
        "3c3c735154944a3eba20c1022ca4ce10": {
          "model_module": "@jupyter-widgets/controls",
          "model_name": "HTMLModel",
          "model_module_version": "1.5.0",
          "state": {
            "_dom_classes": [],
            "_model_module": "@jupyter-widgets/controls",
            "_model_module_version": "1.5.0",
            "_model_name": "HTMLModel",
            "_view_count": null,
            "_view_module": "@jupyter-widgets/controls",
            "_view_module_version": "1.5.0",
            "_view_name": "HTMLView",
            "description": "",
            "description_tooltip": null,
            "layout": "IPY_MODEL_ebdccba4eb39471282c1a93327a80d40",
            "placeholder": "​",
            "style": "IPY_MODEL_4b0271aab9f6459fbbc045ed0223ddaa",
            "value": "100%"
          }
        },
        "2588abb733154d62bb9a253f6a9eb871": {
          "model_module": "@jupyter-widgets/controls",
          "model_name": "FloatProgressModel",
          "model_module_version": "1.5.0",
          "state": {
            "_dom_classes": [],
            "_model_module": "@jupyter-widgets/controls",
            "_model_module_version": "1.5.0",
            "_model_name": "FloatProgressModel",
            "_view_count": null,
            "_view_module": "@jupyter-widgets/controls",
            "_view_module_version": "1.5.0",
            "_view_name": "ProgressView",
            "bar_style": "success",
            "description": "",
            "description_tooltip": null,
            "layout": "IPY_MODEL_f19858e3fc624b0abe4ff7e431fbace3",
            "max": 198,
            "min": 0,
            "orientation": "horizontal",
            "style": "IPY_MODEL_1819e95dd88d4d27ae1d764d8e19faa3",
            "value": 198
          }
        },
        "57be8eaa28d34ad4b6abeb68e51e6639": {
          "model_module": "@jupyter-widgets/controls",
          "model_name": "HTMLModel",
          "model_module_version": "1.5.0",
          "state": {
            "_dom_classes": [],
            "_model_module": "@jupyter-widgets/controls",
            "_model_module_version": "1.5.0",
            "_model_name": "HTMLModel",
            "_view_count": null,
            "_view_module": "@jupyter-widgets/controls",
            "_view_module_version": "1.5.0",
            "_view_name": "HTMLView",
            "description": "",
            "description_tooltip": null,
            "layout": "IPY_MODEL_d64c9664fe644f41be2a1d7d4ee26de0",
            "placeholder": "​",
            "style": "IPY_MODEL_006ffecf464b439e91d67b8a1a19d73a",
            "value": " 198/198 [00:00&lt;00:00, 3216.99it/s]"
          }
        },
        "60d32944fad14f35921642cb3fa9e81f": {
          "model_module": "@jupyter-widgets/base",
          "model_name": "LayoutModel",
          "model_module_version": "1.2.0",
          "state": {
            "_model_module": "@jupyter-widgets/base",
            "_model_module_version": "1.2.0",
            "_model_name": "LayoutModel",
            "_view_count": null,
            "_view_module": "@jupyter-widgets/base",
            "_view_module_version": "1.2.0",
            "_view_name": "LayoutView",
            "align_content": null,
            "align_items": null,
            "align_self": null,
            "border": null,
            "bottom": null,
            "display": null,
            "flex": null,
            "flex_flow": null,
            "grid_area": null,
            "grid_auto_columns": null,
            "grid_auto_flow": null,
            "grid_auto_rows": null,
            "grid_column": null,
            "grid_gap": null,
            "grid_row": null,
            "grid_template_areas": null,
            "grid_template_columns": null,
            "grid_template_rows": null,
            "height": null,
            "justify_content": null,
            "justify_items": null,
            "left": null,
            "margin": null,
            "max_height": null,
            "max_width": null,
            "min_height": null,
            "min_width": null,
            "object_fit": null,
            "object_position": null,
            "order": null,
            "overflow": null,
            "overflow_x": null,
            "overflow_y": null,
            "padding": null,
            "right": null,
            "top": null,
            "visibility": null,
            "width": null
          }
        },
        "ebdccba4eb39471282c1a93327a80d40": {
          "model_module": "@jupyter-widgets/base",
          "model_name": "LayoutModel",
          "model_module_version": "1.2.0",
          "state": {
            "_model_module": "@jupyter-widgets/base",
            "_model_module_version": "1.2.0",
            "_model_name": "LayoutModel",
            "_view_count": null,
            "_view_module": "@jupyter-widgets/base",
            "_view_module_version": "1.2.0",
            "_view_name": "LayoutView",
            "align_content": null,
            "align_items": null,
            "align_self": null,
            "border": null,
            "bottom": null,
            "display": null,
            "flex": null,
            "flex_flow": null,
            "grid_area": null,
            "grid_auto_columns": null,
            "grid_auto_flow": null,
            "grid_auto_rows": null,
            "grid_column": null,
            "grid_gap": null,
            "grid_row": null,
            "grid_template_areas": null,
            "grid_template_columns": null,
            "grid_template_rows": null,
            "height": null,
            "justify_content": null,
            "justify_items": null,
            "left": null,
            "margin": null,
            "max_height": null,
            "max_width": null,
            "min_height": null,
            "min_width": null,
            "object_fit": null,
            "object_position": null,
            "order": null,
            "overflow": null,
            "overflow_x": null,
            "overflow_y": null,
            "padding": null,
            "right": null,
            "top": null,
            "visibility": null,
            "width": null
          }
        },
        "4b0271aab9f6459fbbc045ed0223ddaa": {
          "model_module": "@jupyter-widgets/controls",
          "model_name": "DescriptionStyleModel",
          "model_module_version": "1.5.0",
          "state": {
            "_model_module": "@jupyter-widgets/controls",
            "_model_module_version": "1.5.0",
            "_model_name": "DescriptionStyleModel",
            "_view_count": null,
            "_view_module": "@jupyter-widgets/base",
            "_view_module_version": "1.2.0",
            "_view_name": "StyleView",
            "description_width": ""
          }
        },
        "f19858e3fc624b0abe4ff7e431fbace3": {
          "model_module": "@jupyter-widgets/base",
          "model_name": "LayoutModel",
          "model_module_version": "1.2.0",
          "state": {
            "_model_module": "@jupyter-widgets/base",
            "_model_module_version": "1.2.0",
            "_model_name": "LayoutModel",
            "_view_count": null,
            "_view_module": "@jupyter-widgets/base",
            "_view_module_version": "1.2.0",
            "_view_name": "LayoutView",
            "align_content": null,
            "align_items": null,
            "align_self": null,
            "border": null,
            "bottom": null,
            "display": null,
            "flex": null,
            "flex_flow": null,
            "grid_area": null,
            "grid_auto_columns": null,
            "grid_auto_flow": null,
            "grid_auto_rows": null,
            "grid_column": null,
            "grid_gap": null,
            "grid_row": null,
            "grid_template_areas": null,
            "grid_template_columns": null,
            "grid_template_rows": null,
            "height": null,
            "justify_content": null,
            "justify_items": null,
            "left": null,
            "margin": null,
            "max_height": null,
            "max_width": null,
            "min_height": null,
            "min_width": null,
            "object_fit": null,
            "object_position": null,
            "order": null,
            "overflow": null,
            "overflow_x": null,
            "overflow_y": null,
            "padding": null,
            "right": null,
            "top": null,
            "visibility": null,
            "width": null
          }
        },
        "1819e95dd88d4d27ae1d764d8e19faa3": {
          "model_module": "@jupyter-widgets/controls",
          "model_name": "ProgressStyleModel",
          "model_module_version": "1.5.0",
          "state": {
            "_model_module": "@jupyter-widgets/controls",
            "_model_module_version": "1.5.0",
            "_model_name": "ProgressStyleModel",
            "_view_count": null,
            "_view_module": "@jupyter-widgets/base",
            "_view_module_version": "1.2.0",
            "_view_name": "StyleView",
            "bar_color": null,
            "description_width": ""
          }
        },
        "d64c9664fe644f41be2a1d7d4ee26de0": {
          "model_module": "@jupyter-widgets/base",
          "model_name": "LayoutModel",
          "model_module_version": "1.2.0",
          "state": {
            "_model_module": "@jupyter-widgets/base",
            "_model_module_version": "1.2.0",
            "_model_name": "LayoutModel",
            "_view_count": null,
            "_view_module": "@jupyter-widgets/base",
            "_view_module_version": "1.2.0",
            "_view_name": "LayoutView",
            "align_content": null,
            "align_items": null,
            "align_self": null,
            "border": null,
            "bottom": null,
            "display": null,
            "flex": null,
            "flex_flow": null,
            "grid_area": null,
            "grid_auto_columns": null,
            "grid_auto_flow": null,
            "grid_auto_rows": null,
            "grid_column": null,
            "grid_gap": null,
            "grid_row": null,
            "grid_template_areas": null,
            "grid_template_columns": null,
            "grid_template_rows": null,
            "height": null,
            "justify_content": null,
            "justify_items": null,
            "left": null,
            "margin": null,
            "max_height": null,
            "max_width": null,
            "min_height": null,
            "min_width": null,
            "object_fit": null,
            "object_position": null,
            "order": null,
            "overflow": null,
            "overflow_x": null,
            "overflow_y": null,
            "padding": null,
            "right": null,
            "top": null,
            "visibility": null,
            "width": null
          }
        },
        "006ffecf464b439e91d67b8a1a19d73a": {
          "model_module": "@jupyter-widgets/controls",
          "model_name": "DescriptionStyleModel",
          "model_module_version": "1.5.0",
          "state": {
            "_model_module": "@jupyter-widgets/controls",
            "_model_module_version": "1.5.0",
            "_model_name": "DescriptionStyleModel",
            "_view_count": null,
            "_view_module": "@jupyter-widgets/base",
            "_view_module_version": "1.2.0",
            "_view_name": "StyleView",
            "description_width": ""
          }
        },
        "cafe6f1c08a84742a72f0f77bc9b299c": {
          "model_module": "@jupyter-widgets/controls",
          "model_name": "HBoxModel",
          "model_module_version": "1.5.0",
          "state": {
            "_dom_classes": [],
            "_model_module": "@jupyter-widgets/controls",
            "_model_module_version": "1.5.0",
            "_model_name": "HBoxModel",
            "_view_count": null,
            "_view_module": "@jupyter-widgets/controls",
            "_view_module_version": "1.5.0",
            "_view_name": "HBoxView",
            "box_style": "",
            "children": [
              "IPY_MODEL_ff87d4a8f2ea4408a5ebe9f288be93fd",
              "IPY_MODEL_e7fb778f33f74fca8ef05b90d532cbe8",
              "IPY_MODEL_a2a2bf3d53324b8db125efac53d5a856"
            ],
            "layout": "IPY_MODEL_0431a7f853b64b34a01155d02ab132b5"
          }
        },
        "ff87d4a8f2ea4408a5ebe9f288be93fd": {
          "model_module": "@jupyter-widgets/controls",
          "model_name": "HTMLModel",
          "model_module_version": "1.5.0",
          "state": {
            "_dom_classes": [],
            "_model_module": "@jupyter-widgets/controls",
            "_model_module_version": "1.5.0",
            "_model_name": "HTMLModel",
            "_view_count": null,
            "_view_module": "@jupyter-widgets/controls",
            "_view_module_version": "1.5.0",
            "_view_name": "HTMLView",
            "description": "",
            "description_tooltip": null,
            "layout": "IPY_MODEL_85285a765ea44f4cbafae65da47ff527",
            "placeholder": "​",
            "style": "IPY_MODEL_30caaeef50184a3e89591a10ed856ea7",
            "value": "100%"
          }
        },
        "e7fb778f33f74fca8ef05b90d532cbe8": {
          "model_module": "@jupyter-widgets/controls",
          "model_name": "FloatProgressModel",
          "model_module_version": "1.5.0",
          "state": {
            "_dom_classes": [],
            "_model_module": "@jupyter-widgets/controls",
            "_model_module_version": "1.5.0",
            "_model_name": "FloatProgressModel",
            "_view_count": null,
            "_view_module": "@jupyter-widgets/controls",
            "_view_module_version": "1.5.0",
            "_view_name": "ProgressView",
            "bar_style": "success",
            "description": "",
            "description_tooltip": null,
            "layout": "IPY_MODEL_053920a0d4344f0a9517ee1569272fbb",
            "max": 198,
            "min": 0,
            "orientation": "horizontal",
            "style": "IPY_MODEL_1bb0ccc2e21145eab20d20e77870cf3e",
            "value": 198
          }
        },
        "a2a2bf3d53324b8db125efac53d5a856": {
          "model_module": "@jupyter-widgets/controls",
          "model_name": "HTMLModel",
          "model_module_version": "1.5.0",
          "state": {
            "_dom_classes": [],
            "_model_module": "@jupyter-widgets/controls",
            "_model_module_version": "1.5.0",
            "_model_name": "HTMLModel",
            "_view_count": null,
            "_view_module": "@jupyter-widgets/controls",
            "_view_module_version": "1.5.0",
            "_view_name": "HTMLView",
            "description": "",
            "description_tooltip": null,
            "layout": "IPY_MODEL_4fac076977864706b549cc741f08e9d0",
            "placeholder": "​",
            "style": "IPY_MODEL_6a407f72b0a147bc80714882a7985313",
            "value": " 198/198 [00:00&lt;00:00, 3745.44it/s]"
          }
        },
        "0431a7f853b64b34a01155d02ab132b5": {
          "model_module": "@jupyter-widgets/base",
          "model_name": "LayoutModel",
          "model_module_version": "1.2.0",
          "state": {
            "_model_module": "@jupyter-widgets/base",
            "_model_module_version": "1.2.0",
            "_model_name": "LayoutModel",
            "_view_count": null,
            "_view_module": "@jupyter-widgets/base",
            "_view_module_version": "1.2.0",
            "_view_name": "LayoutView",
            "align_content": null,
            "align_items": null,
            "align_self": null,
            "border": null,
            "bottom": null,
            "display": null,
            "flex": null,
            "flex_flow": null,
            "grid_area": null,
            "grid_auto_columns": null,
            "grid_auto_flow": null,
            "grid_auto_rows": null,
            "grid_column": null,
            "grid_gap": null,
            "grid_row": null,
            "grid_template_areas": null,
            "grid_template_columns": null,
            "grid_template_rows": null,
            "height": null,
            "justify_content": null,
            "justify_items": null,
            "left": null,
            "margin": null,
            "max_height": null,
            "max_width": null,
            "min_height": null,
            "min_width": null,
            "object_fit": null,
            "object_position": null,
            "order": null,
            "overflow": null,
            "overflow_x": null,
            "overflow_y": null,
            "padding": null,
            "right": null,
            "top": null,
            "visibility": null,
            "width": null
          }
        },
        "85285a765ea44f4cbafae65da47ff527": {
          "model_module": "@jupyter-widgets/base",
          "model_name": "LayoutModel",
          "model_module_version": "1.2.0",
          "state": {
            "_model_module": "@jupyter-widgets/base",
            "_model_module_version": "1.2.0",
            "_model_name": "LayoutModel",
            "_view_count": null,
            "_view_module": "@jupyter-widgets/base",
            "_view_module_version": "1.2.0",
            "_view_name": "LayoutView",
            "align_content": null,
            "align_items": null,
            "align_self": null,
            "border": null,
            "bottom": null,
            "display": null,
            "flex": null,
            "flex_flow": null,
            "grid_area": null,
            "grid_auto_columns": null,
            "grid_auto_flow": null,
            "grid_auto_rows": null,
            "grid_column": null,
            "grid_gap": null,
            "grid_row": null,
            "grid_template_areas": null,
            "grid_template_columns": null,
            "grid_template_rows": null,
            "height": null,
            "justify_content": null,
            "justify_items": null,
            "left": null,
            "margin": null,
            "max_height": null,
            "max_width": null,
            "min_height": null,
            "min_width": null,
            "object_fit": null,
            "object_position": null,
            "order": null,
            "overflow": null,
            "overflow_x": null,
            "overflow_y": null,
            "padding": null,
            "right": null,
            "top": null,
            "visibility": null,
            "width": null
          }
        },
        "30caaeef50184a3e89591a10ed856ea7": {
          "model_module": "@jupyter-widgets/controls",
          "model_name": "DescriptionStyleModel",
          "model_module_version": "1.5.0",
          "state": {
            "_model_module": "@jupyter-widgets/controls",
            "_model_module_version": "1.5.0",
            "_model_name": "DescriptionStyleModel",
            "_view_count": null,
            "_view_module": "@jupyter-widgets/base",
            "_view_module_version": "1.2.0",
            "_view_name": "StyleView",
            "description_width": ""
          }
        },
        "053920a0d4344f0a9517ee1569272fbb": {
          "model_module": "@jupyter-widgets/base",
          "model_name": "LayoutModel",
          "model_module_version": "1.2.0",
          "state": {
            "_model_module": "@jupyter-widgets/base",
            "_model_module_version": "1.2.0",
            "_model_name": "LayoutModel",
            "_view_count": null,
            "_view_module": "@jupyter-widgets/base",
            "_view_module_version": "1.2.0",
            "_view_name": "LayoutView",
            "align_content": null,
            "align_items": null,
            "align_self": null,
            "border": null,
            "bottom": null,
            "display": null,
            "flex": null,
            "flex_flow": null,
            "grid_area": null,
            "grid_auto_columns": null,
            "grid_auto_flow": null,
            "grid_auto_rows": null,
            "grid_column": null,
            "grid_gap": null,
            "grid_row": null,
            "grid_template_areas": null,
            "grid_template_columns": null,
            "grid_template_rows": null,
            "height": null,
            "justify_content": null,
            "justify_items": null,
            "left": null,
            "margin": null,
            "max_height": null,
            "max_width": null,
            "min_height": null,
            "min_width": null,
            "object_fit": null,
            "object_position": null,
            "order": null,
            "overflow": null,
            "overflow_x": null,
            "overflow_y": null,
            "padding": null,
            "right": null,
            "top": null,
            "visibility": null,
            "width": null
          }
        },
        "1bb0ccc2e21145eab20d20e77870cf3e": {
          "model_module": "@jupyter-widgets/controls",
          "model_name": "ProgressStyleModel",
          "model_module_version": "1.5.0",
          "state": {
            "_model_module": "@jupyter-widgets/controls",
            "_model_module_version": "1.5.0",
            "_model_name": "ProgressStyleModel",
            "_view_count": null,
            "_view_module": "@jupyter-widgets/base",
            "_view_module_version": "1.2.0",
            "_view_name": "StyleView",
            "bar_color": null,
            "description_width": ""
          }
        },
        "4fac076977864706b549cc741f08e9d0": {
          "model_module": "@jupyter-widgets/base",
          "model_name": "LayoutModel",
          "model_module_version": "1.2.0",
          "state": {
            "_model_module": "@jupyter-widgets/base",
            "_model_module_version": "1.2.0",
            "_model_name": "LayoutModel",
            "_view_count": null,
            "_view_module": "@jupyter-widgets/base",
            "_view_module_version": "1.2.0",
            "_view_name": "LayoutView",
            "align_content": null,
            "align_items": null,
            "align_self": null,
            "border": null,
            "bottom": null,
            "display": null,
            "flex": null,
            "flex_flow": null,
            "grid_area": null,
            "grid_auto_columns": null,
            "grid_auto_flow": null,
            "grid_auto_rows": null,
            "grid_column": null,
            "grid_gap": null,
            "grid_row": null,
            "grid_template_areas": null,
            "grid_template_columns": null,
            "grid_template_rows": null,
            "height": null,
            "justify_content": null,
            "justify_items": null,
            "left": null,
            "margin": null,
            "max_height": null,
            "max_width": null,
            "min_height": null,
            "min_width": null,
            "object_fit": null,
            "object_position": null,
            "order": null,
            "overflow": null,
            "overflow_x": null,
            "overflow_y": null,
            "padding": null,
            "right": null,
            "top": null,
            "visibility": null,
            "width": null
          }
        },
        "6a407f72b0a147bc80714882a7985313": {
          "model_module": "@jupyter-widgets/controls",
          "model_name": "DescriptionStyleModel",
          "model_module_version": "1.5.0",
          "state": {
            "_model_module": "@jupyter-widgets/controls",
            "_model_module_version": "1.5.0",
            "_model_name": "DescriptionStyleModel",
            "_view_count": null,
            "_view_module": "@jupyter-widgets/base",
            "_view_module_version": "1.2.0",
            "_view_name": "StyleView",
            "description_width": ""
          }
        }
      }
    }
  },
  "cells": [
    {
      "cell_type": "markdown",
      "metadata": {
        "id": "view-in-github",
        "colab_type": "text"
      },
      "source": [
        "<a href=\"https://colab.research.google.com/github/PMartey/KaggleX-Project/blob/main/001_Updated_Copy_of_Stock_trading_and_Insurance_Bot_KaggleX_QA_with_Gemma.ipynb\" target=\"_parent\"><img src=\"https://colab.research.google.com/assets/colab-badge.svg\" alt=\"Open In Colab\"/></a>"
      ]
    },
    {
      "cell_type": "code",
      "execution_count": 2,
      "metadata": {
        "colab": {
          "base_uri": "https://localhost:8080/",
          "height": 84,
          "referenced_widgets": [
            "9f1769357ea54871ba44da709b208361",
            "144a5898516446c09d233304ffeb1008",
            "6b40752b8c11453bb43b5009fa000e74",
            "c6822dea743340628edff9498164a3c5",
            "b03e7c95082e437dae4c89331fd5c912",
            "710e892ec3be42dfa993896381900d31",
            "e49ae6c9169145b59148b29c53002652",
            "fcace058c4c848e4be07367d4a651deb",
            "9f9245d4552f48ffa7877df86e75de48",
            "245f8c2eb85140268c04f16dbba9e95c",
            "45712b92fddd44e8b3b6f647e6675908",
            "a78ac6d474694d89b75778777c53ba3c",
            "6b49671abf58442e88eca3dd319cc006",
            "f0ba7c753e954e8c8b9755e379e970e2",
            "ea83bcf1259d4687bd85c1a58701986b",
            "1a45cfd98d774b91a88ec0e038b0205e",
            "c6a0a1e875c74a57bc883983a8dbafa8",
            "19394f0dce0a4159a9ab257c2159f209",
            "38a4273a7f394d83b1201bd8d488a1ab",
            "e27f585d5d1b424c95e0e3601575a457",
            "1b8775b32b7947f3aaf34cf654f40301",
            "e94ca0775d3042dcae40437374bd64bf",
            "d6dbd3a735a548d7a71b9f6579af593c"
          ]
        },
        "id": "A0ZGOdiOAHrX",
        "outputId": "38cb554e-ba49-4855-a931-5243829bd8de"
      },
      "outputs": [
        {
          "output_type": "display_data",
          "data": {
            "text/plain": [
              "VBox(children=(HTML(value='<center> <img\\nsrc=https://www.kaggle.com/static/images/site-logo.png\\nalt=\\'Kaggle…"
            ],
            "application/vnd.jupyter.widget-view+json": {
              "version_major": 2,
              "version_minor": 0,
              "model_id": "9f1769357ea54871ba44da709b208361"
            }
          },
          "metadata": {}
        },
        {
          "output_type": "stream",
          "name": "stdout",
          "text": [
            "Kaggle credentials set.\n",
            "Kaggle credentials successfully validated.\n"
          ]
        }
      ],
      "source": [
        "# IMPORTANT: SOME KAGGLE DATA SOURCES ARE PRIVATE\n",
        "# RUN THIS CELL IN ORDER TO IMPORT YOUR KAGGLE DATA SOURCES.\n",
        "import kagglehub\n",
        "kagglehub.login()"
      ]
    },
    {
      "cell_type": "code",
      "source": [
        "# Download the gemma_2b_en/2 from kaggle\n",
        "\n",
        "keras_gemma_keras_gemma_2b_en_2_path = kagglehub.model_download('keras/gemma/Keras/gemma_2b_en/2')\n",
        "#keras_gemma_keras_gemma_instruct_2b_en_2_path = kagglehub.model_download('keras/gemma/Keras/gemma_instruct_2b_en/2')\n",
        "#keras_gemma_keras_gemma_instruct_7b_en_2_path = kagglehub.model_download('keras/gemma/Keras/gemma_instruct_7b_en/2')\n",
        "#keras_gemma_keras_gemma_7b_en_2_path = kagglehub.model_download('keras/gemma/Keras/gemma_7b_en/2')\n",
        "\n",
        "#print('Data source import complete.')"
      ],
      "metadata": {
        "id": "6nz0JG9UAdoR"
      },
      "execution_count": 3,
      "outputs": []
    },
    {
      "cell_type": "markdown",
      "source": [
        "# Google – AI Assistants for Data Tasks with Gemma with [KerasNLP](https://github.com/keras-team/keras-nlp) and [Keras](https://github.com/keras-team/keras)\n",
        "\n",
        "> The objective of this question and answer model is to build a chatbot to assist individuals in understanding stock trading concepts or answering day to day insurance or stock trading questions\n",
        "\n",
        "<div align=\"center\">\n",
        "    <img src=\"https://thumbs.dreamstime.com/z/financial-money-business-diagram-report-52108082.jpg?ct=jpeg\">\n",
        "</div>\n",
        "\n",
        "In this project, we will create a notebook that demonstrate how to use the Gemma LLM to accomplish one or more of the following  tasks:\n",
        "1. **<font color=\"red\">Answer common questions about insurance or trades.</font>**\n",
        "2. Explain or teach basic trading/insurance concepts.\n",
        "3. Summarize Solution write-ups.\n",
        "4. Give insurance market estimates.\n",
        "5. Answer common questions about what is going on in the stock market.\n",
        "\n",
        "This notebook guides you through performing `\"1. Answer common questions about insurance or trades\"` task for the project. As this task requires specific knowledge of the financial markets(banking,stocks,insurance,and shares), we need precise information about Finance. To do so, I have created a dataset, [\"Final Training Dataset\"], collecting data from [huggingface.com](https://huggingface.co/datasets/yymYYM/stock_trading_QA). To make things easier for the model, the data is curated to have Question-Answer pair format. We will use this dataset to fine-tune **Gemma LLM** to answer questions about stcok trading.\n",
        "\n",
        "<u>Fun fact</u>: This notebook is backend-agnostic, supporting TensorFlow, PyTorch, and JAX. However, the best performance can be achieved from `JAX`. Utilizing KerasNLP and Keras allows us to choose our preferred backend. Explore more details on [Keras](https://keras.io/keras_3/).\n",
        "\n",
        "**Note**: For a more in-depth understanding of KerasNLP, refer to the [KerasNLP guides](https://keras.io/keras_nlp/)."
      ],
      "metadata": {
        "_uuid": "1dc0ebfd-5e33-46f6-974b-791e58eee022",
        "_cell_guid": "f3170e28-2fcc-4be2-a7df-56aa5df7fc3f",
        "trusted": true,
        "id": "RPU1sOzwuWkg"
      }
    },
    {
      "cell_type": "markdown",
      "source": [
        "# Install Libraries"
      ],
      "metadata": {
        "_uuid": "3cb92f10-91ab-4cd3-b0de-dd6bf1a1af7e",
        "_cell_guid": "f423ce30-db86-47f5-8f37-87d821e7517c",
        "trusted": true,
        "id": "FhfqXLoQuWkh"
      }
    },
    {
      "cell_type": "code",
      "source": [
        "# Install Keras 3 last. See https://keras.io/getting_started/ for more details.\n",
        "!pip install -q -U keras-nlp\n",
        "!pip install -q -U keras>=3"
      ],
      "metadata": {
        "_uuid": "3e810043-5b49-4803-a491-30b77e5ad114",
        "_cell_guid": "df60edef-93b7-4672-b907-9b4ead347f65",
        "_kg_hide-output": true,
        "execution": {
          "iopub.status.busy": "2024-10-19T03:16:05.888953Z",
          "iopub.execute_input": "2024-10-19T03:16:05.889715Z",
          "iopub.status.idle": "2024-10-19T03:16:34.80213Z",
          "shell.execute_reply.started": "2024-10-19T03:16:05.889676Z",
          "shell.execute_reply": "2024-10-19T03:16:34.801139Z"
        },
        "jupyter": {
          "outputs_hidden": false
        },
        "trusted": true,
        "id": "btrGXDRuuWkh",
        "colab": {
          "base_uri": "https://localhost:8080/"
        },
        "outputId": "164ba9e0-5204-4f8b-d903-fab507b21145"
      },
      "execution_count": 4,
      "outputs": [
        {
          "output_type": "stream",
          "name": "stdout",
          "text": [
            "\u001b[2K   \u001b[90m━━━━━━━━━━━━━━━━━━━━━━━━━━━━━━━━━━━━━━━━\u001b[0m \u001b[32m644.1/644.1 kB\u001b[0m \u001b[31m9.1 MB/s\u001b[0m eta \u001b[36m0:00:00\u001b[0m\n",
            "\u001b[2K   \u001b[90m━━━━━━━━━━━━━━━━━━━━━━━━━━━━━━━━━━━━━━━━\u001b[0m \u001b[32m5.2/5.2 MB\u001b[0m \u001b[31m78.1 MB/s\u001b[0m eta \u001b[36m0:00:00\u001b[0m\n",
            "\u001b[2K   \u001b[90m━━━━━━━━━━━━━━━━━━━━━━━━━━━━━━━━━━━━━━━━\u001b[0m \u001b[32m615.3/615.3 MB\u001b[0m \u001b[31m2.9 MB/s\u001b[0m eta \u001b[36m0:00:00\u001b[0m\n",
            "\u001b[2K   \u001b[90m━━━━━━━━━━━━━━━━━━━━━━━━━━━━━━━━━━━━━━━━\u001b[0m \u001b[32m5.5/5.5 MB\u001b[0m \u001b[31m58.7 MB/s\u001b[0m eta \u001b[36m0:00:00\u001b[0m\n",
            "\u001b[?25h\u001b[31mERROR: pip's dependency resolver does not currently take into account all the packages that are installed. This behaviour is the source of the following dependency conflicts.\n",
            "tf-keras 2.17.0 requires tensorflow<2.18,>=2.17, but you have tensorflow 2.18.0 which is incompatible.\u001b[0m\u001b[31m\n",
            "\u001b[0m\u001b[31mERROR: pip's dependency resolver does not currently take into account all the packages that are installed. This behaviour is the source of the following dependency conflicts.\n",
            "tf-keras 2.17.0 requires tensorflow<2.18,>=2.17, but you have tensorflow 2.18.0 which is incompatible.\u001b[0m\u001b[31m\n",
            "\u001b[0m"
          ]
        }
      ]
    },
    {
      "cell_type": "markdown",
      "source": [
        "# Import Libraries"
      ],
      "metadata": {
        "_uuid": "e3156be1-4c79-4f09-b614-fd1b07045778",
        "_cell_guid": "7b3dfed9-eba7-4262-9a62-3395038c88e9",
        "trusted": true,
        "id": "7p-mpPKfuWkh"
      }
    },
    {
      "cell_type": "code",
      "source": [
        "import os\n",
        "os.environ[\"KERAS_BACKEND\"] = \"jax\" # you can also use tensorflow or torch\n",
        "os.environ[\"XLA_PYTHON_CLIENT_MEM_FRACTION\"] = \"1.00\" # avoid memory fragmentation on JAX backend.\n",
        "\n",
        "import keras\n",
        "import keras_nlp\n",
        "\n",
        "import numpy as np\n",
        "import pandas as pd\n",
        "from tqdm.notebook import tqdm\n",
        "tqdm.pandas() # progress bar for pandas\n",
        "\n",
        "import plotly.graph_objs as go\n",
        "import plotly.express as px\n",
        "from IPython.display import display, Markdown"
      ],
      "metadata": {
        "_uuid": "daee6ba8-d513-4777-9f51-eeb292be1a38",
        "_cell_guid": "fec7caf1-2309-46a2-9b73-2abbf9f009df",
        "_kg_hide-output": true,
        "execution": {
          "iopub.status.busy": "2024-10-19T03:17:17.581283Z",
          "iopub.execute_input": "2024-10-19T03:17:17.581928Z",
          "iopub.status.idle": "2024-10-19T03:17:30.882443Z",
          "shell.execute_reply.started": "2024-10-19T03:17:17.581886Z",
          "shell.execute_reply": "2024-10-19T03:17:30.881638Z"
        },
        "jupyter": {
          "outputs_hidden": false
        },
        "trusted": true,
        "id": "R0FzsrrVuWkh"
      },
      "execution_count": 5,
      "outputs": []
    },
    {
      "cell_type": "markdown",
      "source": [
        "# Configuration"
      ],
      "metadata": {
        "_uuid": "5bd98a3d-ee35-4b30-ae87-d1ef25848623",
        "_cell_guid": "f517b8f9-547f-4c30-b170-50c2525f7bbc",
        "trusted": true,
        "id": "AnsRJL5cuWkh"
      }
    },
    {
      "cell_type": "code",
      "source": [
        "class CFG:\n",
        "    seed = 42\n",
        "    dataset_path = \"/content/train1_data.csv\"\n",
        "    preset = \"gemma_2b_en\" # name of pretrained Gemma #using this instead 'gemma_instruct_2b_en' of 'gemma_2b_en'\n",
        "    sequence_length = 512 # max size of input sequence for training\n",
        "    batch_size = 1 # size of the input batch in training, x 2 as two GPUs\n",
        "    epochs = 25 # number of epochs to train"
      ],
      "metadata": {
        "_uuid": "7d9850f3-ab9a-401b-b2a9-bc70a302a895",
        "_cell_guid": "44807a4f-2d1f-471b-8228-0c4e878f9214",
        "execution": {
          "iopub.status.busy": "2024-10-19T03:19:55.421459Z",
          "iopub.execute_input": "2024-10-19T03:19:55.422333Z",
          "iopub.status.idle": "2024-10-19T03:19:55.426849Z",
          "shell.execute_reply.started": "2024-10-19T03:19:55.422293Z",
          "shell.execute_reply": "2024-10-19T03:19:55.425939Z"
        },
        "jupyter": {
          "outputs_hidden": false
        },
        "trusted": true,
        "id": "rHK1_usNuWki"
      },
      "execution_count": 6,
      "outputs": []
    },
    {
      "cell_type": "markdown",
      "source": [
        "# Reproducibility\n",
        "Sets value for random seed to produce similar result in each run."
      ],
      "metadata": {
        "_uuid": "c07b5dcd-997c-4c5c-abbb-ad2ccc007845",
        "_cell_guid": "1b49915d-6079-4269-88ea-560edcdce739",
        "trusted": true,
        "id": "BPeJ4JtuuWki"
      }
    },
    {
      "cell_type": "code",
      "source": [
        "keras.utils.set_random_seed(CFG.seed)"
      ],
      "metadata": {
        "_uuid": "345e280f-3bb9-40a8-a351-1c32ef155455",
        "_cell_guid": "5be641c8-3b47-49e1-9fd6-4200921348df",
        "execution": {
          "iopub.status.busy": "2024-10-19T03:20:05.309338Z",
          "iopub.execute_input": "2024-10-19T03:20:05.310012Z",
          "iopub.status.idle": "2024-10-19T03:20:05.314773Z",
          "shell.execute_reply.started": "2024-10-19T03:20:05.30998Z",
          "shell.execute_reply": "2024-10-19T03:20:05.31378Z"
        },
        "jupyter": {
          "outputs_hidden": false
        },
        "trusted": true,
        "id": "Avj-FtwSuWki"
      },
      "execution_count": 7,
      "outputs": []
    },
    {
      "cell_type": "markdown",
      "source": [
        "# Data\n",
        "\n",
        "The newly created **STand I-questions-and-answers** dataset contains only approximately $198$ question-answer pairs curated from raw data from the `huggingface.com` website. However, one can create many more samples from this provided data through simple augmentation or prompt engineering.  In this notebook, we will focus on keeping it simple.\n",
        "\n",
        "**Data Format:**\n",
        "\n",
        "- The question-answer pair data is stored in `/kaggle/input/provide link` file.\n",
        "- This file includes:\n",
        "    - `Question`: A question about banking,stocks, insurance, and shares\n",
        "    - `Answer`: Answer to the question in markdown format\n",
        "    \n",
        "> You can access the **raw** data from `hugging face`, where there are `.parquet and .csv` files for each of the **two** categories."
      ],
      "metadata": {
        "_uuid": "036fa721-ecf1-4667-8f7e-df816e7d56fd",
        "_cell_guid": "791c12a1-973e-4cd2-84f1-023b7e0a1f34",
        "trusted": true,
        "id": "QbQzO0K2uWki"
      }
    },
    {
      "cell_type": "code",
      "source": [
        "df_train = pd.read_csv(f\"{CFG.dataset_path}\")\n",
        "df_train.info()"
      ],
      "metadata": {
        "_uuid": "9370c24d-06d2-4800-87f9-1970fecbef2b",
        "_cell_guid": "2c92df6b-82e1-47ff-a0e8-995017e96d12",
        "execution": {
          "iopub.status.busy": "2024-10-19T03:24:42.251158Z",
          "iopub.execute_input": "2024-10-19T03:24:42.251548Z",
          "iopub.status.idle": "2024-10-19T03:24:42.68842Z",
          "shell.execute_reply.started": "2024-10-19T03:24:42.251517Z",
          "shell.execute_reply": "2024-10-19T03:24:42.687505Z"
        },
        "jupyter": {
          "outputs_hidden": false
        },
        "trusted": true,
        "id": "WdP7KtQZuWki",
        "colab": {
          "base_uri": "https://localhost:8080/"
        },
        "outputId": "93f3f1dc-8c91-4410-8100-42398915deb6"
      },
      "execution_count": 8,
      "outputs": [
        {
          "output_type": "stream",
          "name": "stdout",
          "text": [
            "<class 'pandas.core.frame.DataFrame'>\n",
            "RangeIndex: 198 entries, 0 to 197\n",
            "Data columns (total 2 columns):\n",
            " #   Column    Non-Null Count  Dtype \n",
            "---  ------    --------------  ----- \n",
            " 0   question  198 non-null    object\n",
            " 1   answer    198 non-null    object\n",
            "dtypes: object(2)\n",
            "memory usage: 3.2+ KB\n"
          ]
        }
      ]
    },
    {
      "cell_type": "code",
      "source": [
        "# Randomly select 250 rows from my data set since training on all 12047 rows takes more storage\n",
        "#df = df_train.sample(n=100, random_state=42)\n",
        "#print(df.info())\n",
        "#df.head(2)\n",
        "df = df_train\n"
      ],
      "metadata": {
        "id": "OVSH6YYeVcSZ"
      },
      "execution_count": 9,
      "outputs": []
    },
    {
      "cell_type": "markdown",
      "source": [
        "We'll use the following simple template to create prompts from question-answer pairs and category to feed text into the model:\n",
        "\n",
        "```\n",
        "\n",
        "Question: ...\n",
        "\n",
        "Answer: ...\n",
        "```\n",
        "\n",
        "This template helps the model understand what you're asking and how to respond accurately. You can explore more advanced prompt templates for better results."
      ],
      "metadata": {
        "_uuid": "89097901-fce9-48ed-9890-08bb3ce80730",
        "_cell_guid": "1063dbc4-cda8-4186-8354-d25af356ecf2",
        "trusted": true,
        "id": "r1WSdyhwuWki"
      }
    },
    {
      "cell_type": "code",
      "source": [
        "# Loading validation data set\n",
        "df_val1 = pd.read_csv(\"/content/val1_data.csv\")\n",
        "df_val1.info()"
      ],
      "metadata": {
        "colab": {
          "base_uri": "https://localhost:8080/"
        },
        "id": "_DnN2VsO5GZQ",
        "outputId": "49e92ae7-c226-4d87-a2c5-aa995b999074"
      },
      "execution_count": 10,
      "outputs": [
        {
          "output_type": "stream",
          "name": "stdout",
          "text": [
            "<class 'pandas.core.frame.DataFrame'>\n",
            "RangeIndex: 42 entries, 0 to 41\n",
            "Data columns (total 2 columns):\n",
            " #   Column    Non-Null Count  Dtype \n",
            "---  ------    --------------  ----- \n",
            " 0   question  42 non-null     object\n",
            " 1   answer    42 non-null     object\n",
            "dtypes: object(2)\n",
            "memory usage: 800.0+ bytes\n"
          ]
        }
      ]
    },
    {
      "cell_type": "code",
      "source": [
        "template = \"\\n\\nQuestion:\\nUser-{Question}\\n\\nAnswer:\\n{Answer}\""
      ],
      "metadata": {
        "_uuid": "96d2c4b6-3bd9-4039-9130-a759867d24bc",
        "_cell_guid": "239bdd7d-dd0c-4fcb-9dd5-e4ccabb1e234",
        "execution": {
          "iopub.status.busy": "2024-10-19T03:31:15.073841Z",
          "iopub.execute_input": "2024-10-19T03:31:15.074869Z",
          "iopub.status.idle": "2024-10-19T03:31:15.078877Z",
          "shell.execute_reply.started": "2024-10-19T03:31:15.074832Z",
          "shell.execute_reply": "2024-10-19T03:31:15.077929Z"
        },
        "jupyter": {
          "outputs_hidden": false
        },
        "trusted": true,
        "id": "BFcd79tLuWki"
      },
      "execution_count": 11,
      "outputs": []
    },
    {
      "cell_type": "code",
      "source": [
        "df[\"prompt\"] = df.progress_apply(lambda row: template.format(\n",
        "                                                             Question=row.question,\n",
        "                                                             Answer=row.answer), axis=1)\n",
        "data = df.prompt.tolist()\n"
      ],
      "metadata": {
        "_uuid": "11904bed-f55b-460f-aa9f-ed728e28da10",
        "_cell_guid": "febfac2b-20d9-407e-b9c8-7976ecbed8ec",
        "execution": {
          "iopub.status.busy": "2024-10-19T03:31:18.762746Z",
          "iopub.execute_input": "2024-10-19T03:31:18.763106Z",
          "iopub.status.idle": "2024-10-19T03:31:19.336042Z",
          "shell.execute_reply.started": "2024-10-19T03:31:18.763077Z",
          "shell.execute_reply": "2024-10-19T03:31:19.335096Z"
        },
        "jupyter": {
          "outputs_hidden": false
        },
        "trusted": true,
        "id": "-uo-T9UnuWkj",
        "colab": {
          "base_uri": "https://localhost:8080/",
          "height": 49,
          "referenced_widgets": [
            "1ec13ef0e7f5495097a38bbd838a1913",
            "3c3c735154944a3eba20c1022ca4ce10",
            "2588abb733154d62bb9a253f6a9eb871",
            "57be8eaa28d34ad4b6abeb68e51e6639",
            "60d32944fad14f35921642cb3fa9e81f",
            "ebdccba4eb39471282c1a93327a80d40",
            "4b0271aab9f6459fbbc045ed0223ddaa",
            "f19858e3fc624b0abe4ff7e431fbace3",
            "1819e95dd88d4d27ae1d764d8e19faa3",
            "d64c9664fe644f41be2a1d7d4ee26de0",
            "006ffecf464b439e91d67b8a1a19d73a"
          ]
        },
        "outputId": "45a07afb-2b66-4fd7-9857-d152d5905922"
      },
      "execution_count": 12,
      "outputs": [
        {
          "output_type": "display_data",
          "data": {
            "text/plain": [
              "  0%|          | 0/198 [00:00<?, ?it/s]"
            ],
            "application/vnd.jupyter.widget-view+json": {
              "version_major": 2,
              "version_minor": 0,
              "model_id": "1ec13ef0e7f5495097a38bbd838a1913"
            }
          },
          "metadata": {}
        }
      ]
    },
    {
      "cell_type": "code",
      "source": [
        "df_val1[\"prompt\"] = df.progress_apply(lambda row: template.format(\n",
        "                                                             Question=row.question,\n",
        "                                                             Answer=row.answer), axis=1)\n",
        "\n",
        "df_val = df_val1.prompt.tolist()"
      ],
      "metadata": {
        "colab": {
          "base_uri": "https://localhost:8080/",
          "height": 49,
          "referenced_widgets": [
            "cafe6f1c08a84742a72f0f77bc9b299c",
            "ff87d4a8f2ea4408a5ebe9f288be93fd",
            "e7fb778f33f74fca8ef05b90d532cbe8",
            "a2a2bf3d53324b8db125efac53d5a856",
            "0431a7f853b64b34a01155d02ab132b5",
            "85285a765ea44f4cbafae65da47ff527",
            "30caaeef50184a3e89591a10ed856ea7",
            "053920a0d4344f0a9517ee1569272fbb",
            "1bb0ccc2e21145eab20d20e77870cf3e",
            "4fac076977864706b549cc741f08e9d0",
            "6a407f72b0a147bc80714882a7985313"
          ]
        },
        "id": "NXTQdQ7R5fs-",
        "outputId": "3efe588b-c112-4008-9a83-e2c39d308d5d"
      },
      "execution_count": 13,
      "outputs": [
        {
          "output_type": "display_data",
          "data": {
            "text/plain": [
              "  0%|          | 0/198 [00:00<?, ?it/s]"
            ],
            "application/vnd.jupyter.widget-view+json": {
              "version_major": 2,
              "version_minor": 0,
              "model_id": "cafe6f1c08a84742a72f0f77bc9b299c"
            }
          },
          "metadata": {}
        }
      ]
    },
    {
      "cell_type": "markdown",
      "source": [
        "Let's examine a sample prompt. As the answers in our dataset are curated with **markdown** format, we will render the sample using `Markdown()` to properly visualize the formatting."
      ],
      "metadata": {
        "_uuid": "4b44f672-7494-44ad-b6d3-090ff07ec524",
        "_cell_guid": "5006ff37-6d88-4203-9f44-cbd82bacdd9f",
        "trusted": true,
        "id": "R5egwMfuuWkj"
      }
    },
    {
      "cell_type": "markdown",
      "source": [
        "## Sample"
      ],
      "metadata": {
        "_uuid": "f4531b5b-f289-46fc-a9e1-42a2ea74202a",
        "_cell_guid": "573d55f1-dc3d-4966-88ef-95b0c5e3a953",
        "trusted": true,
        "id": "VEenv8cxuWkj"
      }
    },
    {
      "cell_type": "code",
      "source": [
        "def colorize_text(text):\n",
        "    for word, color in zip([\"Question\", \"Answer\"], [\"red\", \"green\"]):\n",
        "        text = text.replace(f\"\\n\\n{word}:\", f\"\\n\\n**<font color='{color}'>{word}:</font>**\")\n",
        "    return text"
      ],
      "metadata": {
        "_uuid": "9f3fa396-5f8c-4351-bbb6-9a4058b7e988",
        "_cell_guid": "7b046434-dff9-4a04-83ea-96dfe03e27b9",
        "_kg_hide-input": true,
        "execution": {
          "iopub.status.busy": "2024-10-19T03:30:17.557383Z",
          "iopub.execute_input": "2024-10-19T03:30:17.558225Z",
          "iopub.status.idle": "2024-10-19T03:30:17.563123Z",
          "shell.execute_reply.started": "2024-10-19T03:30:17.558194Z",
          "shell.execute_reply": "2024-10-19T03:30:17.56217Z"
        },
        "jupyter": {
          "outputs_hidden": false
        },
        "trusted": true,
        "id": "SrxZ6Jn-uWkj"
      },
      "execution_count": 14,
      "outputs": []
    },
    {
      "cell_type": "code",
      "source": [
        "# Take a random sample\n",
        "sample = data[45]\n",
        "\n",
        "# Give colors to Question, Answer and Category\n",
        "sample = colorize_text(sample)\n",
        "\n",
        "# Show sample in markdown\n",
        "display(Markdown(sample))  # this is an incomplete answer"
      ],
      "metadata": {
        "_uuid": "c26c3818-e78d-4d65-873a-5a50108cdedf",
        "_cell_guid": "3057e80d-c4aa-486d-b2b6-5d5cc127bc47",
        "_kg_hide-input": true,
        "execution": {
          "iopub.status.busy": "2024-10-19T03:31:26.386579Z",
          "iopub.execute_input": "2024-10-19T03:31:26.387208Z",
          "iopub.status.idle": "2024-10-19T03:31:26.393601Z",
          "shell.execute_reply.started": "2024-10-19T03:31:26.387177Z",
          "shell.execute_reply": "2024-10-19T03:31:26.392554Z"
        },
        "jupyter": {
          "outputs_hidden": false
        },
        "trusted": true,
        "id": "fet7ICkQuWkj",
        "colab": {
          "base_uri": "https://localhost:8080/",
          "height": 87
        },
        "outputId": "f426351d-3f11-4b4c-a16c-83d7d44446aa"
      },
      "execution_count": 15,
      "outputs": [
        {
          "output_type": "display_data",
          "data": {
            "text/plain": [
              "<IPython.core.display.Markdown object>"
            ],
            "text/markdown": "\n\n**<font color='red'>Question:</font>**\nUser-What role does the exchange rate play in trading models integrating macroeconomic indicators?\n\n**<font color='green'>Answer:</font>**\nExchange rates impact international trade, capital flows, and competitiveness, making them significant for traders assessing market opportunities and risks."
          },
          "metadata": {}
        }
      ]
    },
    {
      "cell_type": "markdown",
      "source": [
        "## Word Cloud\n",
        "Let's do a simple EDA to determine the most common areas of questions asked."
      ],
      "metadata": {
        "_uuid": "790c433e-0494-408a-aaae-f90ac93640cb",
        "_cell_guid": "762961de-63f1-4186-a412-025850443744",
        "trusted": true,
        "id": "gQ8IftLduWkj"
      }
    },
    {
      "cell_type": "code",
      "source": [
        "# Create a word cloud for my most asked questions\n",
        "import matplotlib.pyplot as plt\n",
        "from wordcloud import WordCloud, STOPWORDS\n",
        "\n",
        "#join all the real news\n",
        "question_tags = ' '.join(list(df['question']))\n",
        "\n",
        "# create word cloud for real news\n",
        "wordcloud = WordCloud(width=800, height=400, background_color='white', stopwords=STOPWORDS).generate(question_tags)\n",
        "\n",
        "# plot the word cloud\n",
        "plt.figure(figsize=(10, 5))\n",
        "plt.imshow(wordcloud, interpolation='bilinear')\n",
        "plt.axis('off')\n",
        "plt.title('Most Used Words in Questions')\n",
        "plt.show()"
      ],
      "metadata": {
        "id": "1TNsZaFeXWjV",
        "colab": {
          "base_uri": "https://localhost:8080/",
          "height": 444
        },
        "outputId": "b9153659-6e2a-4107-96ca-2ecbde1262bd"
      },
      "execution_count": 16,
      "outputs": [
        {
          "output_type": "display_data",
          "data": {
            "text/plain": [
              "<Figure size 1000x500 with 1 Axes>"
            ],
            "image/png": "[encoded data removed]"
          },
          "metadata": {}
        }
      ]
    },
    {
      "cell_type": "markdown",
      "source": [
        "# Modeling\n",
        "\n",
        "## Gemma Casual LM"
      ],
      "metadata": {
        "id": "DXIWaseXEfzW"
      }
    },
    {
      "cell_type": "code",
      "source": [
        "gemma_lm = keras_nlp.models.GemmaCausalLM.from_preset(\"gemma_2b_en\")\n",
        "gemma_lm.summary()"
      ],
      "metadata": {
        "_uuid": "cf3f9710-2cdc-422b-9373-f1eec31d0c9f",
        "_cell_guid": "eea36271-a629-4da9-9e70-8a26dc924597",
        "execution": {
          "iopub.status.busy": "2024-10-19T03:52:17.71227Z",
          "iopub.execute_input": "2024-10-19T03:52:17.712959Z",
          "iopub.status.idle": "2024-10-19T03:52:29.552559Z",
          "shell.execute_reply.started": "2024-10-19T03:52:17.712922Z",
          "shell.execute_reply": "2024-10-19T03:52:29.550978Z"
        },
        "jupyter": {
          "outputs_hidden": false
        },
        "trusted": true,
        "id": "YibLMLkxuWkj",
        "colab": {
          "base_uri": "https://localhost:8080/",
          "height": 400
        },
        "outputId": "3bcb1f26-945b-4a85-824d-4774725ef289"
      },
      "execution_count": 17,
      "outputs": [
        {
          "output_type": "display_data",
          "data": {
            "text/plain": [
              "\u001b[1mPreprocessor: \"gemma_causal_lm_preprocessor\"\u001b[0m\n"
            ],
            "text/html": [
              "<pre style=\"white-space:pre;overflow-x:auto;line-height:normal;font-family:Menlo,'DejaVu Sans Mono',consolas,'Courier New',monospace\"><span style=\"font-weight: bold\">Preprocessor: \"gemma_causal_lm_preprocessor\"</span>\n",
              "</pre>\n"
            ]
          },
          "metadata": {}
        },
        {
          "output_type": "display_data",
          "data": {
            "text/plain": [
              "┏━━━━━━━━━━━━━━━━━━━━━━━━━━━━━━━━━━━━━━━━━━━━━━━━━━━━━━━━━━━━━━━┳━━━━━━━━━━━━━━━━━━━━━━━━━━━━━━━━━━━━━━━━━━┓\n",
              "┃\u001b[1m \u001b[0m\u001b[1mLayer (type)                                                 \u001b[0m\u001b[1m \u001b[0m┃\u001b[1m \u001b[0m\u001b[1m                                  Config\u001b[0m\u001b[1m \u001b[0m┃\n",
              "┡━━━━━━━━━━━━━━━━━━━━━━━━━━━━━━━━━━━━━━━━━━━━━━━━━━━━━━━━━━━━━━━╇━━━━━━━━━━━━━━━━━━━━━━━━━━━━━━━━━━━━━━━━━━┩\n",
              "│ gemma_tokenizer (\u001b[38;5;33mGemmaTokenizer\u001b[0m)                              │                      Vocab size: \u001b[38;5;34m256,000\u001b[0m │\n",
              "└───────────────────────────────────────────────────────────────┴──────────────────────────────────────────┘\n"
            ],
            "text/html": [
              "<pre style=\"white-space:pre;overflow-x:auto;line-height:normal;font-family:Menlo,'DejaVu Sans Mono',consolas,'Courier New',monospace\">┏━━━━━━━━━━━━━━━━━━━━━━━━━━━━━━━━━━━━━━━━━━━━━━━━━━━━━━━━━━━━━━━┳━━━━━━━━━━━━━━━━━━━━━━━━━━━━━━━━━━━━━━━━━━┓\n",
              "┃<span style=\"font-weight: bold\"> Layer (type)                                                  </span>┃<span style=\"font-weight: bold\">                                   Config </span>┃\n",
              "┡━━━━━━━━━━━━━━━━━━━━━━━━━━━━━━━━━━━━━━━━━━━━━━━━━━━━━━━━━━━━━━━╇━━━━━━━━━━━━━━━━━━━━━━━━━━━━━━━━━━━━━━━━━━┩\n",
              "│ gemma_tokenizer (<span style=\"color: #0087ff; text-decoration-color: #0087ff\">GemmaTokenizer</span>)                              │                      Vocab size: <span style=\"color: #00af00; text-decoration-color: #00af00\">256,000</span> │\n",
              "└───────────────────────────────────────────────────────────────┴──────────────────────────────────────────┘\n",
              "</pre>\n"
            ]
          },
          "metadata": {}
        },
        {
          "output_type": "display_data",
          "data": {
            "text/plain": [
              "\u001b[1mModel: \"gemma_causal_lm\"\u001b[0m\n"
            ],
            "text/html": [
              "<pre style=\"white-space:pre;overflow-x:auto;line-height:normal;font-family:Menlo,'DejaVu Sans Mono',consolas,'Courier New',monospace\"><span style=\"font-weight: bold\">Model: \"gemma_causal_lm\"</span>\n",
              "</pre>\n"
            ]
          },
          "metadata": {}
        },
        {
          "output_type": "display_data",
          "data": {
            "text/plain": [
              "┏━━━━━━━━━━━━━━━━━━━━━━━━━━━━━━━┳━━━━━━━━━━━━━━━━━━━━━━━━━━━┳━━━━━━━━━━━━━━━━━┳━━━━━━━━━━━━━━━━━━━━━━━━━━━━┓\n",
              "┃\u001b[1m \u001b[0m\u001b[1mLayer (type)                 \u001b[0m\u001b[1m \u001b[0m┃\u001b[1m \u001b[0m\u001b[1mOutput Shape             \u001b[0m\u001b[1m \u001b[0m┃\u001b[1m \u001b[0m\u001b[1m        Param #\u001b[0m\u001b[1m \u001b[0m┃\u001b[1m \u001b[0m\u001b[1mConnected to              \u001b[0m\u001b[1m \u001b[0m┃\n",
              "┡━━━━━━━━━━━━━━━━━━━━━━━━━━━━━━━╇━━━━━━━━━━━━━━━━━━━━━━━━━━━╇━━━━━━━━━━━━━━━━━╇━━━━━━━━━━━━━━━━━━━━━━━━━━━━┩\n",
              "│ padding_mask (\u001b[38;5;33mInputLayer\u001b[0m)     │ (\u001b[38;5;45mNone\u001b[0m, \u001b[38;5;45mNone\u001b[0m)              │               \u001b[38;5;34m0\u001b[0m │ -                          │\n",
              "├───────────────────────────────┼───────────────────────────┼─────────────────┼────────────────────────────┤\n",
              "│ token_ids (\u001b[38;5;33mInputLayer\u001b[0m)        │ (\u001b[38;5;45mNone\u001b[0m, \u001b[38;5;45mNone\u001b[0m)              │               \u001b[38;5;34m0\u001b[0m │ -                          │\n",
              "├───────────────────────────────┼───────────────────────────┼─────────────────┼────────────────────────────┤\n",
              "│ gemma_backbone                │ (\u001b[38;5;45mNone\u001b[0m, \u001b[38;5;45mNone\u001b[0m, \u001b[38;5;34m2048\u001b[0m)        │   \u001b[38;5;34m2,506,172,416\u001b[0m │ padding_mask[\u001b[38;5;34m0\u001b[0m][\u001b[38;5;34m0\u001b[0m],        │\n",
              "│ (\u001b[38;5;33mGemmaBackbone\u001b[0m)               │                           │                 │ token_ids[\u001b[38;5;34m0\u001b[0m][\u001b[38;5;34m0\u001b[0m]            │\n",
              "├───────────────────────────────┼───────────────────────────┼─────────────────┼────────────────────────────┤\n",
              "│ token_embedding               │ (\u001b[38;5;45mNone\u001b[0m, \u001b[38;5;45mNone\u001b[0m, \u001b[38;5;34m256000\u001b[0m)      │     \u001b[38;5;34m524,288,000\u001b[0m │ gemma_backbone[\u001b[38;5;34m0\u001b[0m][\u001b[38;5;34m0\u001b[0m]       │\n",
              "│ (\u001b[38;5;33mReversibleEmbedding\u001b[0m)         │                           │                 │                            │\n",
              "└───────────────────────────────┴───────────────────────────┴─────────────────┴────────────────────────────┘\n"
            ],
            "text/html": [
              "<pre style=\"white-space:pre;overflow-x:auto;line-height:normal;font-family:Menlo,'DejaVu Sans Mono',consolas,'Courier New',monospace\">┏━━━━━━━━━━━━━━━━━━━━━━━━━━━━━━━┳━━━━━━━━━━━━━━━━━━━━━━━━━━━┳━━━━━━━━━━━━━━━━━┳━━━━━━━━━━━━━━━━━━━━━━━━━━━━┓\n",
              "┃<span style=\"font-weight: bold\"> Layer (type)                  </span>┃<span style=\"font-weight: bold\"> Output Shape              </span>┃<span style=\"font-weight: bold\">         Param # </span>┃<span style=\"font-weight: bold\"> Connected to               </span>┃\n",
              "┡━━━━━━━━━━━━━━━━━━━━━━━━━━━━━━━╇━━━━━━━━━━━━━━━━━━━━━━━━━━━╇━━━━━━━━━━━━━━━━━╇━━━━━━━━━━━━━━━━━━━━━━━━━━━━┩\n",
              "│ padding_mask (<span style=\"color: #0087ff; text-decoration-color: #0087ff\">InputLayer</span>)     │ (<span style=\"color: #00d7ff; text-decoration-color: #00d7ff\">None</span>, <span style=\"color: #00d7ff; text-decoration-color: #00d7ff\">None</span>)              │               <span style=\"color: #00af00; text-decoration-color: #00af00\">0</span> │ -                          │\n",
              "├───────────────────────────────┼───────────────────────────┼─────────────────┼────────────────────────────┤\n",
              "│ token_ids (<span style=\"color: #0087ff; text-decoration-color: #0087ff\">InputLayer</span>)        │ (<span style=\"color: #00d7ff; text-decoration-color: #00d7ff\">None</span>, <span style=\"color: #00d7ff; text-decoration-color: #00d7ff\">None</span>)              │               <span style=\"color: #00af00; text-decoration-color: #00af00\">0</span> │ -                          │\n",
              "├───────────────────────────────┼───────────────────────────┼─────────────────┼────────────────────────────┤\n",
              "│ gemma_backbone                │ (<span style=\"color: #00d7ff; text-decoration-color: #00d7ff\">None</span>, <span style=\"color: #00d7ff; text-decoration-color: #00d7ff\">None</span>, <span style=\"color: #00af00; text-decoration-color: #00af00\">2048</span>)        │   <span style=\"color: #00af00; text-decoration-color: #00af00\">2,506,172,416</span> │ padding_mask[<span style=\"color: #00af00; text-decoration-color: #00af00\">0</span>][<span style=\"color: #00af00; text-decoration-color: #00af00\">0</span>],        │\n",
              "│ (<span style=\"color: #0087ff; text-decoration-color: #0087ff\">GemmaBackbone</span>)               │                           │                 │ token_ids[<span style=\"color: #00af00; text-decoration-color: #00af00\">0</span>][<span style=\"color: #00af00; text-decoration-color: #00af00\">0</span>]            │\n",
              "├───────────────────────────────┼───────────────────────────┼─────────────────┼────────────────────────────┤\n",
              "│ token_embedding               │ (<span style=\"color: #00d7ff; text-decoration-color: #00d7ff\">None</span>, <span style=\"color: #00d7ff; text-decoration-color: #00d7ff\">None</span>, <span style=\"color: #00af00; text-decoration-color: #00af00\">256000</span>)      │     <span style=\"color: #00af00; text-decoration-color: #00af00\">524,288,000</span> │ gemma_backbone[<span style=\"color: #00af00; text-decoration-color: #00af00\">0</span>][<span style=\"color: #00af00; text-decoration-color: #00af00\">0</span>]       │\n",
              "│ (<span style=\"color: #0087ff; text-decoration-color: #0087ff\">ReversibleEmbedding</span>)         │                           │                 │                            │\n",
              "└───────────────────────────────┴───────────────────────────┴─────────────────┴────────────────────────────┘\n",
              "</pre>\n"
            ]
          },
          "metadata": {}
        },
        {
          "output_type": "display_data",
          "data": {
            "text/plain": [
              "\u001b[1m Total params: \u001b[0m\u001b[38;5;34m2,506,172,416\u001b[0m (9.34 GB)\n"
            ],
            "text/html": [
              "<pre style=\"white-space:pre;overflow-x:auto;line-height:normal;font-family:Menlo,'DejaVu Sans Mono',consolas,'Courier New',monospace\"><span style=\"font-weight: bold\"> Total params: </span><span style=\"color: #00af00; text-decoration-color: #00af00\">2,506,172,416</span> (9.34 GB)\n",
              "</pre>\n"
            ]
          },
          "metadata": {}
        },
        {
          "output_type": "display_data",
          "data": {
            "text/plain": [
              "\u001b[1m Trainable params: \u001b[0m\u001b[38;5;34m2,506,172,416\u001b[0m (9.34 GB)\n"
            ],
            "text/html": [
              "<pre style=\"white-space:pre;overflow-x:auto;line-height:normal;font-family:Menlo,'DejaVu Sans Mono',consolas,'Courier New',monospace\"><span style=\"font-weight: bold\"> Trainable params: </span><span style=\"color: #00af00; text-decoration-color: #00af00\">2,506,172,416</span> (9.34 GB)\n",
              "</pre>\n"
            ]
          },
          "metadata": {}
        },
        {
          "output_type": "display_data",
          "data": {
            "text/plain": [
              "\u001b[1m Non-trainable params: \u001b[0m\u001b[38;5;34m0\u001b[0m (0.00 B)\n"
            ],
            "text/html": [
              "<pre style=\"white-space:pre;overflow-x:auto;line-height:normal;font-family:Menlo,'DejaVu Sans Mono',consolas,'Courier New',monospace\"><span style=\"font-weight: bold\"> Non-trainable params: </span><span style=\"color: #00af00; text-decoration-color: #00af00\">0</span> (0.00 B)\n",
              "</pre>\n"
            ]
          },
          "metadata": {}
        }
      ]
    },
    {
      "cell_type": "markdown",
      "source": [
        "## Gemma LM Preprocessor"
      ],
      "metadata": {
        "id": "eFDWF5B5EtAT"
      }
    },
    {
      "cell_type": "code",
      "source": [
        "x, y, sample_weight = gemma_lm.preprocessor(data[0:1])"
      ],
      "metadata": {
        "_uuid": "44aa3813-554d-453b-8380-783427b3fe67",
        "_cell_guid": "4e111f71-58a8-41e9-b98f-7bf71afee1e6",
        "execution": {
          "iopub.status.busy": "2024-10-19T03:39:26.989535Z",
          "iopub.execute_input": "2024-10-19T03:39:26.989885Z",
          "iopub.status.idle": "2024-10-19T03:39:27.051783Z",
          "shell.execute_reply.started": "2024-10-19T03:39:26.98986Z",
          "shell.execute_reply": "2024-10-19T03:39:27.051007Z"
        },
        "jupyter": {
          "outputs_hidden": false
        },
        "trusted": true,
        "id": "vk2S6ZPRuWkk"
      },
      "execution_count": 18,
      "outputs": []
    },
    {
      "cell_type": "markdown",
      "source": [
        "This preprocessing layer will take in batches of strings, and return outputs in a `(x, y, sample_weight)` format, where the `y` label is the next token id in the `x` sequence.\n",
        "\n",
        "From the code below, we can see that, after the preprocessor, the data shape is `(num_samples, sequence_length)`."
      ],
      "metadata": {
        "_uuid": "f3b7da0c-7482-479a-bccc-a1392f5817df",
        "_cell_guid": "652f8bab-c387-40ab-95cd-1239a4016685",
        "trusted": true,
        "id": "-LLMO-T7uWkk"
      }
    },
    {
      "cell_type": "code",
      "source": [
        "# preprocess validation data\n",
        "x_val, y_val, sample_weight_val = gemma_lm.preprocessor(df_val[0:1])"
      ],
      "metadata": {
        "id": "9tKe7G9pp5FQ"
      },
      "execution_count": 19,
      "outputs": []
    },
    {
      "cell_type": "code",
      "source": [
        "# Display the shape of each processed output\n",
        "for k, v in x.items():\n",
        "    print(k, \":\", v.shape)"
      ],
      "metadata": {
        "_uuid": "e4afa4da-2d19-405c-9056-0644d50ca7f8",
        "_cell_guid": "d16afc43-7dc2-4aaa-a6f5-9d8017600fd3",
        "execution": {
          "iopub.status.busy": "2024-10-19T03:39:57.457108Z",
          "iopub.execute_input": "2024-10-19T03:39:57.457782Z",
          "iopub.status.idle": "2024-10-19T03:39:57.462888Z",
          "shell.execute_reply.started": "2024-10-19T03:39:57.45775Z",
          "shell.execute_reply": "2024-10-19T03:39:57.461899Z"
        },
        "jupyter": {
          "outputs_hidden": false
        },
        "trusted": true,
        "id": "Z4xCMmpzuWkk",
        "colab": {
          "base_uri": "https://localhost:8080/"
        },
        "outputId": "e29007b8-d606-440c-ae54-6c72ece73ede"
      },
      "execution_count": 20,
      "outputs": [
        {
          "output_type": "stream",
          "name": "stdout",
          "text": [
            "token_ids : (1, 1024)\n",
            "padding_mask : (1, 1024)\n"
          ]
        }
      ]
    },
    {
      "cell_type": "markdown",
      "source": [
        "# Inference before fine tuning\n",
        "\n",
        "Let's ask the Gemma model some sample questions using our prepared prompt and see how it responds.\n",
        "\n",
        "> As this model is not tuned for instruction yet, you will notice that the model is creating more question-answer pairs instead of answering the question that was asked."
      ],
      "metadata": {
        "_uuid": "d3f04ff6-0ce3-4429-ba43-f8d878de65f1",
        "_cell_guid": "2fb5b928-96ad-4228-83bd-c0555a3364fb",
        "trusted": true,
        "id": "jy0rIKUZuWkk"
      }
    },
    {
      "cell_type": "markdown",
      "source": [
        "## Sample 1"
      ],
      "metadata": {
        "_uuid": "f0cf37d7-f111-4e5c-ae8c-002168001b51",
        "_cell_guid": "5bae0e6a-3c60-4a2c-b334-59a62b702236",
        "trusted": true,
        "id": "rcznD_Z_uWkk"
      }
    },
    {
      "cell_type": "code",
      "source": [
        "# Take one sample\n",
        "row = df.iloc[2]\n",
        "\n",
        "# Generate Prompt using template\n",
        "prompt = template.format(\n",
        "   # Category=row.Category,\n",
        "    Question=row.question,\n",
        "    Answer=\"\"\n",
        ")\n",
        "\n",
        "# Infer\n",
        "output = gemma_lm.generate(prompt, max_length=256)\n",
        "\n",
        "# Colorize\n",
        "output = colorize_text(output)\n",
        "\n",
        "# Display in markdown\n",
        "display(Markdown(output))"
      ],
      "metadata": {
        "_uuid": "36cf70c4-380e-435c-830c-ac7370e844d4",
        "_cell_guid": "81f61273-d52d-458e-ba45-fd3c9d9383e5",
        "_kg_hide-input": true,
        "execution": {
          "iopub.status.busy": "2024-10-19T03:40:40.781081Z",
          "iopub.execute_input": "2024-10-19T03:40:40.781432Z",
          "iopub.status.idle": "2024-10-19T03:40:58.541451Z",
          "shell.execute_reply.started": "2024-10-19T03:40:40.781397Z",
          "shell.execute_reply": "2024-10-19T03:40:58.54047Z"
        },
        "jupyter": {
          "outputs_hidden": false
        },
        "trusted": true,
        "id": "klkYq7IRuWkk",
        "colab": {
          "base_uri": "https://localhost:8080/",
          "height": 492
        },
        "outputId": "af88848e-73ad-4357-d2da-b4f57004ed6b"
      },
      "execution_count": 21,
      "outputs": [
        {
          "output_type": "display_data",
          "data": {
            "text/plain": [
              "<IPython.core.display.Markdown object>"
            ],
            "text/markdown": "\n\n**<font color='red'>Question:</font>**\nUser-What information is typically included in a certificate of insurance template?\n\n**<font color='green'>Answer:</font>**\nThe certificate of insurance template should include the following information:\n\n* The name of the insurance company\n* The policy number\n* The policy expiration date\n* The policy limits\n* The name of the insured\n* The name of the insured’s agent\n* The name of the insured’s broker\n* The name of the insured’s attorney\n* The name of the insured’s accountant\n* The name of the insured’s auditor\n* The name of the insured’s bank\n* The name of the insured’s broker\n* The name of the insured’s broker\n* The name of the insured’s broker\n* The name of the insured’s broker\n* The name of the insured’s broker\n* The name of the insured’s broker\n* The name of the insured’s broker\n* The name of the insured’s broker\n* The name of the insured’s broker\n* The name of the insured’s broker\n* The name of the insured’s broker\n* The name of the insured’s broker\n* The name of the insured’s broker\n"
          },
          "metadata": {}
        }
      ]
    },
    {
      "cell_type": "markdown",
      "source": [],
      "metadata": {
        "id": "IR3LWNywh1l1"
      }
    },
    {
      "cell_type": "markdown",
      "source": [
        "## Sample 2"
      ],
      "metadata": {
        "_uuid": "b69e1a76-bfb5-46d2-9fc9-07931b66e93f",
        "_cell_guid": "f48b44a2-0844-4af9-a211-7324f4b97a5e",
        "trusted": true,
        "id": "2dhjN9uSuWkk"
      }
    },
    {
      "cell_type": "code",
      "source": [
        "# Take one sample\n",
        "row = df.iloc[45]\n",
        "\n",
        "# Generate Prompt using template\n",
        "prompt = template.format(\n",
        "   # Category=row.Category,\n",
        "    Question=row.question,\n",
        "    Answer=\"\"\n",
        ")\n",
        "\n",
        "# Infer\n",
        "output = gemma_lm.generate(prompt, max_length=256)\n",
        "\n",
        "# Colorize\n",
        "output = colorize_text(output)\n",
        "\n",
        "# Display in markdown\n",
        "display(Markdown(output))  # This response does not add up"
      ],
      "metadata": {
        "_uuid": "1d25ce8f-a414-46bb-bf90-6a80d807718a",
        "_cell_guid": "f24082bb-6b5a-4392-b8f7-baeb49b60d04",
        "_kg_hide-input": true,
        "execution": {
          "iopub.status.busy": "2024-10-19T03:41:38.465986Z",
          "iopub.execute_input": "2024-10-19T03:41:38.466634Z",
          "iopub.status.idle": "2024-10-19T03:41:44.225682Z",
          "shell.execute_reply.started": "2024-10-19T03:41:38.466601Z",
          "shell.execute_reply": "2024-10-19T03:41:44.224696Z"
        },
        "jupyter": {
          "outputs_hidden": false
        },
        "trusted": true,
        "id": "t06Plv7nuWkk",
        "colab": {
          "base_uri": "https://localhost:8080/",
          "height": 174
        },
        "outputId": "f5b77d5c-6d54-4de1-aa33-cdba438ee834"
      },
      "execution_count": 22,
      "outputs": [
        {
          "output_type": "display_data",
          "data": {
            "text/plain": [
              "<IPython.core.display.Markdown object>"
            ],
            "text/markdown": "\n\n**<font color='red'>Question:</font>**\nUser-What role does the exchange rate play in trading models integrating macroeconomic indicators?\n\n**<font color='green'>Answer:</font>**\nThe exchange rate is a key determinant of the value of a country’s exports and imports. It is also a key determinant of the value of a country’s currency. The exchange rate is determined by the supply and demand for a country’s currency. The supply of a country’s currency is determined by the amount of foreign currency that is available to be exchanged for a country’s currency. The demand for a country’s currency is determined by the amount of foreign currency that is available to be exchanged for a country’s currency. The exchange rate is determined by the supply and demand for a country’s currency. The exchange rate is determined by the supply and demand for a country’s currency. The exchange rate is determined by the supply and demand for a country’s currency. The exchange rate is determined by the supply and demand for a country’s currency. The exchange rate is determined by the supply and demand for a country’s currency. The exchange rate is determined by the supply and demand for a country’s currency. The exchange rate is determined by the supply and demand for a country’s currency. The exchange"
          },
          "metadata": {}
        }
      ]
    },
    {
      "cell_type": "markdown",
      "source": [
        "# Bleu and rouge scores before fine tuning"
      ],
      "metadata": {
        "id": "JlCNFxWw55gX"
      }
    },
    {
      "cell_type": "code",
      "source": [
        "# prompt: ## find bleu and rouge scores of the output\n",
        "\n",
        "!pip install rouge_score\n",
        "!pip install sacrebleu\n",
        "\n"
      ],
      "metadata": {
        "colab": {
          "base_uri": "https://localhost:8080/"
        },
        "id": "09UfA_5H62jJ",
        "outputId": "b250b797-03a7-4a2c-d9fc-3ee08a432eea"
      },
      "execution_count": 23,
      "outputs": [
        {
          "output_type": "stream",
          "name": "stdout",
          "text": [
            "Collecting rouge_score\n",
            "  Downloading rouge_score-0.1.2.tar.gz (17 kB)\n",
            "  Preparing metadata (setup.py) ... \u001b[?25l\u001b[?25hdone\n",
            "Requirement already satisfied: absl-py in /usr/local/lib/python3.10/dist-packages (from rouge_score) (1.4.0)\n",
            "Requirement already satisfied: nltk in /usr/local/lib/python3.10/dist-packages (from rouge_score) (3.9.1)\n",
            "Requirement already satisfied: numpy in /usr/local/lib/python3.10/dist-packages (from rouge_score) (1.26.4)\n",
            "Requirement already satisfied: six>=1.14.0 in /usr/local/lib/python3.10/dist-packages (from rouge_score) (1.16.0)\n",
            "Requirement already satisfied: click in /usr/local/lib/python3.10/dist-packages (from nltk->rouge_score) (8.1.7)\n",
            "Requirement already satisfied: joblib in /usr/local/lib/python3.10/dist-packages (from nltk->rouge_score) (1.4.2)\n",
            "Requirement already satisfied: regex>=2021.8.3 in /usr/local/lib/python3.10/dist-packages (from nltk->rouge_score) (2024.9.11)\n",
            "Requirement already satisfied: tqdm in /usr/local/lib/python3.10/dist-packages (from nltk->rouge_score) (4.66.6)\n",
            "Building wheels for collected packages: rouge_score\n",
            "  Building wheel for rouge_score (setup.py) ... \u001b[?25l\u001b[?25hdone\n",
            "  Created wheel for rouge_score: filename=rouge_score-0.1.2-py3-none-any.whl size=24935 sha256=5b7289fb99ba0cf53a5e17712e744ef6ac2332a1e4d8b12be40665f7132e5aa9\n",
            "  Stored in directory: /root/.cache/pip/wheels/5f/dd/89/461065a73be61a532ff8599a28e9beef17985c9e9c31e541b4\n",
            "Successfully built rouge_score\n",
            "Installing collected packages: rouge_score\n",
            "Successfully installed rouge_score-0.1.2\n",
            "Collecting sacrebleu\n",
            "  Downloading sacrebleu-2.4.3-py3-none-any.whl.metadata (51 kB)\n",
            "\u001b[2K     \u001b[90m━━━━━━━━━━━━━━━━━━━━━━━━━━━━━━━━━━━━━━━━\u001b[0m \u001b[32m51.8/51.8 kB\u001b[0m \u001b[31m1.9 MB/s\u001b[0m eta \u001b[36m0:00:00\u001b[0m\n",
            "\u001b[?25hCollecting portalocker (from sacrebleu)\n",
            "  Downloading portalocker-3.0.0-py3-none-any.whl.metadata (8.5 kB)\n",
            "Requirement already satisfied: regex in /usr/local/lib/python3.10/dist-packages (from sacrebleu) (2024.9.11)\n",
            "Requirement already satisfied: tabulate>=0.8.9 in /usr/local/lib/python3.10/dist-packages (from sacrebleu) (0.9.0)\n",
            "Requirement already satisfied: numpy>=1.17 in /usr/local/lib/python3.10/dist-packages (from sacrebleu) (1.26.4)\n",
            "Collecting colorama (from sacrebleu)\n",
            "  Downloading colorama-0.4.6-py2.py3-none-any.whl.metadata (17 kB)\n",
            "Requirement already satisfied: lxml in /usr/local/lib/python3.10/dist-packages (from sacrebleu) (5.3.0)\n",
            "Downloading sacrebleu-2.4.3-py3-none-any.whl (103 kB)\n",
            "\u001b[2K   \u001b[90m━━━━━━━━━━━━━━━━━━━━━━━━━━━━━━━━━━━━━━━━\u001b[0m \u001b[32m104.0/104.0 kB\u001b[0m \u001b[31m4.5 MB/s\u001b[0m eta \u001b[36m0:00:00\u001b[0m\n",
            "\u001b[?25hDownloading colorama-0.4.6-py2.py3-none-any.whl (25 kB)\n",
            "Downloading portalocker-3.0.0-py3-none-any.whl (19 kB)\n",
            "Installing collected packages: portalocker, colorama, sacrebleu\n",
            "Successfully installed colorama-0.4.6 portalocker-3.0.0 sacrebleu-2.4.3\n"
          ]
        }
      ]
    },
    {
      "cell_type": "code",
      "source": [
        "!pip install nltk"
      ],
      "metadata": {
        "id": "hPyH2lJZ-2le",
        "colab": {
          "base_uri": "https://localhost:8080/"
        },
        "outputId": "03314528-22b2-4602-ea4b-cf0bad4cce7f"
      },
      "execution_count": 24,
      "outputs": [
        {
          "output_type": "stream",
          "name": "stdout",
          "text": [
            "Requirement already satisfied: nltk in /usr/local/lib/python3.10/dist-packages (3.9.1)\n",
            "Requirement already satisfied: click in /usr/local/lib/python3.10/dist-packages (from nltk) (8.1.7)\n",
            "Requirement already satisfied: joblib in /usr/local/lib/python3.10/dist-packages (from nltk) (1.4.2)\n",
            "Requirement already satisfied: regex>=2021.8.3 in /usr/local/lib/python3.10/dist-packages (from nltk) (2024.9.11)\n",
            "Requirement already satisfied: tqdm in /usr/local/lib/python3.10/dist-packages (from nltk) (4.66.6)\n"
          ]
        }
      ]
    },
    {
      "cell_type": "code",
      "source": [
        "# sample1\n",
        "\n",
        "quest1= df.loc[2, 'question']\n",
        "ans1= df.loc[2, 'answer']\n",
        "\n",
        "mod_res1= gemma_lm.generate(quest1, max_length=256)\n",
        "#"
      ],
      "metadata": {
        "id": "3GImzDE8lQBT"
      },
      "execution_count": 25,
      "outputs": []
    },
    {
      "cell_type": "code",
      "source": [
        "# prompt: find rouge score and bleu score\n",
        "\n",
        "from rouge_score import rouge_scorer\n",
        "from sacrebleu.metrics import BLEU\n",
        "\n",
        "# Initialize scorers\n",
        "scorer = rouge_scorer.RougeScorer(['rouge1', 'rougeL'], use_stemmer=True)\n",
        "bleu = BLEU()\n",
        "\n",
        "# Sample 1\n",
        "quest1 = df.loc[2, 'question']\n",
        "ans1 = df.loc[2, 'answer']\n",
        "mod_res1 = gemma_lm.generate(quest1, max_length=256)\n",
        "\n",
        "# Calculate ROUGE scores\n",
        "scores1 = scorer.score(ans1, mod_res1)\n",
        "print(\"ROUGE scores for sample 1:\")\n",
        "print(scores1)\n",
        "\n",
        "# Calculate BLEU score\n",
        "bleu_score1 = bleu.sentence_score(mod_res1, [ans1])\n",
        "print(f\"\\nBLEU score for sample 1: {bleu_score1}\")\n",
        "\n",
        "# Sample 2 (similarly for other samples)\n",
        "quest2 = df.loc[45, 'question']\n",
        "ans2 = df.loc[45, 'answer']\n",
        "mod_res2 = gemma_lm.generate(quest2, max_length=256)\n",
        "\n",
        "# Calculate ROUGE scores\n",
        "scores2 = scorer.score(ans2,mod_res2)\n",
        "print(\"\\nROUGE scores for sample 2:\")\n",
        "print(scores2)\n",
        "\n",
        "# Calculate BLEU score\n",
        "bleu_score2 = bleu.sentence_score(mod_res2, [ans2])\n",
        "print(f\"\\nBLEU score for sample 2: {bleu_score2}\")"
      ],
      "metadata": {
        "colab": {
          "base_uri": "https://localhost:8080/"
        },
        "id": "U-1MwqrAoBNH",
        "outputId": "a08a472a-54fd-44b9-bce5-6860c07a7a43"
      },
      "execution_count": 26,
      "outputs": [
        {
          "output_type": "stream",
          "name": "stderr",
          "text": [
            "WARNING:sacrebleu:It is recommended to enable `effective_order` for sentence-level BLEU.\n"
          ]
        },
        {
          "output_type": "stream",
          "name": "stdout",
          "text": [
            "ROUGE scores for sample 1:\n",
            "{'rouge1': Score(precision=0.14678899082568808, recall=0.3404255319148936, fmeasure=0.20512820512820515), 'rougeL': Score(precision=0.11009174311926606, recall=0.2553191489361702, fmeasure=0.15384615384615385)}\n",
            "\n",
            "BLEU score for sample 1: BLEU = 1.71 8.7/2.3/0.9/0.5 (BP = 1.000 ratio = 4.192 hyp_len = 218 ref_len = 52)\n"
          ]
        },
        {
          "output_type": "stream",
          "name": "stderr",
          "text": [
            "WARNING:sacrebleu:It is recommended to enable `effective_order` for sentence-level BLEU.\n"
          ]
        },
        {
          "output_type": "stream",
          "name": "stdout",
          "text": [
            "\n",
            "ROUGE scores for sample 2:\n",
            "{'rouge1': Score(precision=0.05405405405405406, recall=0.3157894736842105, fmeasure=0.09230769230769233), 'rougeL': Score(precision=0.04504504504504504, recall=0.2631578947368421, fmeasure=0.07692307692307693)}\n",
            "\n",
            "BLEU score for sample 2: BLEU = 0.45 3.2/0.5/0.2/0.1 (BP = 1.000 ratio = 9.478 hyp_len = 218 ref_len = 23)\n"
          ]
        }
      ]
    },
    {
      "cell_type": "markdown",
      "source": [
        "# Fine-tuning with LoRA"
      ],
      "metadata": {
        "id": "Ct7ctt9VFNGC"
      }
    },
    {
      "cell_type": "code",
      "source": [
        "# Enable LoRA for the model and set the LoRA rank to 10.\n",
        "gemma_lm.backbone.enable_lora(rank=10)\n",
        "gemma_lm.summary()"
      ],
      "metadata": {
        "_uuid": "47ab731e-c85e-45fc-9359-c115673b5fbf",
        "_cell_guid": "964aed22-8faf-4563-b73a-70b8cd71f714",
        "execution": {
          "iopub.status.busy": "2024-10-02T19:31:12.519715Z",
          "iopub.execute_input": "2024-10-02T19:31:12.520515Z",
          "iopub.status.idle": "2024-10-02T19:31:12.989539Z",
          "shell.execute_reply.started": "2024-10-02T19:31:12.520485Z",
          "shell.execute_reply": "2024-10-02T19:31:12.988634Z"
        },
        "jupyter": {
          "outputs_hidden": false
        },
        "trusted": true,
        "id": "6yn-0YE9uWkk",
        "colab": {
          "base_uri": "https://localhost:8080/",
          "height": 400
        },
        "outputId": "d8b73678-828f-4566-bf6b-3c92d49ff4f5"
      },
      "execution_count": 27,
      "outputs": [
        {
          "output_type": "display_data",
          "data": {
            "text/plain": [
              "\u001b[1mPreprocessor: \"gemma_causal_lm_preprocessor\"\u001b[0m\n"
            ],
            "text/html": [
              "<pre style=\"white-space:pre;overflow-x:auto;line-height:normal;font-family:Menlo,'DejaVu Sans Mono',consolas,'Courier New',monospace\"><span style=\"font-weight: bold\">Preprocessor: \"gemma_causal_lm_preprocessor\"</span>\n",
              "</pre>\n"
            ]
          },
          "metadata": {}
        },
        {
          "output_type": "display_data",
          "data": {
            "text/plain": [
              "┏━━━━━━━━━━━━━━━━━━━━━━━━━━━━━━━━━━━━━━━━━━━━━━━━━━━━━━━━━━━━━━━┳━━━━━━━━━━━━━━━━━━━━━━━━━━━━━━━━━━━━━━━━━━┓\n",
              "┃\u001b[1m \u001b[0m\u001b[1mLayer (type)                                                 \u001b[0m\u001b[1m \u001b[0m┃\u001b[1m \u001b[0m\u001b[1m                                  Config\u001b[0m\u001b[1m \u001b[0m┃\n",
              "┡━━━━━━━━━━━━━━━━━━━━━━━━━━━━━━━━━━━━━━━━━━━━━━━━━━━━━━━━━━━━━━━╇━━━━━━━━━━━━━━━━━━━━━━━━━━━━━━━━━━━━━━━━━━┩\n",
              "│ gemma_tokenizer (\u001b[38;5;33mGemmaTokenizer\u001b[0m)                              │                      Vocab size: \u001b[38;5;34m256,000\u001b[0m │\n",
              "└───────────────────────────────────────────────────────────────┴──────────────────────────────────────────┘\n"
            ],
            "text/html": [
              "<pre style=\"white-space:pre;overflow-x:auto;line-height:normal;font-family:Menlo,'DejaVu Sans Mono',consolas,'Courier New',monospace\">┏━━━━━━━━━━━━━━━━━━━━━━━━━━━━━━━━━━━━━━━━━━━━━━━━━━━━━━━━━━━━━━━┳━━━━━━━━━━━━━━━━━━━━━━━━━━━━━━━━━━━━━━━━━━┓\n",
              "┃<span style=\"font-weight: bold\"> Layer (type)                                                  </span>┃<span style=\"font-weight: bold\">                                   Config </span>┃\n",
              "┡━━━━━━━━━━━━━━━━━━━━━━━━━━━━━━━━━━━━━━━━━━━━━━━━━━━━━━━━━━━━━━━╇━━━━━━━━━━━━━━━━━━━━━━━━━━━━━━━━━━━━━━━━━━┩\n",
              "│ gemma_tokenizer (<span style=\"color: #0087ff; text-decoration-color: #0087ff\">GemmaTokenizer</span>)                              │                      Vocab size: <span style=\"color: #00af00; text-decoration-color: #00af00\">256,000</span> │\n",
              "└───────────────────────────────────────────────────────────────┴──────────────────────────────────────────┘\n",
              "</pre>\n"
            ]
          },
          "metadata": {}
        },
        {
          "output_type": "display_data",
          "data": {
            "text/plain": [
              "\u001b[1mModel: \"gemma_causal_lm\"\u001b[0m\n"
            ],
            "text/html": [
              "<pre style=\"white-space:pre;overflow-x:auto;line-height:normal;font-family:Menlo,'DejaVu Sans Mono',consolas,'Courier New',monospace\"><span style=\"font-weight: bold\">Model: \"gemma_causal_lm\"</span>\n",
              "</pre>\n"
            ]
          },
          "metadata": {}
        },
        {
          "output_type": "display_data",
          "data": {
            "text/plain": [
              "┏━━━━━━━━━━━━━━━━━━━━━━━━━━━━━━━┳━━━━━━━━━━━━━━━━━━━━━━━━━━━┳━━━━━━━━━━━━━━━━━┳━━━━━━━━━━━━━━━━━━━━━━━━━━━━┓\n",
              "┃\u001b[1m \u001b[0m\u001b[1mLayer (type)                 \u001b[0m\u001b[1m \u001b[0m┃\u001b[1m \u001b[0m\u001b[1mOutput Shape             \u001b[0m\u001b[1m \u001b[0m┃\u001b[1m \u001b[0m\u001b[1m        Param #\u001b[0m\u001b[1m \u001b[0m┃\u001b[1m \u001b[0m\u001b[1mConnected to              \u001b[0m\u001b[1m \u001b[0m┃\n",
              "┡━━━━━━━━━━━━━━━━━━━━━━━━━━━━━━━╇━━━━━━━━━━━━━━━━━━━━━━━━━━━╇━━━━━━━━━━━━━━━━━╇━━━━━━━━━━━━━━━━━━━━━━━━━━━━┩\n",
              "│ padding_mask (\u001b[38;5;33mInputLayer\u001b[0m)     │ (\u001b[38;5;45mNone\u001b[0m, \u001b[38;5;45mNone\u001b[0m)              │               \u001b[38;5;34m0\u001b[0m │ -                          │\n",
              "├───────────────────────────────┼───────────────────────────┼─────────────────┼────────────────────────────┤\n",
              "│ token_ids (\u001b[38;5;33mInputLayer\u001b[0m)        │ (\u001b[38;5;45mNone\u001b[0m, \u001b[38;5;45mNone\u001b[0m)              │               \u001b[38;5;34m0\u001b[0m │ -                          │\n",
              "├───────────────────────────────┼───────────────────────────┼─────────────────┼────────────────────────────┤\n",
              "│ gemma_backbone                │ (\u001b[38;5;45mNone\u001b[0m, \u001b[38;5;45mNone\u001b[0m, \u001b[38;5;34m2048\u001b[0m)        │   \u001b[38;5;34m2,509,582,336\u001b[0m │ padding_mask[\u001b[38;5;34m0\u001b[0m][\u001b[38;5;34m0\u001b[0m],        │\n",
              "│ (\u001b[38;5;33mGemmaBackbone\u001b[0m)               │                           │                 │ token_ids[\u001b[38;5;34m0\u001b[0m][\u001b[38;5;34m0\u001b[0m]            │\n",
              "├───────────────────────────────┼───────────────────────────┼─────────────────┼────────────────────────────┤\n",
              "│ token_embedding               │ (\u001b[38;5;45mNone\u001b[0m, \u001b[38;5;45mNone\u001b[0m, \u001b[38;5;34m256000\u001b[0m)      │     \u001b[38;5;34m524,288,000\u001b[0m │ gemma_backbone[\u001b[38;5;34m0\u001b[0m][\u001b[38;5;34m0\u001b[0m]       │\n",
              "│ (\u001b[38;5;33mReversibleEmbedding\u001b[0m)         │                           │                 │                            │\n",
              "└───────────────────────────────┴───────────────────────────┴─────────────────┴────────────────────────────┘\n"
            ],
            "text/html": [
              "<pre style=\"white-space:pre;overflow-x:auto;line-height:normal;font-family:Menlo,'DejaVu Sans Mono',consolas,'Courier New',monospace\">┏━━━━━━━━━━━━━━━━━━━━━━━━━━━━━━━┳━━━━━━━━━━━━━━━━━━━━━━━━━━━┳━━━━━━━━━━━━━━━━━┳━━━━━━━━━━━━━━━━━━━━━━━━━━━━┓\n",
              "┃<span style=\"font-weight: bold\"> Layer (type)                  </span>┃<span style=\"font-weight: bold\"> Output Shape              </span>┃<span style=\"font-weight: bold\">         Param # </span>┃<span style=\"font-weight: bold\"> Connected to               </span>┃\n",
              "┡━━━━━━━━━━━━━━━━━━━━━━━━━━━━━━━╇━━━━━━━━━━━━━━━━━━━━━━━━━━━╇━━━━━━━━━━━━━━━━━╇━━━━━━━━━━━━━━━━━━━━━━━━━━━━┩\n",
              "│ padding_mask (<span style=\"color: #0087ff; text-decoration-color: #0087ff\">InputLayer</span>)     │ (<span style=\"color: #00d7ff; text-decoration-color: #00d7ff\">None</span>, <span style=\"color: #00d7ff; text-decoration-color: #00d7ff\">None</span>)              │               <span style=\"color: #00af00; text-decoration-color: #00af00\">0</span> │ -                          │\n",
              "├───────────────────────────────┼───────────────────────────┼─────────────────┼────────────────────────────┤\n",
              "│ token_ids (<span style=\"color: #0087ff; text-decoration-color: #0087ff\">InputLayer</span>)        │ (<span style=\"color: #00d7ff; text-decoration-color: #00d7ff\">None</span>, <span style=\"color: #00d7ff; text-decoration-color: #00d7ff\">None</span>)              │               <span style=\"color: #00af00; text-decoration-color: #00af00\">0</span> │ -                          │\n",
              "├───────────────────────────────┼───────────────────────────┼─────────────────┼────────────────────────────┤\n",
              "│ gemma_backbone                │ (<span style=\"color: #00d7ff; text-decoration-color: #00d7ff\">None</span>, <span style=\"color: #00d7ff; text-decoration-color: #00d7ff\">None</span>, <span style=\"color: #00af00; text-decoration-color: #00af00\">2048</span>)        │   <span style=\"color: #00af00; text-decoration-color: #00af00\">2,509,582,336</span> │ padding_mask[<span style=\"color: #00af00; text-decoration-color: #00af00\">0</span>][<span style=\"color: #00af00; text-decoration-color: #00af00\">0</span>],        │\n",
              "│ (<span style=\"color: #0087ff; text-decoration-color: #0087ff\">GemmaBackbone</span>)               │                           │                 │ token_ids[<span style=\"color: #00af00; text-decoration-color: #00af00\">0</span>][<span style=\"color: #00af00; text-decoration-color: #00af00\">0</span>]            │\n",
              "├───────────────────────────────┼───────────────────────────┼─────────────────┼────────────────────────────┤\n",
              "│ token_embedding               │ (<span style=\"color: #00d7ff; text-decoration-color: #00d7ff\">None</span>, <span style=\"color: #00d7ff; text-decoration-color: #00d7ff\">None</span>, <span style=\"color: #00af00; text-decoration-color: #00af00\">256000</span>)      │     <span style=\"color: #00af00; text-decoration-color: #00af00\">524,288,000</span> │ gemma_backbone[<span style=\"color: #00af00; text-decoration-color: #00af00\">0</span>][<span style=\"color: #00af00; text-decoration-color: #00af00\">0</span>]       │\n",
              "│ (<span style=\"color: #0087ff; text-decoration-color: #0087ff\">ReversibleEmbedding</span>)         │                           │                 │                            │\n",
              "└───────────────────────────────┴───────────────────────────┴─────────────────┴────────────────────────────┘\n",
              "</pre>\n"
            ]
          },
          "metadata": {}
        },
        {
          "output_type": "display_data",
          "data": {
            "text/plain": [
              "\u001b[1m Total params: \u001b[0m\u001b[38;5;34m2,509,582,336\u001b[0m (9.35 GB)\n"
            ],
            "text/html": [
              "<pre style=\"white-space:pre;overflow-x:auto;line-height:normal;font-family:Menlo,'DejaVu Sans Mono',consolas,'Courier New',monospace\"><span style=\"font-weight: bold\"> Total params: </span><span style=\"color: #00af00; text-decoration-color: #00af00\">2,509,582,336</span> (9.35 GB)\n",
              "</pre>\n"
            ]
          },
          "metadata": {}
        },
        {
          "output_type": "display_data",
          "data": {
            "text/plain": [
              "\u001b[1m Trainable params: \u001b[0m\u001b[38;5;34m3,409,920\u001b[0m (13.01 MB)\n"
            ],
            "text/html": [
              "<pre style=\"white-space:pre;overflow-x:auto;line-height:normal;font-family:Menlo,'DejaVu Sans Mono',consolas,'Courier New',monospace\"><span style=\"font-weight: bold\"> Trainable params: </span><span style=\"color: #00af00; text-decoration-color: #00af00\">3,409,920</span> (13.01 MB)\n",
              "</pre>\n"
            ]
          },
          "metadata": {}
        },
        {
          "output_type": "display_data",
          "data": {
            "text/plain": [
              "\u001b[1m Non-trainable params: \u001b[0m\u001b[38;5;34m2,506,172,416\u001b[0m (9.34 GB)\n"
            ],
            "text/html": [
              "<pre style=\"white-space:pre;overflow-x:auto;line-height:normal;font-family:Menlo,'DejaVu Sans Mono',consolas,'Courier New',monospace\"><span style=\"font-weight: bold\"> Non-trainable params: </span><span style=\"color: #00af00; text-decoration-color: #00af00\">2,506,172,416</span> (9.34 GB)\n",
              "</pre>\n"
            ]
          },
          "metadata": {}
        }
      ]
    },
    {
      "cell_type": "markdown",
      "source": [
        "**Notice** that, the number of trainable parameters is reduced from ~$2.5$ billions to ~$3.4$ millions after enabling LoRA."
      ],
      "metadata": {
        "_uuid": "93d2832c-3c62-45d3-8f05-e178f84158ff",
        "_cell_guid": "88e47f10-f32b-49f7-8701-7dfc2122d8b0",
        "trusted": true,
        "id": "lrgrvKKguWkk"
      }
    },
    {
      "cell_type": "markdown",
      "source": [
        "## Training"
      ],
      "metadata": {
        "_uuid": "af37431a-1ec3-4384-927c-953702276498",
        "_cell_guid": "1e6e99ed-4dca-40fa-81f9-7a4f16c49ef4",
        "trusted": true,
        "id": "OkLuLYw6uWkl"
      }
    },
    {
      "cell_type": "code",
      "source": [
        "\n",
        "# Limit the input sequence length to 512 (to control memory usage).\n",
        "gemma_lm.preprocessor.sequence_length = CFG.sequence_length\n",
        "\n",
        "import tensorflow as tf\n",
        "\n",
        "# Set up a learning rate schedule with a warm-up phase\n",
        "initial_learning_rate = 8e-5\n",
        "lr_schedule = tf.keras.optimizers.schedules.CosineDecayRestarts(\n",
        "    initial_learning_rate=initial_learning_rate,\n",
        "    first_decay_steps=1000,\n",
        "    t_mul=2.0,\n",
        "    m_mul=0.9,\n",
        "    alpha=1e-6\n",
        ")\n",
        "\n",
        "\n",
        "# Compile the model with loss, optimizer, and metric\n",
        "gemma_lm.compile(\n",
        "    loss=keras.losses.SparseCategoricalCrossentropy(from_logits=True),\n",
        "    optimizer=keras.optimizers.Adam(learning_rate=lr_schedule),\n",
        "    weighted_metrics=[keras.metrics.SparseCategoricalAccuracy()],\n",
        ")\n"
      ],
      "metadata": {
        "_uuid": "549e81a8-32ec-4e93-b400-54cc762a9eb8",
        "_cell_guid": "2c010caa-ae4b-4e3d-b80a-08eb3da346f9",
        "execution": {
          "iopub.status.busy": "2024-10-19T03:56:36.85042Z",
          "iopub.execute_input": "2024-10-19T03:56:36.851106Z",
          "iopub.status.idle": "2024-10-19T03:56:51.532308Z",
          "shell.execute_reply.started": "2024-10-19T03:56:36.851073Z",
          "shell.execute_reply": "2024-10-19T03:56:51.530781Z"
        },
        "jupyter": {
          "outputs_hidden": false
        },
        "trusted": true,
        "id": "FXciezWVuWko"
      },
      "execution_count": 28,
      "outputs": []
    },
    {
      "cell_type": "code",
      "source": [
        "import random\n",
        "\n",
        "# Sample size\n",
        "sample_size = 50\n",
        "\n",
        "# Training loop\n",
        "for epoch in range(CFG.epochs):\n",
        "    # Sample 50 random entries from the list\n",
        "    sampled_data = random.sample(data, sample_size)\n",
        "\n",
        "    print(f\"Epoch {epoch + 1}: Training on {sample_size} samples\")\n",
        "\n",
        "    # Train the model using the sampled data\n",
        "    gemma_lm.fit(\n",
        "        sampled_data,\n",
        "        #steps_per_epoch=steps_per_epoch,\n",
        "        epochs= 1,  # Train for one epoch on the sampled data\n",
        "        batch_size=CFG.batch_size,\n",
        "        # validation_data=df_val,\n",
        "        # validation_split=0.2,  # Use 20% of the data for validation\n",
        "        # callbacks=[checkpoint]\n",
        "    )\n"
      ],
      "metadata": {
        "colab": {
          "base_uri": "https://localhost:8080/"
        },
        "id": "13Q9zZQW0dTe",
        "outputId": "cea1f131-3220-4b24-8c42-ae57ab2d8e99"
      },
      "execution_count": 29,
      "outputs": [
        {
          "output_type": "stream",
          "name": "stdout",
          "text": [
            "Epoch 1: Training on 50 samples\n",
            "\u001b[1m50/50\u001b[0m \u001b[32m━━━━━━━━━━━━━━━━━━━━\u001b[0m\u001b[37m\u001b[0m \u001b[1m114s\u001b[0m 2s/step - loss: 0.4226 - sparse_categorical_accuracy: 0.4690\n",
            "Epoch 2: Training on 50 samples\n",
            "\u001b[1m50/50\u001b[0m \u001b[32m━━━━━━━━━━━━━━━━━━━━\u001b[0m\u001b[37m\u001b[0m \u001b[1m84s\u001b[0m 1s/step - loss: 0.3982 - sparse_categorical_accuracy: 0.5441\n",
            "Epoch 3: Training on 50 samples\n",
            "\u001b[1m50/50\u001b[0m \u001b[32m━━━━━━━━━━━━━━━━━━━━\u001b[0m\u001b[37m\u001b[0m \u001b[1m68s\u001b[0m 1s/step - loss: 0.2516 - sparse_categorical_accuracy: 0.5758\n",
            "Epoch 4: Training on 50 samples\n",
            "\u001b[1m50/50\u001b[0m \u001b[32m━━━━━━━━━━━━━━━━━━━━\u001b[0m\u001b[37m\u001b[0m \u001b[1m68s\u001b[0m 1s/step - loss: 0.2470 - sparse_categorical_accuracy: 0.6048\n",
            "Epoch 5: Training on 50 samples\n",
            "\u001b[1m50/50\u001b[0m \u001b[32m━━━━━━━━━━━━━━━━━━━━\u001b[0m\u001b[37m\u001b[0m \u001b[1m83s\u001b[0m 2s/step - loss: 0.3663 - sparse_categorical_accuracy: 0.5718\n",
            "Epoch 6: Training on 50 samples\n",
            "\u001b[1m50/50\u001b[0m \u001b[32m━━━━━━━━━━━━━━━━━━━━\u001b[0m\u001b[37m\u001b[0m \u001b[1m69s\u001b[0m 1s/step - loss: 0.2604 - sparse_categorical_accuracy: 0.6092\n",
            "Epoch 7: Training on 50 samples\n",
            "\u001b[1m50/50\u001b[0m \u001b[32m━━━━━━━━━━━━━━━━━━━━\u001b[0m\u001b[37m\u001b[0m \u001b[1m68s\u001b[0m 1s/step - loss: 0.3232 - sparse_categorical_accuracy: 0.5668\n",
            "Epoch 8: Training on 50 samples\n",
            "\u001b[1m50/50\u001b[0m \u001b[32m━━━━━━━━━━━━━━━━━━━━\u001b[0m\u001b[37m\u001b[0m \u001b[1m83s\u001b[0m 2s/step - loss: 0.4006 - sparse_categorical_accuracy: 0.5591\n",
            "Epoch 9: Training on 50 samples\n",
            "\u001b[1m50/50\u001b[0m \u001b[32m━━━━━━━━━━━━━━━━━━━━\u001b[0m\u001b[37m\u001b[0m \u001b[1m69s\u001b[0m 1s/step - loss: 0.3031 - sparse_categorical_accuracy: 0.5848\n",
            "Epoch 10: Training on 50 samples\n",
            "\u001b[1m50/50\u001b[0m \u001b[32m━━━━━━━━━━━━━━━━━━━━\u001b[0m\u001b[37m\u001b[0m \u001b[1m68s\u001b[0m 1s/step - loss: 0.1823 - sparse_categorical_accuracy: 0.6352\n",
            "Epoch 11: Training on 50 samples\n",
            "\u001b[1m50/50\u001b[0m \u001b[32m━━━━━━━━━━━━━━━━━━━━\u001b[0m\u001b[37m\u001b[0m \u001b[1m83s\u001b[0m 2s/step - loss: 0.2778 - sparse_categorical_accuracy: 0.6161\n",
            "Epoch 12: Training on 50 samples\n",
            "\u001b[1m50/50\u001b[0m \u001b[32m━━━━━━━━━━━━━━━━━━━━\u001b[0m\u001b[37m\u001b[0m \u001b[1m69s\u001b[0m 1s/step - loss: 0.2647 - sparse_categorical_accuracy: 0.6141\n",
            "Epoch 13: Training on 50 samples\n",
            "\u001b[1m50/50\u001b[0m \u001b[32m━━━━━━━━━━━━━━━━━━━━\u001b[0m\u001b[37m\u001b[0m \u001b[1m83s\u001b[0m 2s/step - loss: 0.2318 - sparse_categorical_accuracy: 0.6274\n",
            "Epoch 14: Training on 50 samples\n",
            "\u001b[1m50/50\u001b[0m \u001b[32m━━━━━━━━━━━━━━━━━━━━\u001b[0m\u001b[37m\u001b[0m \u001b[1m69s\u001b[0m 1s/step - loss: 0.3228 - sparse_categorical_accuracy: 0.6063\n",
            "Epoch 15: Training on 50 samples\n",
            "\u001b[1m50/50\u001b[0m \u001b[32m━━━━━━━━━━━━━━━━━━━━\u001b[0m\u001b[37m\u001b[0m \u001b[1m68s\u001b[0m 1s/step - loss: 0.2097 - sparse_categorical_accuracy: 0.6488\n",
            "Epoch 16: Training on 50 samples\n",
            "\u001b[1m50/50\u001b[0m \u001b[32m━━━━━━━━━━━━━━━━━━━━\u001b[0m\u001b[37m\u001b[0m \u001b[1m83s\u001b[0m 2s/step - loss: 0.4285 - sparse_categorical_accuracy: 0.5872\n",
            "Epoch 17: Training on 50 samples\n",
            "\u001b[1m50/50\u001b[0m \u001b[32m━━━━━━━━━━━━━━━━━━━━\u001b[0m\u001b[37m\u001b[0m \u001b[1m83s\u001b[0m 2s/step - loss: 0.2590 - sparse_categorical_accuracy: 0.6327\n",
            "Epoch 18: Training on 50 samples\n",
            "\u001b[1m50/50\u001b[0m \u001b[32m━━━━━━━━━━━━━━━━━━━━\u001b[0m\u001b[37m\u001b[0m \u001b[1m83s\u001b[0m 2s/step - loss: 0.2010 - sparse_categorical_accuracy: 0.6358\n",
            "Epoch 19: Training on 50 samples\n",
            "\u001b[1m50/50\u001b[0m \u001b[32m━━━━━━━━━━━━━━━━━━━━\u001b[0m\u001b[37m\u001b[0m \u001b[1m83s\u001b[0m 2s/step - loss: 0.2495 - sparse_categorical_accuracy: 0.6082\n",
            "Epoch 20: Training on 50 samples\n",
            "\u001b[1m50/50\u001b[0m \u001b[32m━━━━━━━━━━━━━━━━━━━━\u001b[0m\u001b[37m\u001b[0m \u001b[1m69s\u001b[0m 1s/step - loss: 0.2576 - sparse_categorical_accuracy: 0.6322\n",
            "Epoch 21: Training on 50 samples\n",
            "\u001b[1m50/50\u001b[0m \u001b[32m━━━━━━━━━━━━━━━━━━━━\u001b[0m\u001b[37m\u001b[0m \u001b[1m68s\u001b[0m 1s/step - loss: 0.2739 - sparse_categorical_accuracy: 0.6013\n",
            "Epoch 22: Training on 50 samples\n",
            "\u001b[1m50/50\u001b[0m \u001b[32m━━━━━━━━━━━━━━━━━━━━\u001b[0m\u001b[37m\u001b[0m \u001b[1m68s\u001b[0m 1s/step - loss: 0.2172 - sparse_categorical_accuracy: 0.6475\n",
            "Epoch 23: Training on 50 samples\n",
            "\u001b[1m50/50\u001b[0m \u001b[32m━━━━━━━━━━━━━━━━━━━━\u001b[0m\u001b[37m\u001b[0m \u001b[1m69s\u001b[0m 1s/step - loss: 0.2911 - sparse_categorical_accuracy: 0.6302\n",
            "Epoch 24: Training on 50 samples\n",
            "\u001b[1m50/50\u001b[0m \u001b[32m━━━━━━━━━━━━━━━━━━━━\u001b[0m\u001b[37m\u001b[0m \u001b[1m68s\u001b[0m 1s/step - loss: 0.2375 - sparse_categorical_accuracy: 0.6452\n",
            "Epoch 25: Training on 50 samples\n",
            "\u001b[1m50/50\u001b[0m \u001b[32m━━━━━━━━━━━━━━━━━━━━\u001b[0m\u001b[37m\u001b[0m \u001b[1m69s\u001b[0m 1s/step - loss: 0.3075 - sparse_categorical_accuracy: 0.6202\n"
          ]
        }
      ]
    },
    {
      "cell_type": "markdown",
      "source": [
        "# Inference after fine-tuning\n",
        "\n",
        "Let's see how our fine-tuned model responds to the same questions we asked before fine-tuning the model."
      ],
      "metadata": {
        "_uuid": "ded12e8b-40e7-47a2-9a7a-ee1125d28607",
        "_cell_guid": "b6903a35-fe97-4c3e-ae7b-e501307b3181",
        "trusted": true,
        "id": "mjMXEMKUuWkp"
      }
    },
    {
      "cell_type": "markdown",
      "source": [
        "## Sample 1"
      ],
      "metadata": {
        "_uuid": "267ded29-6d48-4e03-b206-b2d2333775d4",
        "_cell_guid": "93b2e38a-c223-4470-829c-3d710903f1e1",
        "trusted": true,
        "id": "BuCcGgLOuWkp"
      }
    },
    {
      "cell_type": "code",
      "source": [
        "# Take one sample\n",
        "row = df.iloc[2]\n",
        "\n",
        "# Generate Prompt using template\n",
        "prompt = template.format(\n",
        "   # Category=row.Category,\n",
        "    Question=row.question,\n",
        "    Answer=\"\"\n",
        ")\n",
        "\n",
        "# Infer\n",
        "output = gemma_lm.generate(prompt, max_length=256)\n",
        "\n",
        "# Colorize\n",
        "output = colorize_text(output)\n",
        "\n",
        "# Display in markdown\n",
        "display(Markdown(output))"
      ],
      "metadata": {
        "_uuid": "4a321427-047a-49d3-8b00-a2b56d1edf5a",
        "_cell_guid": "43f9e4ce-8dc4-47f9-be01-fdedc30f7de7",
        "_kg_hide-input": true,
        "execution": {
          "iopub.status.busy": "2024-10-19T03:57:38.049887Z",
          "iopub.execute_input": "2024-10-19T03:57:38.050713Z",
          "iopub.status.idle": "2024-10-19T03:57:54.758619Z",
          "shell.execute_reply.started": "2024-10-19T03:57:38.050677Z",
          "shell.execute_reply": "2024-10-19T03:57:54.757731Z"
        },
        "jupyter": {
          "outputs_hidden": false
        },
        "trusted": true,
        "id": "c7FlMKJouWkp",
        "colab": {
          "base_uri": "https://localhost:8080/",
          "height": 104
        },
        "outputId": "395ef187-b654-47ef-ef56-ee30956e2f02"
      },
      "execution_count": 30,
      "outputs": [
        {
          "output_type": "display_data",
          "data": {
            "text/plain": [
              "<IPython.core.display.Markdown object>"
            ],
            "text/markdown": "\n\n**<font color='red'>Question:</font>**\nUser-What information is typically included in a certificate of insurance template?\n\n**<font color='green'>Answer:</font>**\nA certificate of insurance template typically includes the following information: - Policy number - Policyholder name and address - Policy expiration date - Policy limits and coverage details - Policyholder contact information - Policyholder signature and date - Insurer name and address - Insurer contact information - Policyholder signature and date"
          },
          "metadata": {}
        }
      ]
    },
    {
      "cell_type": "markdown",
      "source": [
        "## Sample 2"
      ],
      "metadata": {
        "_uuid": "a06ab0de-cb6e-460d-8371-2c0dbb8ee444",
        "_cell_guid": "0cce6cc0-6a12-41b0-a161-70667caaa0e6",
        "trusted": true,
        "id": "XZT2V6cCuWkp"
      }
    },
    {
      "cell_type": "code",
      "source": [
        "# Take one sample\n",
        "row = df.iloc[45]\n",
        "\n",
        "# Generate Prompt using template\n",
        "prompt = template.format(\n",
        "    #Category=row.Category,\n",
        "    Question=row.question,\n",
        "    Answer=\"\"\n",
        ")\n",
        "\n",
        "# Infer\n",
        "output = gemma_lm.generate(prompt, max_length=256)\n",
        "\n",
        "# Colorize\n",
        "output = colorize_text(output)\n",
        "\n",
        "# Display in markdown\n",
        "display(Markdown(output))"
      ],
      "metadata": {
        "_uuid": "39c73980-24df-43ab-8069-4adf35355acd",
        "_cell_guid": "ba5d6344-54e9-4aef-a240-6f4e7c0b363a",
        "_kg_hide-input": true,
        "execution": {
          "iopub.status.busy": "2024-09-23T15:53:29.377515Z",
          "iopub.execute_input": "2024-09-23T15:53:29.378393Z",
          "iopub.status.idle": "2024-09-23T15:53:35.710614Z",
          "shell.execute_reply.started": "2024-09-23T15:53:29.378357Z",
          "shell.execute_reply": "2024-09-23T15:53:35.709696Z"
        },
        "jupyter": {
          "outputs_hidden": false
        },
        "trusted": true,
        "id": "lQQ83hUcuWkp",
        "colab": {
          "base_uri": "https://localhost:8080/",
          "height": 87
        },
        "outputId": "d73ad136-e1e5-4198-9210-bb96dd844b64"
      },
      "execution_count": 31,
      "outputs": [
        {
          "output_type": "display_data",
          "data": {
            "text/plain": [
              "<IPython.core.display.Markdown object>"
            ],
            "text/markdown": "\n\n**<font color='red'>Question:</font>**\nUser-What role does the exchange rate play in trading models integrating macroeconomic indicators?\n\n**<font color='green'>Answer:</font>**\nThe exchange rate plays a crucial role in trading models integrating macroeconomic indicators. Changes in the value of a country's currency can impact the competitiveness of its exports, influencing the demand for its goods and services, and affecting the overall economic performance of the country."
          },
          "metadata": {}
        }
      ]
    },
    {
      "cell_type": "markdown",
      "source": [
        "## Unseen Sample\n",
        "\n",
        "Also just for fun, let's try out a question that model hasn't seen during training."
      ],
      "metadata": {
        "_uuid": "e01f3a93-d310-44c7-8458-d6578fb24eaa",
        "_cell_guid": "eed03582-51b4-48f5-a95e-1221b6150633",
        "trusted": true,
        "id": "41EWQrIluWkp"
      }
    },
    {
      "cell_type": "code",
      "source": [
        "# Generate Prompt using template\n",
        "prompt = template.format(\n",
        "    #Category=\"kaggle-notebook\",\n",
        "    Question=\"When is a good time to enter a trade\",\n",
        "    Answer=\"\"\n",
        ")\n",
        "\n",
        "# Infer\n",
        "output = gemma_lm.generate(prompt, max_length=256)\n",
        "\n",
        "# Colorize\n",
        "output = colorize_text(output)\n",
        "\n",
        "# Display in markdown\n",
        "display(Markdown(output))"
      ],
      "metadata": {
        "_uuid": "b9c4739c-c47c-4350-9e50-dbc3e99f1bdf",
        "_cell_guid": "95722b14-4727-47b0-af11-f4c639d05597",
        "_kg_hide-input": true,
        "execution": {
          "iopub.status.busy": "2024-09-23T15:53:53.074141Z",
          "iopub.execute_input": "2024-09-23T15:53:53.074892Z",
          "iopub.status.idle": "2024-09-23T15:53:59.409431Z",
          "shell.execute_reply.started": "2024-09-23T15:53:53.07486Z",
          "shell.execute_reply": "2024-09-23T15:53:59.408511Z"
        },
        "jupyter": {
          "outputs_hidden": false
        },
        "trusted": true,
        "id": "va6UqjB1uWkp",
        "colab": {
          "base_uri": "https://localhost:8080/",
          "height": 87
        },
        "outputId": "5a7f787a-bcd8-41f1-a2db-53de54fee132"
      },
      "execution_count": 32,
      "outputs": [
        {
          "output_type": "display_data",
          "data": {
            "text/plain": [
              "<IPython.core.display.Markdown object>"
            ],
            "text/markdown": "\n\n**<font color='red'>Question:</font>**\nUser-When is a good time to enter a trade\n\n**<font color='green'>Answer:</font>**\nA good time to enter a trade is when the market sentiment is bullish, momentum is building, and technical indicators suggest a potential uptrend. Entering a trade at the right time can help lock in profits or minimize losses during a market correction."
          },
          "metadata": {}
        }
      ]
    },
    {
      "cell_type": "markdown",
      "source": [
        "Scores after finetuning"
      ],
      "metadata": {
        "id": "I4E3dfNIoM1O"
      }
    },
    {
      "cell_type": "code",
      "source": [
        "# prompt: find rouge score and bleu score\n",
        "\n",
        "from rouge_score import rouge_scorer\n",
        "from sacrebleu.metrics import BLEU\n",
        "\n",
        "# Initialize scorers\n",
        "scorer = rouge_scorer.RougeScorer(['rouge1', 'rougeL'], use_stemmer=True)\n",
        "bleu = BLEU()\n",
        "\n",
        "# Sample 1\n",
        "quest1 = df.loc[2, 'question']\n",
        "ans1 = df.loc[2, 'answer']\n",
        "mod_res1 = gemma_lm.generate(quest1, max_length=256)\n",
        "\n",
        "# Calculate ROUGE scores\n",
        "scores1 = scorer.score(ans1, mod_res1)\n",
        "print(\"ROUGE scores for sample 1:\")\n",
        "print(scores1)\n",
        "\n",
        "# Calculate BLEU score\n",
        "bleu_score1 = bleu.sentence_score(mod_res1, [ans1])\n",
        "print(f\"\\nBLEU score for sample 1: {bleu_score1}\")\n",
        "\n",
        "# Sample 2 (similarly for other samples)\n",
        "quest2 = df.loc[45, 'question']\n",
        "ans2 = df.loc[45, 'answer']\n",
        "mod_res2 = gemma_lm.generate(quest2, max_length=256)\n",
        "\n",
        "# Calculate ROUGE scores\n",
        "scores2 = scorer.score(ans2,mod_res2)\n",
        "print(\"\\nROUGE scores for sample 2:\")\n",
        "print(scores2)\n",
        "\n",
        "# Calculate BLEU score\n",
        "bleu_score2 = bleu.sentence_score(mod_res2, [ans2])\n",
        "print(f\"\\nBLEU score for sample 2: {bleu_score2}\")"
      ],
      "metadata": {
        "colab": {
          "base_uri": "https://localhost:8080/"
        },
        "id": "cCiK78oen-pP",
        "outputId": "ba08e6cb-cf78-45aa-817e-781b5ae17fd1"
      },
      "execution_count": 36,
      "outputs": [
        {
          "output_type": "stream",
          "name": "stderr",
          "text": [
            "WARNING:sacrebleu:It is recommended to enable `effective_order` for sentence-level BLEU.\n"
          ]
        },
        {
          "output_type": "stream",
          "name": "stdout",
          "text": [
            "ROUGE scores for sample 1:\n",
            "{'rouge1': Score(precision=0.13559322033898305, recall=0.3404255319148936, fmeasure=0.19393939393939394), 'rougeL': Score(precision=0.11016949152542373, recall=0.2765957446808511, fmeasure=0.1575757575757576)}\n",
            "\n",
            "BLEU score for sample 1: BLEU = 2.25 12.4/2.1/1.4/0.7 (BP = 1.000 ratio = 2.788 hyp_len = 145 ref_len = 52)\n"
          ]
        },
        {
          "output_type": "stream",
          "name": "stderr",
          "text": [
            "WARNING:sacrebleu:It is recommended to enable `effective_order` for sentence-level BLEU.\n"
          ]
        },
        {
          "output_type": "stream",
          "name": "stdout",
          "text": [
            "\n",
            "ROUGE scores for sample 2:\n",
            "{'rouge1': Score(precision=0.029787234042553193, recall=0.3684210526315789, fmeasure=0.05511811023622048), 'rougeL': Score(precision=0.029787234042553193, recall=0.3684210526315789, fmeasure=0.05511811023622048)}\n",
            "\n",
            "BLEU score for sample 2: BLEU = 0.24 3.2/0.2/0.1/0.1 (BP = 1.000 ratio = 10.783 hyp_len = 248 ref_len = 23)\n"
          ]
        }
      ]
    },
    {
      "cell_type": "code",
      "source": [
        "# Save my model as a preset\n",
        "!mkdir STIbot_my_gemma2_pt # Create the directory\n",
        "gemma_lm.save_to_preset(f\"./Updated_STIbot_my_gemma2_pt\") # Save the model to the directory as a preset\n",
        "\n",
        "# Upload the model to Kaggle\n",
        "my_user_name = \"dedemartey\"\n",
        "my_model_name = \"Updated_STIbot_my_gemma2_pt\"\n",
        "kaggle_uri = f\"kaggle://{my_user_name}/gemma/keras/{my_model_name}\"\n",
        "keras_nlp.upload_preset(kaggle_uri, f\"./{my_model_name}\")"
      ],
      "metadata": {
        "id": "I0dQuP4j_tSY",
        "colab": {
          "base_uri": "https://localhost:8080/"
        },
        "outputId": "27b4596a-8259-4ae7-ad56-cab1f5ba06a4"
      },
      "execution_count": 37,
      "outputs": [
        {
          "output_type": "stream",
          "name": "stdout",
          "text": [
            "Uploading Model https://www.kaggle.com/models/dedemartey/gemma/keras/Updated_STIbot_my_gemma2_pt ...\n",
            "Starting upload for file ./Updated_STIbot_my_gemma2_pt/model.weights.h5\n"
          ]
        },
        {
          "output_type": "stream",
          "name": "stderr",
          "text": [
            "Uploading: 100%|██████████| 10.0G/10.0G [02:01<00:00, 82.8MB/s]"
          ]
        },
        {
          "output_type": "stream",
          "name": "stdout",
          "text": [
            "Upload successful: ./Updated_STIbot_my_gemma2_pt/model.weights.h5 (9GB)\n",
            "Starting upload for file ./Updated_STIbot_my_gemma2_pt/config.json\n"
          ]
        },
        {
          "output_type": "stream",
          "name": "stderr",
          "text": [
            "\n",
            "Uploading: 100%|██████████| 785/785 [00:00<00:00, 4.32kB/s]"
          ]
        },
        {
          "output_type": "stream",
          "name": "stdout",
          "text": [
            "Upload successful: ./Updated_STIbot_my_gemma2_pt/config.json (785B)\n",
            "Starting upload for file ./Updated_STIbot_my_gemma2_pt/metadata.json\n"
          ]
        },
        {
          "output_type": "stream",
          "name": "stderr",
          "text": [
            "\n",
            "Uploading: 100%|██████████| 143/143 [00:00<00:00, 802B/s]"
          ]
        },
        {
          "output_type": "stream",
          "name": "stdout",
          "text": [
            "Upload successful: ./Updated_STIbot_my_gemma2_pt/metadata.json (143B)\n",
            "Starting upload for file ./Updated_STIbot_my_gemma2_pt/preprocessor.json\n"
          ]
        },
        {
          "output_type": "stream",
          "name": "stderr",
          "text": [
            "\n",
            "Uploading: 100%|██████████| 1.41k/1.41k [00:00<00:00, 7.93kB/s]"
          ]
        },
        {
          "output_type": "stream",
          "name": "stdout",
          "text": [
            "Upload successful: ./Updated_STIbot_my_gemma2_pt/preprocessor.json (1KB)\n",
            "Starting upload for file ./Updated_STIbot_my_gemma2_pt/task.json\n"
          ]
        },
        {
          "output_type": "stream",
          "name": "stderr",
          "text": [
            "\n",
            "Uploading: 100%|██████████| 2.98k/2.98k [00:00<00:00, 16.3kB/s]"
          ]
        },
        {
          "output_type": "stream",
          "name": "stdout",
          "text": [
            "Upload successful: ./Updated_STIbot_my_gemma2_pt/task.json (3KB)\n",
            "Starting upload for file ./Updated_STIbot_my_gemma2_pt/tokenizer.json\n"
          ]
        },
        {
          "output_type": "stream",
          "name": "stderr",
          "text": [
            "\n",
            "Uploading: 100%|██████████| 591/591 [00:00<00:00, 3.30kB/s]"
          ]
        },
        {
          "output_type": "stream",
          "name": "stdout",
          "text": [
            "Upload successful: ./Updated_STIbot_my_gemma2_pt/tokenizer.json (591B)\n",
            "Starting upload for file ./Updated_STIbot_my_gemma2_pt/assets/tokenizer/vocabulary.spm\n"
          ]
        },
        {
          "output_type": "stream",
          "name": "stderr",
          "text": [
            "\n",
            "Uploading: 100%|██████████| 4.24M/4.24M [00:00<00:00, 17.6MB/s]"
          ]
        },
        {
          "output_type": "stream",
          "name": "stdout",
          "text": [
            "Upload successful: ./Updated_STIbot_my_gemma2_pt/assets/tokenizer/vocabulary.spm (4MB)\n"
          ]
        },
        {
          "output_type": "stream",
          "name": "stderr",
          "text": [
            "\n"
          ]
        },
        {
          "output_type": "stream",
          "name": "stdout",
          "text": [
            "Your model instance has been created.\n",
            "Files are being processed...\n",
            "See at: https://www.kaggle.com/models/dedemartey/gemma/keras/Updated_STIbot_my_gemma2_pt\n"
          ]
        }
      ]
    },
    {
      "cell_type": "code",
      "source": [
        "# Upload model to hugging face to\n",
        "my_user_name = \"Dede29\"\n",
        "my_model_name = \"STIbot_my_gemma2_pt\""
      ],
      "metadata": {
        "id": "J35oEhj0Mpyi"
      },
      "execution_count": 34,
      "outputs": []
    },
    {
      "cell_type": "code",
      "source": [],
      "metadata": {
        "id": "6wmJ8styCSxb"
      },
      "execution_count": 34,
      "outputs": []
    },
    {
      "cell_type": "code",
      "source": [],
      "metadata": {
        "id": "xqvhTc84BSxb"
      },
      "execution_count": 34,
      "outputs": []
    }
  ]
}