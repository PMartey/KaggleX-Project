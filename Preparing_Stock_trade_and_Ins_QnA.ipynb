{
  "nbformat": 4,
  "nbformat_minor": 0,
  "metadata": {
    "colab": {
      "provenance": [],
      "authorship_tag": "ABX9TyOgo3FLAPzxtro40mce57XS",
      "include_colab_link": true
    },
    "kernelspec": {
      "name": "python3",
      "display_name": "Python 3"
    },
    "language_info": {
      "name": "python"
    }
  },
  "cells": [
    {
      "cell_type": "markdown",
      "metadata": {
        "id": "view-in-github",
        "colab_type": "text"
      },
      "source": [
        "<a href=\"https://colab.research.google.com/github/PMartey/KaggleX-Project/blob/main/Preparing_Stock_trade_and_Ins_QnA.ipynb\" target=\"_parent\"><img src=\"https://colab.research.google.com/assets/colab-badge.svg\" alt=\"Open In Colab\"/></a>"
      ]
    },
    {
      "cell_type": "markdown",
      "source": [
        "Since the finance data set used in training the first gemma model\n",
        "  answered prompts like on the slack app this really isn't factually accurate.  \n",
        "  For instance the model couldnot explain what a checking account is, also so it couldn't differentiate between a checking and savings account.  \n",
        "  The fine tuned model also had a low rouge and bleu score"
      ],
      "metadata": {
        "id": "TIt9dtNg6cI6"
      }
    },
    {
      "cell_type": "markdown",
      "source": [
        "#Import Necessary libraries\n"
      ],
      "metadata": {
        "id": "Wvxr75s95g19"
      }
    },
    {
      "cell_type": "code",
      "source": [
        "import pandas as pd\n",
        "import numpy as np\n",
        "import matplotlib.pyplot as plt\n",
        "import seaborn as sns"
      ],
      "metadata": {
        "id": "tUOr6zfx5gW3"
      },
      "execution_count": null,
      "outputs": []
    },
    {
      "cell_type": "markdown",
      "source": [
        "## Prep Insuarance Dataset [Link to source](https://huggingface.co/datasets/sujra/insurance_llama2_145)"
      ],
      "metadata": {
        "id": "cKaCxQqF6WO8"
      }
    },
    {
      "cell_type": "code",
      "execution_count": null,
      "metadata": {
        "colab": {
          "base_uri": "https://localhost:8080/",
          "height": 330
        },
        "id": "LSKG3iwO5W8p",
        "outputId": "eb3561c7-1b2b-4405-e636-b847a5912ce7"
      },
      "outputs": [
        {
          "output_type": "stream",
          "name": "stderr",
          "text": [
            "/usr/local/lib/python3.10/dist-packages/huggingface_hub/utils/_token.py:89: UserWarning: \n",
            "The secret `HF_TOKEN` does not exist in your Colab secrets.\n",
            "To authenticate with the Hugging Face Hub, create a token in your settings tab (https://huggingface.co/settings/tokens), set it as secret in your Google Colab and restart your session.\n",
            "You will be able to reuse this secret in all of your notebooks.\n",
            "Please note that authentication is recommended but still optional to access public models or datasets.\n",
            "  warnings.warn(\n"
          ]
        },
        {
          "output_type": "execute_result",
          "data": {
            "text/plain": [
              "                                                text\n",
              "0  <s>[INST] Understanding fund performance, NAV ...\n",
              "1  <s>[INST] What are the different types of life...\n",
              "2  <s>[INST] Define an \"\"Organisation-wide Policy...\n",
              "3  <s>[INST] Give some information about what inf...\n",
              "4  <s>[INST] How does insurance underwriting work..."
            ],
            "text/html": [
              "\n",
              "  <div id=\"df-7fe24c20-4c94-46cd-a629-08003f15f324\" class=\"colab-df-container\">\n",
              "    <div>\n",
              "<style scoped>\n",
              "    .dataframe tbody tr th:only-of-type {\n",
              "        vertical-align: middle;\n",
              "    }\n",
              "\n",
              "    .dataframe tbody tr th {\n",
              "        vertical-align: top;\n",
              "    }\n",
              "\n",
              "    .dataframe thead th {\n",
              "        text-align: right;\n",
              "    }\n",
              "</style>\n",
              "<table border=\"1\" class=\"dataframe\">\n",
              "  <thead>\n",
              "    <tr style=\"text-align: right;\">\n",
              "      <th></th>\n",
              "      <th>text</th>\n",
              "    </tr>\n",
              "  </thead>\n",
              "  <tbody>\n",
              "    <tr>\n",
              "      <th>0</th>\n",
              "      <td>&lt;s&gt;[INST] Understanding fund performance, NAV ...</td>\n",
              "    </tr>\n",
              "    <tr>\n",
              "      <th>1</th>\n",
              "      <td>&lt;s&gt;[INST] What are the different types of life...</td>\n",
              "    </tr>\n",
              "    <tr>\n",
              "      <th>2</th>\n",
              "      <td>&lt;s&gt;[INST] Define an \"\"Organisation-wide Policy...</td>\n",
              "    </tr>\n",
              "    <tr>\n",
              "      <th>3</th>\n",
              "      <td>&lt;s&gt;[INST] Give some information about what inf...</td>\n",
              "    </tr>\n",
              "    <tr>\n",
              "      <th>4</th>\n",
              "      <td>&lt;s&gt;[INST] How does insurance underwriting work...</td>\n",
              "    </tr>\n",
              "  </tbody>\n",
              "</table>\n",
              "</div>\n",
              "    <div class=\"colab-df-buttons\">\n",
              "\n",
              "  <div class=\"colab-df-container\">\n",
              "    <button class=\"colab-df-convert\" onclick=\"convertToInteractive('df-7fe24c20-4c94-46cd-a629-08003f15f324')\"\n",
              "            title=\"Convert this dataframe to an interactive table.\"\n",
              "            style=\"display:none;\">\n",
              "\n",
              "  <svg xmlns=\"http://www.w3.org/2000/svg\" height=\"24px\" viewBox=\"0 -960 960 960\">\n",
              "    <path d=\"M120-120v-720h720v720H120Zm60-500h600v-160H180v160Zm220 220h160v-160H400v160Zm0 220h160v-160H400v160ZM180-400h160v-160H180v160Zm440 0h160v-160H620v160ZM180-180h160v-160H180v160Zm440 0h160v-160H620v160Z\"/>\n",
              "  </svg>\n",
              "    </button>\n",
              "\n",
              "  <style>\n",
              "    .colab-df-container {\n",
              "      display:flex;\n",
              "      gap: 12px;\n",
              "    }\n",
              "\n",
              "    .colab-df-convert {\n",
              "      background-color: #E8F0FE;\n",
              "      border: none;\n",
              "      border-radius: 50%;\n",
              "      cursor: pointer;\n",
              "      display: none;\n",
              "      fill: #1967D2;\n",
              "      height: 32px;\n",
              "      padding: 0 0 0 0;\n",
              "      width: 32px;\n",
              "    }\n",
              "\n",
              "    .colab-df-convert:hover {\n",
              "      background-color: #E2EBFA;\n",
              "      box-shadow: 0px 1px 2px rgba(60, 64, 67, 0.3), 0px 1px 3px 1px rgba(60, 64, 67, 0.15);\n",
              "      fill: #174EA6;\n",
              "    }\n",
              "\n",
              "    .colab-df-buttons div {\n",
              "      margin-bottom: 4px;\n",
              "    }\n",
              "\n",
              "    [theme=dark] .colab-df-convert {\n",
              "      background-color: #3B4455;\n",
              "      fill: #D2E3FC;\n",
              "    }\n",
              "\n",
              "    [theme=dark] .colab-df-convert:hover {\n",
              "      background-color: #434B5C;\n",
              "      box-shadow: 0px 1px 3px 1px rgba(0, 0, 0, 0.15);\n",
              "      filter: drop-shadow(0px 1px 2px rgba(0, 0, 0, 0.3));\n",
              "      fill: #FFFFFF;\n",
              "    }\n",
              "  </style>\n",
              "\n",
              "    <script>\n",
              "      const buttonEl =\n",
              "        document.querySelector('#df-7fe24c20-4c94-46cd-a629-08003f15f324 button.colab-df-convert');\n",
              "      buttonEl.style.display =\n",
              "        google.colab.kernel.accessAllowed ? 'block' : 'none';\n",
              "\n",
              "      async function convertToInteractive(key) {\n",
              "        const element = document.querySelector('#df-7fe24c20-4c94-46cd-a629-08003f15f324');\n",
              "        const dataTable =\n",
              "          await google.colab.kernel.invokeFunction('convertToInteractive',\n",
              "                                                    [key], {});\n",
              "        if (!dataTable) return;\n",
              "\n",
              "        const docLinkHtml = 'Like what you see? Visit the ' +\n",
              "          '<a target=\"_blank\" href=https://colab.research.google.com/notebooks/data_table.ipynb>data table notebook</a>'\n",
              "          + ' to learn more about interactive tables.';\n",
              "        element.innerHTML = '';\n",
              "        dataTable['output_type'] = 'display_data';\n",
              "        await google.colab.output.renderOutput(dataTable, element);\n",
              "        const docLink = document.createElement('div');\n",
              "        docLink.innerHTML = docLinkHtml;\n",
              "        element.appendChild(docLink);\n",
              "      }\n",
              "    </script>\n",
              "  </div>\n",
              "\n",
              "\n",
              "<div id=\"df-dd508d88-b3a5-4daa-af8e-68ae251ba36b\">\n",
              "  <button class=\"colab-df-quickchart\" onclick=\"quickchart('df-dd508d88-b3a5-4daa-af8e-68ae251ba36b')\"\n",
              "            title=\"Suggest charts\"\n",
              "            style=\"display:none;\">\n",
              "\n",
              "<svg xmlns=\"http://www.w3.org/2000/svg\" height=\"24px\"viewBox=\"0 0 24 24\"\n",
              "     width=\"24px\">\n",
              "    <g>\n",
              "        <path d=\"M19 3H5c-1.1 0-2 .9-2 2v14c0 1.1.9 2 2 2h14c1.1 0 2-.9 2-2V5c0-1.1-.9-2-2-2zM9 17H7v-7h2v7zm4 0h-2V7h2v10zm4 0h-2v-4h2v4z\"/>\n",
              "    </g>\n",
              "</svg>\n",
              "  </button>\n",
              "\n",
              "<style>\n",
              "  .colab-df-quickchart {\n",
              "      --bg-color: #E8F0FE;\n",
              "      --fill-color: #1967D2;\n",
              "      --hover-bg-color: #E2EBFA;\n",
              "      --hover-fill-color: #174EA6;\n",
              "      --disabled-fill-color: #AAA;\n",
              "      --disabled-bg-color: #DDD;\n",
              "  }\n",
              "\n",
              "  [theme=dark] .colab-df-quickchart {\n",
              "      --bg-color: #3B4455;\n",
              "      --fill-color: #D2E3FC;\n",
              "      --hover-bg-color: #434B5C;\n",
              "      --hover-fill-color: #FFFFFF;\n",
              "      --disabled-bg-color: #3B4455;\n",
              "      --disabled-fill-color: #666;\n",
              "  }\n",
              "\n",
              "  .colab-df-quickchart {\n",
              "    background-color: var(--bg-color);\n",
              "    border: none;\n",
              "    border-radius: 50%;\n",
              "    cursor: pointer;\n",
              "    display: none;\n",
              "    fill: var(--fill-color);\n",
              "    height: 32px;\n",
              "    padding: 0;\n",
              "    width: 32px;\n",
              "  }\n",
              "\n",
              "  .colab-df-quickchart:hover {\n",
              "    background-color: var(--hover-bg-color);\n",
              "    box-shadow: 0 1px 2px rgba(60, 64, 67, 0.3), 0 1px 3px 1px rgba(60, 64, 67, 0.15);\n",
              "    fill: var(--button-hover-fill-color);\n",
              "  }\n",
              "\n",
              "  .colab-df-quickchart-complete:disabled,\n",
              "  .colab-df-quickchart-complete:disabled:hover {\n",
              "    background-color: var(--disabled-bg-color);\n",
              "    fill: var(--disabled-fill-color);\n",
              "    box-shadow: none;\n",
              "  }\n",
              "\n",
              "  .colab-df-spinner {\n",
              "    border: 2px solid var(--fill-color);\n",
              "    border-color: transparent;\n",
              "    border-bottom-color: var(--fill-color);\n",
              "    animation:\n",
              "      spin 1s steps(1) infinite;\n",
              "  }\n",
              "\n",
              "  @keyframes spin {\n",
              "    0% {\n",
              "      border-color: transparent;\n",
              "      border-bottom-color: var(--fill-color);\n",
              "      border-left-color: var(--fill-color);\n",
              "    }\n",
              "    20% {\n",
              "      border-color: transparent;\n",
              "      border-left-color: var(--fill-color);\n",
              "      border-top-color: var(--fill-color);\n",
              "    }\n",
              "    30% {\n",
              "      border-color: transparent;\n",
              "      border-left-color: var(--fill-color);\n",
              "      border-top-color: var(--fill-color);\n",
              "      border-right-color: var(--fill-color);\n",
              "    }\n",
              "    40% {\n",
              "      border-color: transparent;\n",
              "      border-right-color: var(--fill-color);\n",
              "      border-top-color: var(--fill-color);\n",
              "    }\n",
              "    60% {\n",
              "      border-color: transparent;\n",
              "      border-right-color: var(--fill-color);\n",
              "    }\n",
              "    80% {\n",
              "      border-color: transparent;\n",
              "      border-right-color: var(--fill-color);\n",
              "      border-bottom-color: var(--fill-color);\n",
              "    }\n",
              "    90% {\n",
              "      border-color: transparent;\n",
              "      border-bottom-color: var(--fill-color);\n",
              "    }\n",
              "  }\n",
              "</style>\n",
              "\n",
              "  <script>\n",
              "    async function quickchart(key) {\n",
              "      const quickchartButtonEl =\n",
              "        document.querySelector('#' + key + ' button');\n",
              "      quickchartButtonEl.disabled = true;  // To prevent multiple clicks.\n",
              "      quickchartButtonEl.classList.add('colab-df-spinner');\n",
              "      try {\n",
              "        const charts = await google.colab.kernel.invokeFunction(\n",
              "            'suggestCharts', [key], {});\n",
              "      } catch (error) {\n",
              "        console.error('Error during call to suggestCharts:', error);\n",
              "      }\n",
              "      quickchartButtonEl.classList.remove('colab-df-spinner');\n",
              "      quickchartButtonEl.classList.add('colab-df-quickchart-complete');\n",
              "    }\n",
              "    (() => {\n",
              "      let quickchartButtonEl =\n",
              "        document.querySelector('#df-dd508d88-b3a5-4daa-af8e-68ae251ba36b button');\n",
              "      quickchartButtonEl.style.display =\n",
              "        google.colab.kernel.accessAllowed ? 'block' : 'none';\n",
              "    })();\n",
              "  </script>\n",
              "</div>\n",
              "\n",
              "    </div>\n",
              "  </div>\n"
            ],
            "application/vnd.google.colaboratory.intrinsic+json": {
              "type": "dataframe",
              "variable_name": "ins_qa",
              "summary": "{\n  \"name\": \"ins_qa\",\n  \"rows\": 140,\n  \"fields\": [\n    {\n      \"column\": \"text\",\n      \"properties\": {\n        \"dtype\": \"string\",\n        \"num_unique_values\": 138,\n        \"samples\": [\n          \"<s>[INST] Can I name my girl child as the nominee in the LIC policy? [/INST] Yes, you can designate your girl child as the nominee in your LIC policy. Naming her as the nominee ensures that, in the event of any unfortunate circumstance, the policy benefits directly go to her. </s>\",\n          \"<s>[INST] Free Look Period [/INST] A free look period is a specified duration after purchasing an insurance policy during which the policyholder can review the terms and conditions. If dissatisfied, the policy can be canceled, and the premium is refunded, excluding some nominal expenses. </s>\",\n          \"<s>[INST] Why is travel insurance important, especially for international trips? [/INST] While travel often conjures images of adventure and relaxation, unexpected events can quickly turn your dream vacation into a stressful experience. This is where travel insurance comes in, offering a safety net and financial protection when things go awry, especially for international trips. Here's why it's crucial: \\n\\nMedical Emergencies: \\n\\nForeign healthcare costs: Medical bills abroad can be exorbitant, especially in developed countries. Travel insurance helps cover medical expenses like hospitalization, doctor consultations, emergency medical evacuation, and even repatriation in case of serious illness or injury. This financial cushion ensures you receive proper care without worrying about the cost. \\nTrip Disruptions: \\n\\nFlight cancellations or delays: Missed flights, lost luggage, or unexpected changes in your itinerary can cause inconvenience and financial losses. Travel insurance can reimburse you for non-refundable expenses like pre-booked tours, accommodation costs due to delays, and even replacement flights in some cases. \\nLost or Stolen Belongings: \\n\\nValuable possessions: Losing your passport, phone, or other valuables abroad can be a nightmare. Travel insurance can provide compensation for lost, stolen, or damaged belongings, offering some peace of mind and potentially helping replace essential items. \\nAdditional Benefits: \\n\\nPersonal liability: Protection against accidental damage you cause to someone else's property or injury during your trip. \\nTrip cancellation: Coverage for trip cancellation costs due to unforeseen circumstances like illness, job loss, or natural disasters. \\nPolitical unrest or natural disasters: Some plans offer coverage for trip interruptions due to political unrest, natural disasters, or other unforeseen events. \\nInternational Travel Considerations: \\n\\nUnfamiliar healthcare systems: Navigating foreign healthcare systems can be challenging. Travel insurance can provide assistance with finding medical facilities, translation services, and communication with healthcare providers. \\nLanguage barriers: Communicating effectively in a foreign language can be difficult, especially during emergencies. Travel insurance can offer assistance with communication and translation services. \\nLimited knowledge of local laws and customs: Travel insurance can provide access to legal assistance and emergency support in case you encounter unfamiliar legal situations or cultural misunderstandings. \\nRemember: While travel insurance can't prevent unexpected events, it can significantly reduce their financial impact and ensure you have access to support and resources when you need them most. Consider the potential risks and costs associated with your specific travel plans before making a decision. By investing in travel insurance, you can enjoy your international adventure with greater peace of mind and financial security. </s>\"\n        ],\n        \"semantic_type\": \"\",\n        \"description\": \"\"\n      }\n    }\n  ]\n}"
            }
          },
          "metadata": {},
          "execution_count": 2
        }
      ],
      "source": [
        "ins_qa = pd.read_parquet(\"hf://datasets/sujra/insurance_llama2_145/data/train-00000-of-00001.parquet\")\n",
        "ins_qa.head()"
      ]
    },
    {
      "cell_type": "code",
      "source": [
        "# cleaning up the text format\n",
        "# Removing <s> and </s> tags\n",
        "ins_qa['text'] = ins_qa['text'].str.replace('<s>', '').str.replace('</s>', '')  # Replace 'text_column' with your actual column name\n",
        "\n",
        "import re\n",
        "\n",
        "\n",
        "# Function to extract question and answer\n",
        "def split_question_answer(text):\n",
        "    # Extract the question between [INST] and [/INST]\n",
        "    question_match = re.search(r'\\[INST\\](.*?)\\[/INST\\]', text)\n",
        "    # Extract the answer by removing the [INST]...[/INST] part\n",
        "    answer = re.sub(r'\\[INST\\].*?\\[/INST\\]', '', text).strip()\n",
        "\n",
        "    if question_match:\n",
        "        question = question_match.group(1).strip()  # Extract and clean question\n",
        "    else:\n",
        "        question = None  # No question found\n",
        "\n",
        "    return question, answer  # Return question and answer\n",
        "\n",
        "# Apply the function to split the text into 'Question' and 'Answer' columns\n",
        "ins_qa[['question', 'answer']] = ins_qa['text'].apply(lambda x: pd.Series(split_question_answer(x)))"
      ],
      "metadata": {
        "id": "QIANhSKQ6M2c"
      },
      "execution_count": null,
      "outputs": []
    },
    {
      "cell_type": "code",
      "source": [
        "#Checking my data set\n",
        "ins_qa.info()"
      ],
      "metadata": {
        "colab": {
          "base_uri": "https://localhost:8080/"
        },
        "id": "2_rceiHY6Qsy",
        "outputId": "d8759b5f-836b-48cd-d7ad-2d0364834134"
      },
      "execution_count": null,
      "outputs": [
        {
          "output_type": "stream",
          "name": "stdout",
          "text": [
            "<class 'pandas.core.frame.DataFrame'>\n",
            "RangeIndex: 140 entries, 0 to 139\n",
            "Data columns (total 3 columns):\n",
            " #   Column    Non-Null Count  Dtype \n",
            "---  ------    --------------  ----- \n",
            " 0   text      140 non-null    object\n",
            " 1   question  140 non-null    object\n",
            " 2   answer    140 non-null    object\n",
            "dtypes: object(3)\n",
            "memory usage: 3.4+ KB\n"
          ]
        }
      ]
    },
    {
      "cell_type": "code",
      "source": [
        "# Dropping the text column to include just q and a\n",
        "ins_qna = ins_qa.drop(columns=['text'], inplace=True)"
      ],
      "metadata": {
        "id": "b1HWupiw6UiZ"
      },
      "execution_count": null,
      "outputs": []
    },
    {
      "cell_type": "markdown",
      "source": [
        "## Prep Stock trading QnA [link to source](https://huggingface.co/datasets/yymYYM/stock_trading_QA)"
      ],
      "metadata": {
        "id": "CFwWoKUC7XWh"
      }
    },
    {
      "cell_type": "code",
      "source": [
        "import pandas as pd\n",
        "\n",
        "st_qna = pd.read_csv(\"hf://datasets/yymYYM/stock_trading_QA/stock_trading_qa_pairs_processed.csv\")\n",
        "st_qna.info()"
      ],
      "metadata": {
        "colab": {
          "base_uri": "https://localhost:8080/"
        },
        "id": "pR8h-zp877Vp",
        "outputId": "cb22f7c2-dce2-47b8-cb98-422110ce1c07"
      },
      "execution_count": null,
      "outputs": [
        {
          "output_type": "stream",
          "name": "stdout",
          "text": [
            "<class 'pandas.core.frame.DataFrame'>\n",
            "RangeIndex: 7165 entries, 0 to 7164\n",
            "Data columns (total 3 columns):\n",
            " #   Column      Non-Null Count  Dtype \n",
            "---  ------      --------------  ----- \n",
            " 0   Unnamed: 0  7165 non-null   int64 \n",
            " 1   question    7165 non-null   object\n",
            " 2   answer      7165 non-null   object\n",
            "dtypes: int64(1), object(2)\n",
            "memory usage: 168.1+ KB\n"
          ]
        }
      ]
    },
    {
      "cell_type": "code",
      "source": [
        "st_qna.columns\n",
        "st_qna.info()"
      ],
      "metadata": {
        "colab": {
          "base_uri": "https://localhost:8080/"
        },
        "id": "5u_-vrXP-P4H",
        "outputId": "a8291297-2a87-4731-e40c-f1926a6c1505"
      },
      "execution_count": null,
      "outputs": [
        {
          "output_type": "stream",
          "name": "stdout",
          "text": [
            "<class 'pandas.core.frame.DataFrame'>\n",
            "RangeIndex: 7165 entries, 0 to 7164\n",
            "Data columns (total 2 columns):\n",
            " #   Column    Non-Null Count  Dtype \n",
            "---  ------    --------------  ----- \n",
            " 0   question  7165 non-null   object\n",
            " 1   answer    7165 non-null   object\n",
            "dtypes: object(2)\n",
            "memory usage: 112.1+ KB\n"
          ]
        }
      ]
    },
    {
      "cell_type": "code",
      "source": [
        "# Dropping Unnamed:0 column to include just q and a\n",
        "#st_qna1 = st_qna.drop(columns=['Unnamed: 0'], inplace= True)\n"
      ],
      "metadata": {
        "id": "w1943OpM7-_F"
      },
      "execution_count": null,
      "outputs": []
    },
    {
      "cell_type": "code",
      "source": [
        "st_qna1 = st_qna.sample(n=145, random_state=42)"
      ],
      "metadata": {
        "id": "klB9ksMl9TER"
      },
      "execution_count": null,
      "outputs": []
    },
    {
      "cell_type": "markdown",
      "source": [
        "## Merge and Explore data set\n"
      ],
      "metadata": {
        "id": "pappYxlr8UEW"
      }
    },
    {
      "cell_type": "code",
      "source": [
        "from typing_extensions import final\n",
        "final_df = pd.concat([ins_qa, st_qna1], axis=0)\n",
        "\n",
        "# since i merge 2 data sets together I have to mix them before sampling 250\n",
        "final_df = final_df.sample(frac=1).reset_index(drop=True)\n",
        "final_df.info()"
      ],
      "metadata": {
        "colab": {
          "base_uri": "https://localhost:8080/"
        },
        "id": "LjB6LITU8T5-",
        "outputId": "5a1fdb88-777e-463f-97ba-b9600b04aaef"
      },
      "execution_count": null,
      "outputs": [
        {
          "output_type": "stream",
          "name": "stdout",
          "text": [
            "<class 'pandas.core.frame.DataFrame'>\n",
            "RangeIndex: 285 entries, 0 to 284\n",
            "Data columns (total 2 columns):\n",
            " #   Column    Non-Null Count  Dtype \n",
            "---  ------    --------------  ----- \n",
            " 0   question  285 non-null    object\n",
            " 1   answer    285 non-null    object\n",
            "dtypes: object(2)\n",
            "memory usage: 4.6+ KB\n"
          ]
        }
      ]
    },
    {
      "cell_type": "code",
      "source": [
        "# there are no null values\n",
        "qna_df = final_df\n",
        "\n",
        "def clean_text(text):\n",
        "    #text = text.str.lower()  # Lowercase using .str.lower() for Series\n",
        "    text = text.str.replace(r'\\s+', ' ', regex=True)  # Remove extra whitespace\n",
        "    text = text.str.replace(r'<.*?>', '', regex=True)  # Remove HTML tags if present\n",
        "    # Remove special characters except alphanumeric and common punctuation for questions/answers\n",
        "    text = text.str.replace(r'[^A-Za-z0-9\\s\\.,!?[\\]\"\"]', '', regex=True)\n",
        "    return text\n",
        "\n",
        "\n",
        "# Apply cleaning\n",
        "qna_df['question'] = clean_text(qna_df['question'])\n",
        "qna_df['answer'] = clean_text(qna_df['answer'])\n",
        "\n",
        "print(qna_df)"
      ],
      "metadata": {
        "colab": {
          "base_uri": "https://localhost:8080/"
        },
        "id": "8qED1Ih1-umf",
        "outputId": "d5edbb64-3931-4f64-cd07-0a2fd9567977"
      },
      "execution_count": null,
      "outputs": [
        {
          "output_type": "stream",
          "name": "stdout",
          "text": [
            "                                              question  \\\n",
            "0    What is the impact of inflation on stock tradi...   \n",
            "1    What role does market breadth play in quantita...   \n",
            "2    Summarize the key points to consider when rece...   \n",
            "3    What are technical indicators commonly used in...   \n",
            "4    How can one purchase LICs Cancer Cover Plan on...   \n",
            "..                                                 ...   \n",
            "280  How do the tax benefits of LIC policies compar...   \n",
            "281  Highlight the features and flexibility of HDFC...   \n",
            "282  What are the key benefits of LIC policies for ...   \n",
            "283  Can you explain the difference between life in...   \n",
            "284  Do independent agencies award higher financial...   \n",
            "\n",
            "                                                answer  \n",
            "0    Inflation can impact stock trading models by i...  \n",
            "1    Market breadth refers to the number of securit...  \n",
            "2    Personal Details Accuracy Verify the accuracy ...  \n",
            "3    Common technical indicators include moving ave...  \n",
            "4    The plan can be purchased online by visiting t...  \n",
            "..                                                 ...  \n",
            "280  Tax benefits of LIC policies, including deduct...  \n",
            "281  HDFC Lifes Click 2 Protect Life term plan offe...  \n",
            "282  LIC policies for the girl child offer benefits...  \n",
            "283  Life Insurance Coverage Focus Life insurance p...  \n",
            "284  Financial strength ratings from independent ag...  \n",
            "\n",
            "[285 rows x 2 columns]\n"
          ]
        }
      ]
    },
    {
      "cell_type": "code",
      "source": [
        "# Select rows not in english other language\n",
        "qna_df['question'].apply(lambda text: bool(re.search(r'[^\\x00-\\x7F]+', text)))"
      ],
      "metadata": {
        "colab": {
          "base_uri": "https://localhost:8080/",
          "height": 458
        },
        "id": "xcnIcYO0_IIv",
        "outputId": "a4d8ef20-14fb-4087-cd8f-5eae4ec0a3e6"
      },
      "execution_count": null,
      "outputs": [
        {
          "output_type": "execute_result",
          "data": {
            "text/plain": [
              "0      False\n",
              "1      False\n",
              "2      False\n",
              "3      False\n",
              "4      False\n",
              "       ...  \n",
              "280    False\n",
              "281    False\n",
              "282    False\n",
              "283    False\n",
              "284    False\n",
              "Name: question, Length: 285, dtype: bool"
            ],
            "text/html": [
              "<div>\n",
              "<style scoped>\n",
              "    .dataframe tbody tr th:only-of-type {\n",
              "        vertical-align: middle;\n",
              "    }\n",
              "\n",
              "    .dataframe tbody tr th {\n",
              "        vertical-align: top;\n",
              "    }\n",
              "\n",
              "    .dataframe thead th {\n",
              "        text-align: right;\n",
              "    }\n",
              "</style>\n",
              "<table border=\"1\" class=\"dataframe\">\n",
              "  <thead>\n",
              "    <tr style=\"text-align: right;\">\n",
              "      <th></th>\n",
              "      <th>question</th>\n",
              "    </tr>\n",
              "  </thead>\n",
              "  <tbody>\n",
              "    <tr>\n",
              "      <th>0</th>\n",
              "      <td>False</td>\n",
              "    </tr>\n",
              "    <tr>\n",
              "      <th>1</th>\n",
              "      <td>False</td>\n",
              "    </tr>\n",
              "    <tr>\n",
              "      <th>2</th>\n",
              "      <td>False</td>\n",
              "    </tr>\n",
              "    <tr>\n",
              "      <th>3</th>\n",
              "      <td>False</td>\n",
              "    </tr>\n",
              "    <tr>\n",
              "      <th>4</th>\n",
              "      <td>False</td>\n",
              "    </tr>\n",
              "    <tr>\n",
              "      <th>...</th>\n",
              "      <td>...</td>\n",
              "    </tr>\n",
              "    <tr>\n",
              "      <th>280</th>\n",
              "      <td>False</td>\n",
              "    </tr>\n",
              "    <tr>\n",
              "      <th>281</th>\n",
              "      <td>False</td>\n",
              "    </tr>\n",
              "    <tr>\n",
              "      <th>282</th>\n",
              "      <td>False</td>\n",
              "    </tr>\n",
              "    <tr>\n",
              "      <th>283</th>\n",
              "      <td>False</td>\n",
              "    </tr>\n",
              "    <tr>\n",
              "      <th>284</th>\n",
              "      <td>False</td>\n",
              "    </tr>\n",
              "  </tbody>\n",
              "</table>\n",
              "<p>285 rows × 1 columns</p>\n",
              "</div><br><label><b>dtype:</b> bool</label>"
            ]
          },
          "metadata": {},
          "execution_count": 14
        }
      ]
    },
    {
      "cell_type": "code",
      "source": [
        "# Check for duplicates\n",
        "print(f\"Duplicate question-answer pairs: {qna_df.duplicated(['question', 'answer']).sum()}\")\n",
        "qna_df1 = qna_df.drop_duplicates(subset=['question', 'answer'])\n",
        "\n"
      ],
      "metadata": {
        "colab": {
          "base_uri": "https://localhost:8080/"
        },
        "id": "8LjaDwo5_R53",
        "outputId": "b1b3e177-c9a6-4758-87c4-199b39f8b55d"
      },
      "execution_count": null,
      "outputs": [
        {
          "output_type": "stream",
          "name": "stdout",
          "text": [
            "Duplicate question-answer pairs: 2\n"
          ]
        }
      ]
    },
    {
      "cell_type": "code",
      "source": [
        "# Visualize text length distributions\n",
        "qna_df1['question_len'] = qna_df1['question'].apply(len)\n",
        "qna_df1['answer_len'] = qna_df1['answer'].apply(len)\n",
        "\n",
        "plt.figure(figsize=(10, 5))\n",
        "sns.histplot(qna_df1['question_len'], bins=100, kde=True, color='blue', label='Question Length')\n",
        "sns.histplot(qna_df1['answer_len'], bins=100, kde=True, color='green', label='Answer Length')\n",
        "plt.legend()\n",
        "plt.show()"
      ],
      "metadata": {
        "colab": {
          "base_uri": "https://localhost:8080/",
          "height": 693
        },
        "id": "jXsqTltE_Yva",
        "outputId": "f0529ea7-ae41-461a-aa45-62322ff4b06b"
      },
      "execution_count": null,
      "outputs": [
        {
          "output_type": "stream",
          "name": "stderr",
          "text": [
            "<ipython-input-16-9435b71212ea>:2: SettingWithCopyWarning: \n",
            "A value is trying to be set on a copy of a slice from a DataFrame.\n",
            "Try using .loc[row_indexer,col_indexer] = value instead\n",
            "\n",
            "See the caveats in the documentation: https://pandas.pydata.org/pandas-docs/stable/user_guide/indexing.html#returning-a-view-versus-a-copy\n",
            "  qna_df1['question_len'] = qna_df1['question'].apply(len)\n",
            "<ipython-input-16-9435b71212ea>:3: SettingWithCopyWarning: \n",
            "A value is trying to be set on a copy of a slice from a DataFrame.\n",
            "Try using .loc[row_indexer,col_indexer] = value instead\n",
            "\n",
            "See the caveats in the documentation: https://pandas.pydata.org/pandas-docs/stable/user_guide/indexing.html#returning-a-view-versus-a-copy\n",
            "  qna_df1['answer_len'] = qna_df1['answer'].apply(len)\n"
          ]
        },
        {
          "output_type": "display_data",
          "data": {
            "text/plain": [
              "<Figure size 1000x500 with 1 Axes>"
            ],
            "image/png": "[encoded data removed]"
          },
          "metadata": {}
        }
      ]
    },
    {
      "cell_type": "code",
      "source": [
        "qna_df1.drop(columns=['question_len', 'answer_len'], inplace=True)"
      ],
      "metadata": {
        "colab": {
          "base_uri": "https://localhost:8080/"
        },
        "id": "11wqC_30_mNY",
        "outputId": "f1ad14cf-1064-42c9-bd3f-c62b26229109"
      },
      "execution_count": null,
      "outputs": [
        {
          "output_type": "stream",
          "name": "stderr",
          "text": [
            "<ipython-input-17-a26fbbb4beb1>:1: SettingWithCopyWarning: \n",
            "A value is trying to be set on a copy of a slice from a DataFrame\n",
            "\n",
            "See the caveats in the documentation: https://pandas.pydata.org/pandas-docs/stable/user_guide/indexing.html#returning-a-view-versus-a-copy\n",
            "  qna_df1.drop(columns=['question_len', 'answer_len'], inplace=True)\n"
          ]
        }
      ]
    },
    {
      "cell_type": "code",
      "source": [
        "from sklearn.model_selection import train_test_split\n",
        "\n",
        "train_df, temp_df = train_test_split(qna_df1, test_size=0.3, random_state=42)\n",
        "val_df, test_df = train_test_split(temp_df, test_size=0.5, random_state=42)\n",
        "\n",
        "train_df.to_csv('train1_data.csv', index=False)\n",
        "val_df.to_csv('val1_data.csv', index=False)\n",
        "test_df.to_csv('test1_data.csv', index=False)"
      ],
      "metadata": {
        "id": "Dm_9L3Xx_uHN"
      },
      "execution_count": null,
      "outputs": []
    }
  ]
}